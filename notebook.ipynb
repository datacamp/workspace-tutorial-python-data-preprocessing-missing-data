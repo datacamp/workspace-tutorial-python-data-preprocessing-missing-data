{
 "cells": [
  {
   "cell_type": "markdown",
   "id": "d0eb4f16-5a99-460d-a5ba-706b7ef0bbe7",
   "metadata": {
    "id": "bA5ajAmk7XH6"
   },
   "source": [
    "## When do I need to care about missing data?"
   ]
  },
  {
   "cell_type": "markdown",
   "id": "4d0d457a-a5e8-4131-a810-25e2044c94cf",
   "metadata": {},
   "source": [
    "If you don't know some of the values in your dataset, then you can't\n",
    "\n",
    "- calculate summary statistics\n",
    "- run most machine learning models"
   ]
  },
  {
   "cell_type": "markdown",
   "id": "2ac23ce5-cf9e-4d47-8b3d-6c74efe08619",
   "metadata": {},
   "source": [
    "## Why is data sometimes missing?"
   ]
  },
  {
   "cell_type": "markdown",
   "id": "06600d7a-31e2-4474-9e60-12efc05e35d3",
   "metadata": {},
   "source": [
    "There are many reasons!\n",
    "\n",
    "- For survey data, perhaps someone declined to answer a question.\n",
    "- For website data, perhaps some users installed privacy tools so you could not track their behavior.\n",
    "- For sensor data, perhaps a sensor was not working, or a signal was too small to detect.\n",
    "\n",
    "Understanding why data is missing is crucial to deciding how best to deal with it."
   ]
  },
  {
   "cell_type": "markdown",
   "id": "dc6837de-dd29-42f5-8fda-30e03099c075",
   "metadata": {},
   "source": [
    "## How can I handle missing data?"
   ]
  },
  {
   "cell_type": "markdown",
   "id": "7d210729-8929-43ec-8514-3807217b198b",
   "metadata": {},
   "source": [
    "There are essentially two choices:\n",
    "\n",
    "- Delete the missing data (drop the rows from your dataset)\n",
    "- Make up reasonable values (imputation)"
   ]
  },
  {
   "cell_type": "markdown",
   "id": "455ee9f9-b495-40f2-8059-cb13adcefb88",
   "metadata": {},
   "source": [
    "## What are the steps for handling missing data?"
   ]
  },
  {
   "cell_type": "markdown",
   "id": "f6407097-9558-421e-aa2e-cc760ca373ee",
   "metadata": {},
   "source": [
    "1. Standardize how missing values are recorded\n",
    "2. Quantify how much missing data you have\n",
    "3. Either delete or impute the missing values\n",
    "4. Run your model (or do other analysis)\n",
    "5. Check the effect of missing values on your model"
   ]
  },
  {
   "cell_type": "markdown",
   "id": "c5bfc28e-8578-45bc-a7b3-9bb1985431f3",
   "metadata": {},
   "source": [
    "## What Python packages can I use for handling missing data?"
   ]
  },
  {
   "cell_type": "markdown",
   "id": "75ca8054-b68f-4685-8ab2-62a0771470c1",
   "metadata": {},
   "source": [
    "- **pandas** (used here)\n",
    "- **scikit-learn** (used here)\n",
    "- **PyCaret**"
   ]
  },
  {
   "cell_type": "markdown",
   "id": "50009e94-5d15-44a5-9c0a-57105466d626",
   "metadata": {},
   "source": [
    "## Limitations"
   ]
  },
  {
   "cell_type": "markdown",
   "id": "6416cd72-2ff1-4daa-b2c2-2fc183552454",
   "metadata": {},
   "source": [
    "- **Time series aren't covered here**. In time series data, rows at nearby time points are related, so they have their own methods for dealing with missing data.\n",
    "- **Survival analysis isn't covered here**. If values are missing because they exceed a threshold, then you have a survival analysis problem, which requires different techniques.\n",
    "- **Multiple imputation isn't covered here**. The most sophisticated techniques for dealing with missing data involve multiple imputation, but that isn't well supported in scikit-learn.\n",
    "- **Imputation is not valid when missing values are \"missing not at random\"**. If there is a pattern to the missingness caused by variables that aren't in the dataset, then the techniques discussed here aren't valid. "
   ]
  },
  {
   "cell_type": "markdown",
   "id": "a9e7c8af-bca3-4c7b-938d-6569941fc6ed",
   "metadata": {},
   "source": [
    "## Case study: Mammalian sleep durations"
   ]
  },
  {
   "cell_type": "markdown",
   "id": "eb669127-b53d-4887-b3a4-cd731637357f",
   "metadata": {},
   "source": [
    "Let's explore a popular dataset on mammalian sleep durations, `msleep`. The dataset was cribbed from a 2007 paper by V. M. Savage and G. B. West and Wikipedia, and was popularized by R's **ggplot2** package. It's available in Python via the **plotnine** package.\n",
    "\n",
    "Since the dataset is a dataframe, we'll import **pandas** too."
   ]
  },
  {
   "cell_type": "code",
   "execution_count": null,
   "id": "a08cffff-c1cc-4237-b5ba-d005b1495ea2",
   "metadata": {},
   "outputs": [],
   "source": [
    "import pandas as pd\n",
    "from plotnine.data import msleep"
   ]
  },
  {
   "cell_type": "markdown",
   "id": "5a8c5330-1526-4038-b417-1ec3a7f39d17",
   "metadata": {},
   "source": [
    "Some extra code has been added to demonstrate issues with dirty data."
   ]
  },
  {
   "cell_type": "code",
   "execution_count": null,
   "id": "be91c0b0-8300-46f2-94a7-2eea3e7b1973",
   "metadata": {},
   "outputs": [
    {
     "data": {
      "application/com.datacamp.data-table.v1+json": {
       "is_truncated": false,
       "table": {
        "data": [
         {
          "awake": 11.9,
          "bodywt": 50,
          "brainwt": null,
          "conservation": "lc",
          "genus": "Acinonyx",
          "index": 0,
          "name": "Cheetah",
          "order": "Carnivora",
          "sleep_cycle": null,
          "sleep_rem": -999,
          "sleep_total": 12.1,
          "vore": "carni"
         },
         {
          "awake": 7,
          "bodywt": 0.48,
          "brainwt": 0.0155,
          "conservation": "unknown",
          "genus": "Aotus",
          "index": 1,
          "name": "Owl monkey",
          "order": "Primates",
          "sleep_cycle": null,
          "sleep_rem": 1.8,
          "sleep_total": 17,
          "vore": "omni"
         },
         {
          "awake": 9.6,
          "bodywt": 1.35,
          "brainwt": null,
          "conservation": "nt",
          "genus": "Aplodontia",
          "index": 2,
          "name": "Mountain beaver",
          "order": "Rodentia",
          "sleep_cycle": null,
          "sleep_rem": 2.4,
          "sleep_total": 14.4,
          "vore": "herbi"
         },
         {
          "awake": 9.1,
          "bodywt": 0.019,
          "brainwt": 0.00029,
          "conservation": "lc",
          "genus": "Blarina",
          "index": 3,
          "name": "Greater short-tailed shrew",
          "order": "Soricomorpha",
          "sleep_cycle": 0.133333333,
          "sleep_rem": 2.3,
          "sleep_total": 14.9,
          "vore": "omni"
         },
         {
          "awake": 20,
          "bodywt": 600,
          "brainwt": 0.423,
          "conservation": "unknown",
          "genus": "Bos",
          "index": 4,
          "name": "Cow",
          "order": "Artiodactyla",
          "sleep_cycle": 0.666666667,
          "sleep_rem": 0.7,
          "sleep_total": 4,
          "vore": "herbi"
         },
         {
          "awake": 9.6,
          "bodywt": 3.85,
          "brainwt": null,
          "conservation": "unknown",
          "genus": "Bradypus",
          "index": 5,
          "name": "Three-toed sloth",
          "order": "Pilosa",
          "sleep_cycle": 0.766666667,
          "sleep_rem": 2.2,
          "sleep_total": 14.4,
          "vore": "herbi"
         },
         {
          "awake": 15.3,
          "bodywt": 20.49,
          "brainwt": null,
          "conservation": "vu",
          "genus": "Callorhinus",
          "index": 6,
          "name": "Northern fur seal",
          "order": "Carnivora",
          "sleep_cycle": 0.383333333,
          "sleep_rem": 1.4,
          "sleep_total": 8.7,
          "vore": "carni"
         },
         {
          "awake": 17,
          "bodywt": 0.045,
          "brainwt": null,
          "conservation": "unknown",
          "genus": "Calomys",
          "index": 7,
          "name": "Vesper mouse",
          "order": "Rodentia",
          "sleep_cycle": null,
          "sleep_rem": -999,
          "sleep_total": 7,
          "vore": null
         },
         {
          "awake": 13.9,
          "bodywt": 14,
          "brainwt": 0.07,
          "conservation": "unknown",
          "genus": "Canis",
          "index": 8,
          "name": "Dog",
          "order": "Carnivora",
          "sleep_cycle": 0.333333333,
          "sleep_rem": 2.9,
          "sleep_total": 10.1,
          "vore": "carni"
         },
         {
          "awake": 21,
          "bodywt": 14.8,
          "brainwt": 0.0982,
          "conservation": "lc",
          "genus": "Capreolus",
          "index": 9,
          "name": "Roe deer",
          "order": "Artiodactyla",
          "sleep_cycle": null,
          "sleep_rem": -999,
          "sleep_total": 3,
          "vore": "herbi"
         },
         {
          "awake": 18.7,
          "bodywt": 33.5,
          "brainwt": 0.115,
          "conservation": "lc",
          "genus": "Capri",
          "index": 10,
          "name": "Goat",
          "order": "Artiodactyla",
          "sleep_cycle": null,
          "sleep_rem": 0.6,
          "sleep_total": 5.3,
          "vore": "herbi"
         },
         {
          "awake": 14.6,
          "bodywt": 0.728,
          "brainwt": 0.0055,
          "conservation": "unknown",
          "genus": "Cavis",
          "index": 11,
          "name": "Guinea pig",
          "order": "Rodentia",
          "sleep_cycle": 0.216666667,
          "sleep_rem": 0.8,
          "sleep_total": 9.4,
          "vore": "herbi"
         },
         {
          "awake": 14,
          "bodywt": 4.75,
          "brainwt": null,
          "conservation": "lc",
          "genus": "Cercopithecus",
          "index": 12,
          "name": "Grivet",
          "order": "Primates",
          "sleep_cycle": null,
          "sleep_rem": 0.7,
          "sleep_total": 10,
          "vore": "omni"
         },
         {
          "awake": 11.5,
          "bodywt": 0.42,
          "brainwt": 0.0064,
          "conservation": "unknown",
          "genus": "Chinchilla",
          "index": 13,
          "name": "Chinchilla",
          "order": "Rodentia",
          "sleep_cycle": 0.116666667,
          "sleep_rem": 1.5,
          "sleep_total": 12.5,
          "vore": "herbi"
         },
         {
          "awake": 13.7,
          "bodywt": 0.06,
          "brainwt": 0.001,
          "conservation": "lc",
          "genus": "Condylura",
          "index": 14,
          "name": "Star-nosed mole",
          "order": "Soricomorpha",
          "sleep_cycle": null,
          "sleep_rem": 2.2,
          "sleep_total": 10.3,
          "vore": "omni"
         },
         {
          "awake": 15.7,
          "bodywt": 1,
          "brainwt": 0.0066,
          "conservation": "unknown",
          "genus": "Cricetomys",
          "index": 15,
          "name": "African giant pouched rat",
          "order": "Rodentia",
          "sleep_cycle": null,
          "sleep_rem": 2,
          "sleep_total": 8.3,
          "vore": "omni"
         },
         {
          "awake": 14.9,
          "bodywt": 0.005,
          "brainwt": 0.00014,
          "conservation": "lc",
          "genus": "Cryptotis",
          "index": 16,
          "name": "Lesser short-tailed shrew",
          "order": "Soricomorpha",
          "sleep_cycle": 0.15,
          "sleep_rem": 1.4,
          "sleep_total": 9.1,
          "vore": "omni"
         },
         {
          "awake": 6.6,
          "bodywt": 3.5,
          "brainwt": 0.0108,
          "conservation": "lc",
          "genus": "Dasypus",
          "index": 17,
          "name": "Long-nosed armadillo",
          "order": "Cingulata",
          "sleep_cycle": 0.383333333,
          "sleep_rem": 3.1,
          "sleep_total": 17.4,
          "vore": "carni"
         },
         {
          "awake": 18.7,
          "bodywt": 2.95,
          "brainwt": 0.0123,
          "conservation": "lc",
          "genus": "Dendrohyrax",
          "index": 18,
          "name": "Tree hyrax",
          "order": "Hyracoidea",
          "sleep_cycle": null,
          "sleep_rem": 0.5,
          "sleep_total": 5.3,
          "vore": "herbi"
         },
         {
          "awake": 6,
          "bodywt": 1.7,
          "brainwt": 0.0063,
          "conservation": "lc",
          "genus": "Didelphis",
          "index": 19,
          "name": "North American Opossum",
          "order": "Didelphimorphia",
          "sleep_cycle": 0.333333333,
          "sleep_rem": 4.9,
          "sleep_total": 18,
          "vore": "omni"
         },
         {
          "awake": 20.1,
          "bodywt": 2547,
          "brainwt": 4.603,
          "conservation": "en",
          "genus": "Elephas",
          "index": 20,
          "name": "Asian elephant",
          "order": "Proboscidea",
          "sleep_cycle": null,
          "sleep_rem": -999,
          "sleep_total": 3.9,
          "vore": "herbi"
         },
         {
          "awake": 4.3,
          "bodywt": 0.023,
          "brainwt": 0.0003,
          "conservation": "lc",
          "genus": "Eptesicus",
          "index": 21,
          "name": "Big brown bat",
          "order": "Chiroptera",
          "sleep_cycle": 0.116666667,
          "sleep_rem": 3.9,
          "sleep_total": 19.7,
          "vore": "insecti"
         },
         {
          "awake": 21.1,
          "bodywt": 521,
          "brainwt": 0.655,
          "conservation": "unknown",
          "genus": "Equus",
          "index": 22,
          "name": "Horse",
          "order": "Perissodactyla",
          "sleep_cycle": 1,
          "sleep_rem": 0.6,
          "sleep_total": 2.9,
          "vore": "herbi"
         },
         {
          "awake": 20.9,
          "bodywt": 187,
          "brainwt": 0.419,
          "conservation": "unknown",
          "genus": "Equus",
          "index": 23,
          "name": "Donkey",
          "order": "Perissodactyla",
          "sleep_cycle": null,
          "sleep_rem": 0.4,
          "sleep_total": 3.1,
          "vore": "herbi"
         },
         {
          "awake": 13.9,
          "bodywt": 0.77,
          "brainwt": 0.0035,
          "conservation": "lc",
          "genus": "Erinaceus",
          "index": 24,
          "name": "European hedgehog",
          "order": "Erinaceomorpha",
          "sleep_cycle": 0.283333333,
          "sleep_rem": 3.5,
          "sleep_total": 10.1,
          "vore": "omni"
         },
         {
          "awake": 13.1,
          "bodywt": 10,
          "brainwt": 0.115,
          "conservation": "lc",
          "genus": "Erythrocebus",
          "index": 25,
          "name": "Patas monkey",
          "order": "Primates",
          "sleep_cycle": null,
          "sleep_rem": 1.1,
          "sleep_total": 10.9,
          "vore": "omni"
         },
         {
          "awake": 9.1,
          "bodywt": 0.071,
          "brainwt": null,
          "conservation": "unknown",
          "genus": "Eutamias",
          "index": 26,
          "name": "Western american chipmunk",
          "order": "Rodentia",
          "sleep_cycle": null,
          "sleep_rem": -999,
          "sleep_total": 14.9,
          "vore": "herbi"
         },
         {
          "awake": 11.5,
          "bodywt": 3.3,
          "brainwt": 0.0256,
          "conservation": "unknown",
          "genus": "Felis",
          "index": 27,
          "name": "Domestic cat",
          "order": "Carnivora",
          "sleep_cycle": 0.416666667,
          "sleep_rem": 3.2,
          "sleep_total": 12.5,
          "vore": "carni"
         },
         {
          "awake": 14.2,
          "bodywt": 0.2,
          "brainwt": 0.005,
          "conservation": "unknown",
          "genus": "Galago",
          "index": 28,
          "name": "Galago",
          "order": "Primates",
          "sleep_cycle": 0.55,
          "sleep_rem": 1.1,
          "sleep_total": 9.8,
          "vore": "omni"
         },
         {
          "awake": 22.1,
          "bodywt": 899.995,
          "brainwt": null,
          "conservation": "unknown",
          "genus": "Giraffa",
          "index": 29,
          "name": "Giraffe",
          "order": "Artiodactyla",
          "sleep_cycle": null,
          "sleep_rem": 0.4,
          "sleep_total": 1.9,
          "vore": "herbi"
         },
         {
          "awake": 21.35,
          "bodywt": 800,
          "brainwt": null,
          "conservation": "unknown",
          "genus": "Globicephalus",
          "index": 30,
          "name": "Pilot whale",
          "order": "Cetacea",
          "sleep_cycle": null,
          "sleep_rem": 0.1,
          "sleep_total": 2.7,
          "vore": "carni"
         },
         {
          "awake": 17.8,
          "bodywt": 85,
          "brainwt": 0.325,
          "conservation": "lc",
          "genus": "Haliochoerus",
          "index": 31,
          "name": "Gray seal",
          "order": "Carnivora",
          "sleep_cycle": null,
          "sleep_rem": 1.5,
          "sleep_total": 6.2,
          "vore": "carni"
         },
         {
          "awake": 17.7,
          "bodywt": 2.625,
          "brainwt": 0.01227,
          "conservation": "lc",
          "genus": "Heterohyrax",
          "index": 32,
          "name": "Gray hyrax",
          "order": "Hyracoidea",
          "sleep_cycle": null,
          "sleep_rem": 0.6,
          "sleep_total": 6.3,
          "vore": "herbi"
         },
         {
          "awake": 16,
          "bodywt": 62,
          "brainwt": 1.32,
          "conservation": "unknown",
          "genus": "Homo",
          "index": 33,
          "name": "Human",
          "order": "Primates",
          "sleep_cycle": 1.5,
          "sleep_rem": 1.9,
          "sleep_total": 8,
          "vore": "omni"
         },
         {
          "awake": 14.5,
          "bodywt": 1.67,
          "brainwt": null,
          "conservation": "vu",
          "genus": "Lemur",
          "index": 34,
          "name": "Mongoose lemur",
          "order": "Primates",
          "sleep_cycle": null,
          "sleep_rem": 0.9,
          "sleep_total": 9.5,
          "vore": "herbi"
         },
         {
          "awake": 20.7,
          "bodywt": 6654,
          "brainwt": 5.712,
          "conservation": "vu",
          "genus": "Loxodonta",
          "index": 35,
          "name": "African elephant",
          "order": "Proboscidea",
          "sleep_cycle": null,
          "sleep_rem": -999,
          "sleep_total": 3.3,
          "vore": "herbi"
         },
         {
          "awake": 4.6,
          "bodywt": 0.37,
          "brainwt": null,
          "conservation": "lc",
          "genus": "Lutreolina",
          "index": 36,
          "name": "Thick-tailed opposum",
          "order": "Didelphimorphia",
          "sleep_cycle": null,
          "sleep_rem": 6.6,
          "sleep_total": 19.4,
          "vore": "carni"
         },
         {
          "awake": 13.9,
          "bodywt": 6.8,
          "brainwt": 0.179,
          "conservation": "unknown",
          "genus": "Macaca",
          "index": 37,
          "name": "Macaque",
          "order": "Primates",
          "sleep_cycle": 0.75,
          "sleep_rem": 1.2,
          "sleep_total": 10.1,
          "vore": "omni"
         },
         {
          "awake": 9.8,
          "bodywt": 0.053,
          "brainwt": null,
          "conservation": "lc",
          "genus": "Meriones",
          "index": 38,
          "name": "Mongolian gerbil",
          "order": "Rodentia",
          "sleep_cycle": null,
          "sleep_rem": 1.9,
          "sleep_total": 14.2,
          "vore": "herbi"
         },
         {
          "awake": 9.7,
          "bodywt": 0.12,
          "brainwt": 0.001,
          "conservation": "en",
          "genus": "Mesocricetus",
          "index": 39,
          "name": "Golden hamster",
          "order": "Rodentia",
          "sleep_cycle": 0.2,
          "sleep_rem": 3.1,
          "sleep_total": 14.3,
          "vore": "herbi"
         },
         {
          "awake": 11.2,
          "bodywt": 0.035,
          "brainwt": null,
          "conservation": "unknown",
          "genus": "Microtus",
          "index": 40,
          "name": "Vole ",
          "order": "Rodentia",
          "sleep_cycle": null,
          "sleep_rem": -999,
          "sleep_total": 12.8,
          "vore": "herbi"
         },
         {
          "awake": 11.5,
          "bodywt": 0.022,
          "brainwt": 0.0004,
          "conservation": "nt",
          "genus": "Mus",
          "index": 41,
          "name": "House mouse",
          "order": "Rodentia",
          "sleep_cycle": 0.183333333,
          "sleep_rem": 1.4,
          "sleep_total": 12.5,
          "vore": "herbi"
         },
         {
          "awake": 4.1,
          "bodywt": 0.01,
          "brainwt": 0.00025,
          "conservation": "unknown",
          "genus": "Myotis",
          "index": 42,
          "name": "Little brown bat",
          "order": "Chiroptera",
          "sleep_cycle": 0.2,
          "sleep_rem": 2,
          "sleep_total": 19.9,
          "vore": "insecti"
         },
         {
          "awake": 9.4,
          "bodywt": 0.266,
          "brainwt": null,
          "conservation": "nt",
          "genus": "Neofiber",
          "index": 43,
          "name": "Round-tailed muskrat",
          "order": "Rodentia",
          "sleep_cycle": null,
          "sleep_rem": -999,
          "sleep_total": 14.6,
          "vore": "herbi"
         },
         {
          "awake": 13,
          "bodywt": 1.4,
          "brainwt": 0.0125,
          "conservation": "unknown",
          "genus": "Nyctibeus",
          "index": 44,
          "name": "Slow loris",
          "order": "Primates",
          "sleep_cycle": null,
          "sleep_rem": -999,
          "sleep_total": 11,
          "vore": "carni"
         },
         {
          "awake": 16.3,
          "bodywt": 0.21,
          "brainwt": null,
          "conservation": "lc",
          "genus": "Octodon",
          "index": 45,
          "name": "Degu",
          "order": "Rodentia",
          "sleep_cycle": null,
          "sleep_rem": 0.9,
          "sleep_total": 7.7,
          "vore": "herbi"
         },
         {
          "awake": 9.5,
          "bodywt": 0.028,
          "brainwt": null,
          "conservation": "lc",
          "genus": "Onychomys",
          "index": 46,
          "name": "Northern grasshopper mouse",
          "order": "Rodentia",
          "sleep_cycle": null,
          "sleep_rem": -999,
          "sleep_total": 14.5,
          "vore": "carni"
         },
         {
          "awake": 15.6,
          "bodywt": 2.5,
          "brainwt": 0.0121,
          "conservation": "unknown",
          "genus": "Oryctolagus",
          "index": 47,
          "name": "Rabbit",
          "order": "Lagomorpha",
          "sleep_cycle": 0.416666667,
          "sleep_rem": 0.9,
          "sleep_total": 8.4,
          "vore": "herbi"
         },
         {
          "awake": 20.2,
          "bodywt": 55.5,
          "brainwt": 0.175,
          "conservation": "unknown",
          "genus": "Ovis",
          "index": 48,
          "name": "Sheep",
          "order": "Artiodactyla",
          "sleep_cycle": null,
          "sleep_rem": 0.6,
          "sleep_total": 3.8,
          "vore": "herbi"
         },
         {
          "awake": 14.3,
          "bodywt": 52.2,
          "brainwt": 0.44,
          "conservation": "unknown",
          "genus": "Pan",
          "index": 49,
          "name": "Chimpanzee",
          "order": "Primates",
          "sleep_cycle": 1.416666667,
          "sleep_rem": 1.4,
          "sleep_total": 9.7,
          "vore": "omni"
         },
         {
          "awake": 8.2,
          "bodywt": 162.564,
          "brainwt": null,
          "conservation": "en",
          "genus": "Panthera",
          "index": 50,
          "name": "Tiger",
          "order": "Carnivora",
          "sleep_cycle": null,
          "sleep_rem": -999,
          "sleep_total": 15.8,
          "vore": "carni"
         },
         {
          "awake": 13.6,
          "bodywt": 100,
          "brainwt": 0.157,
          "conservation": "nt",
          "genus": "Panthera",
          "index": 51,
          "name": "Jaguar",
          "order": "Carnivora",
          "sleep_cycle": null,
          "sleep_rem": -999,
          "sleep_total": 10.4,
          "vore": "carni"
         },
         {
          "awake": 10.5,
          "bodywt": 161.499,
          "brainwt": null,
          "conservation": "vu",
          "genus": "Panthera",
          "index": 52,
          "name": "Lion",
          "order": "Carnivora",
          "sleep_cycle": null,
          "sleep_rem": -999,
          "sleep_total": 13.5,
          "vore": "carni"
         },
         {
          "awake": 14.6,
          "bodywt": 25.235,
          "brainwt": 0.18,
          "conservation": "unknown",
          "genus": "Papio",
          "index": 53,
          "name": "Baboon",
          "order": "Primates",
          "sleep_cycle": 0.666666667,
          "sleep_rem": 1,
          "sleep_total": 9.4,
          "vore": "omni"
         },
         {
          "awake": 13.7,
          "bodywt": 0.55,
          "brainwt": 0.0024,
          "conservation": "lc",
          "genus": "Paraechinus",
          "index": 54,
          "name": "Desert hedgehog",
          "order": "Erinaceomorpha",
          "sleep_cycle": null,
          "sleep_rem": 2.7,
          "sleep_total": 10.3,
          "vore": null
         },
         {
          "awake": 13,
          "bodywt": 1.1,
          "brainwt": null,
          "conservation": "lc",
          "genus": "Perodicticus",
          "index": 55,
          "name": "Potto",
          "order": "Primates",
          "sleep_cycle": null,
          "sleep_rem": -999,
          "sleep_total": 11,
          "vore": "omni"
         },
         {
          "awake": 12.5,
          "bodywt": 0.021,
          "brainwt": null,
          "conservation": "unknown",
          "genus": "Peromyscus",
          "index": 56,
          "name": "Deer mouse",
          "order": "Rodentia",
          "sleep_cycle": null,
          "sleep_rem": -999,
          "sleep_total": 11.5,
          "vore": null
         },
         {
          "awake": 10.3,
          "bodywt": 1.62,
          "brainwt": 0.0114,
          "conservation": "unknown",
          "genus": "Phalanger",
          "index": 57,
          "name": "Phalanger",
          "order": "Diprotodontia",
          "sleep_cycle": null,
          "sleep_rem": 1.8,
          "sleep_total": 13.7,
          "vore": null
         },
         {
          "awake": 20.5,
          "bodywt": 86,
          "brainwt": null,
          "conservation": "vu",
          "genus": "Phoca",
          "index": 58,
          "name": "Caspian seal",
          "order": "Carnivora",
          "sleep_cycle": null,
          "sleep_rem": 0.4,
          "sleep_total": 3.5,
          "vore": "carni"
         },
         {
          "awake": 18.45,
          "bodywt": 53.18,
          "brainwt": null,
          "conservation": "vu",
          "genus": "Phocoena",
          "index": 59,
          "name": "Common porpoise",
          "order": "Cetacea",
          "sleep_cycle": null,
          "sleep_rem": -999,
          "sleep_total": 5.6,
          "vore": "carni"
         },
         {
          "awake": 12.9,
          "bodywt": 1.1,
          "brainwt": null,
          "conservation": "unknown",
          "genus": "Potorous",
          "index": 60,
          "name": "Potoroo",
          "order": "Diprotodontia",
          "sleep_cycle": null,
          "sleep_rem": 1.5,
          "sleep_total": 11.1,
          "vore": "herbi"
         },
         {
          "awake": 5.9,
          "bodywt": 60,
          "brainwt": 0.081,
          "conservation": "en",
          "genus": "Priodontes",
          "index": 61,
          "name": "Giant armadillo",
          "order": "Cingulata",
          "sleep_cycle": null,
          "sleep_rem": 6.1,
          "sleep_total": 18.1,
          "vore": "insecti"
         },
         {
          "awake": 18.6,
          "bodywt": 3.6,
          "brainwt": 0.021,
          "conservation": "lc",
          "genus": "Procavia",
          "index": 62,
          "name": "Rock hyrax",
          "order": "Hyracoidea",
          "sleep_cycle": null,
          "sleep_rem": 0.5,
          "sleep_total": 5.4,
          "vore": null
         },
         {
          "awake": 11,
          "bodywt": 0.32,
          "brainwt": 0.0019,
          "conservation": "lc",
          "genus": "Rattus",
          "index": 63,
          "name": "Laboratory rat",
          "order": "Rodentia",
          "sleep_cycle": 0.183333333,
          "sleep_rem": 2.4,
          "sleep_total": 13,
          "vore": "herbi"
         },
         {
          "awake": 15.3,
          "bodywt": 0.044,
          "brainwt": null,
          "conservation": "unknown",
          "genus": "Rhabdomys",
          "index": 64,
          "name": "African striped mouse",
          "order": "Rodentia",
          "sleep_cycle": null,
          "sleep_rem": -999,
          "sleep_total": 8.7,
          "vore": "omni"
         },
         {
          "awake": 14.4,
          "bodywt": 0.743,
          "brainwt": 0.02,
          "conservation": "unknown",
          "genus": "Saimiri",
          "index": 65,
          "name": "Squirrel monkey",
          "order": "Primates",
          "sleep_cycle": null,
          "sleep_rem": 1.4,
          "sleep_total": 9.6,
          "vore": "omni"
         },
         {
          "awake": 15.6,
          "bodywt": 0.075,
          "brainwt": 0.0012,
          "conservation": "lc",
          "genus": "Scalopus",
          "index": 66,
          "name": "Eastern american mole",
          "order": "Soricomorpha",
          "sleep_cycle": 0.166666667,
          "sleep_rem": 2.1,
          "sleep_total": 8.4,
          "vore": "insecti"
         },
         {
          "awake": 12.7,
          "bodywt": 0.148,
          "brainwt": 0.00118,
          "conservation": "unknown",
          "genus": "Sigmodon",
          "index": 67,
          "name": "Cotton rat",
          "order": "Rodentia",
          "sleep_cycle": 0.15,
          "sleep_rem": 1.1,
          "sleep_total": 11.3,
          "vore": "herbi"
         },
         {
          "awake": 13.4,
          "bodywt": 0.122,
          "brainwt": 0.003,
          "conservation": "unknown",
          "genus": "Spalax",
          "index": 68,
          "name": "Mole rat",
          "order": "Rodentia",
          "sleep_cycle": null,
          "sleep_rem": 2.4,
          "sleep_total": 10.6,
          "vore": null
         },
         {
          "awake": 7.4,
          "bodywt": 0.92,
          "brainwt": 0.0057,
          "conservation": "lc",
          "genus": "Spermophilus",
          "index": 69,
          "name": "Arctic ground squirrel",
          "order": "Rodentia",
          "sleep_cycle": null,
          "sleep_rem": -999,
          "sleep_total": 16.6,
          "vore": "herbi"
         },
         {
          "awake": 10.2,
          "bodywt": 0.101,
          "brainwt": 0.004,
          "conservation": "lc",
          "genus": "Spermophilus",
          "index": 70,
          "name": "Thirteen-lined ground squirrel",
          "order": "Rodentia",
          "sleep_cycle": 0.216666667,
          "sleep_rem": 3.4,
          "sleep_total": 13.8,
          "vore": "herbi"
         },
         {
          "awake": 8.1,
          "bodywt": 0.205,
          "brainwt": null,
          "conservation": "lc",
          "genus": "Spermophilus",
          "index": 71,
          "name": "Golden-mantled ground squirrel",
          "order": "Rodentia",
          "sleep_cycle": null,
          "sleep_rem": 3,
          "sleep_total": 15.9,
          "vore": "herbi"
         },
         {
          "awake": 11.2,
          "bodywt": 0.048,
          "brainwt": 0.00033,
          "conservation": "unknown",
          "genus": "Suncus",
          "index": 72,
          "name": "Musk shrew",
          "order": "Soricomorpha",
          "sleep_cycle": 0.183333333,
          "sleep_rem": 2,
          "sleep_total": 12.8,
          "vore": null
         },
         {
          "awake": 14.9,
          "bodywt": 86.25,
          "brainwt": 0.18,
          "conservation": "unknown",
          "genus": "Sus",
          "index": 73,
          "name": "Pig",
          "order": "Artiodactyla",
          "sleep_cycle": 0.5,
          "sleep_rem": 2.4,
          "sleep_total": 9.1,
          "vore": "omni"
         },
         {
          "awake": 15.4,
          "bodywt": 4.5,
          "brainwt": 0.025,
          "conservation": "unknown",
          "genus": "Tachyglossus",
          "index": 74,
          "name": "Short-nosed echidna",
          "order": "Monotremata",
          "sleep_cycle": null,
          "sleep_rem": -999,
          "sleep_total": 8.6,
          "vore": "insecti"
         },
         {
          "awake": 8.2,
          "bodywt": 0.112,
          "brainwt": null,
          "conservation": "unknown",
          "genus": "Tamias",
          "index": 75,
          "name": "Eastern american chipmunk",
          "order": "Rodentia",
          "sleep_cycle": null,
          "sleep_rem": -999,
          "sleep_total": 15.8,
          "vore": "herbi"
         },
         {
          "awake": 19.6,
          "bodywt": 207.501,
          "brainwt": 0.169,
          "conservation": "vu",
          "genus": "Tapirus",
          "index": 76,
          "name": "Brazilian tapir",
          "order": "Perissodactyla",
          "sleep_cycle": 0.9,
          "sleep_rem": 1,
          "sleep_total": 4.4,
          "vore": "herbi"
         },
         {
          "awake": 8.4,
          "bodywt": 0.9,
          "brainwt": 0.0026,
          "conservation": "unknown",
          "genus": "Tenrec",
          "index": 77,
          "name": "Tenrec",
          "order": "Afrosoricida",
          "sleep_cycle": null,
          "sleep_rem": 2.3,
          "sleep_total": 15.6,
          "vore": "omni"
         },
         {
          "awake": 15.1,
          "bodywt": 0.104,
          "brainwt": 0.0025,
          "conservation": "unknown",
          "genus": "Tupaia",
          "index": 78,
          "name": "Tree shrew",
          "order": "Scandentia",
          "sleep_cycle": 0.233333333,
          "sleep_rem": 2.6,
          "sleep_total": 8.9,
          "vore": "omni"
         },
         {
          "awake": 18.8,
          "bodywt": 173.33,
          "brainwt": null,
          "conservation": "unknown",
          "genus": "Tursiops",
          "index": 79,
          "name": "Bottle-nosed dolphin",
          "order": "Cetacea",
          "sleep_cycle": null,
          "sleep_rem": -999,
          "sleep_total": 5.2,
          "vore": "carni"
         },
         {
          "awake": 17.7,
          "bodywt": 2,
          "brainwt": 0.0175,
          "conservation": "unknown",
          "genus": "Genetta",
          "index": 80,
          "name": "Genet",
          "order": "Carnivora",
          "sleep_cycle": null,
          "sleep_rem": 1.3,
          "sleep_total": 6.3,
          "vore": "carni"
         },
         {
          "awake": 11.5,
          "bodywt": 3.38,
          "brainwt": 0.0445,
          "conservation": "unknown",
          "genus": "Vulpes",
          "index": 81,
          "name": "Arctic fox",
          "order": "Carnivora",
          "sleep_cycle": null,
          "sleep_rem": -999,
          "sleep_total": 12.5,
          "vore": "carni"
         },
         {
          "awake": 14.2,
          "bodywt": 4.23,
          "brainwt": 0.0504,
          "conservation": "unknown",
          "genus": "Vulpes",
          "index": 82,
          "name": "Red fox",
          "order": "Carnivora",
          "sleep_cycle": 0.35,
          "sleep_rem": 2.4,
          "sleep_total": 9.8,
          "vore": "carni"
         }
        ],
        "schema": {
         "fields": [
          {
           "name": "index",
           "type": "integer"
          },
          {
           "name": "name",
           "type": "string"
          },
          {
           "name": "genus",
           "type": "string"
          },
          {
           "constraints": {
            "enum": [
             "carni",
             "herbi",
             "insecti",
             "omni"
            ]
           },
           "name": "vore",
           "ordered": false,
           "type": "any"
          },
          {
           "name": "order",
           "type": "string"
          },
          {
           "constraints": {
            "enum": [
             "lc",
             "nt",
             "vu",
             "en",
             "cr",
             "ew",
             "ex",
             "unknown"
            ]
           },
           "name": "conservation",
           "ordered": true,
           "type": "any"
          },
          {
           "name": "sleep_total",
           "type": "number"
          },
          {
           "name": "sleep_rem",
           "type": "number"
          },
          {
           "name": "sleep_cycle",
           "type": "number"
          },
          {
           "name": "awake",
           "type": "number"
          },
          {
           "name": "brainwt",
           "type": "number"
          },
          {
           "name": "bodywt",
           "type": "number"
          }
         ],
         "pandas_version": "0.20.0",
         "primaryKey": [
          "index"
         ]
        }
       },
       "total_rows": 83
      },
      "text/html": [
       "<div>\n",
       "<style scoped>\n",
       "    .dataframe tbody tr th:only-of-type {\n",
       "        vertical-align: middle;\n",
       "    }\n",
       "\n",
       "    .dataframe tbody tr th {\n",
       "        vertical-align: top;\n",
       "    }\n",
       "\n",
       "    .dataframe thead th {\n",
       "        text-align: right;\n",
       "    }\n",
       "</style>\n",
       "<table border=\"1\" class=\"dataframe\">\n",
       "  <thead>\n",
       "    <tr style=\"text-align: right;\">\n",
       "      <th></th>\n",
       "      <th>name</th>\n",
       "      <th>genus</th>\n",
       "      <th>vore</th>\n",
       "      <th>order</th>\n",
       "      <th>conservation</th>\n",
       "      <th>sleep_total</th>\n",
       "      <th>sleep_rem</th>\n",
       "      <th>sleep_cycle</th>\n",
       "      <th>awake</th>\n",
       "      <th>brainwt</th>\n",
       "      <th>bodywt</th>\n",
       "    </tr>\n",
       "  </thead>\n",
       "  <tbody>\n",
       "    <tr>\n",
       "      <th>0</th>\n",
       "      <td>Cheetah</td>\n",
       "      <td>Acinonyx</td>\n",
       "      <td>carni</td>\n",
       "      <td>Carnivora</td>\n",
       "      <td>lc</td>\n",
       "      <td>12.1</td>\n",
       "      <td>-999.0</td>\n",
       "      <td>NaN</td>\n",
       "      <td>11.9</td>\n",
       "      <td>NaN</td>\n",
       "      <td>50.000</td>\n",
       "    </tr>\n",
       "    <tr>\n",
       "      <th>1</th>\n",
       "      <td>Owl monkey</td>\n",
       "      <td>Aotus</td>\n",
       "      <td>omni</td>\n",
       "      <td>Primates</td>\n",
       "      <td>unknown</td>\n",
       "      <td>17.0</td>\n",
       "      <td>1.8</td>\n",
       "      <td>NaN</td>\n",
       "      <td>7.0</td>\n",
       "      <td>0.01550</td>\n",
       "      <td>0.480</td>\n",
       "    </tr>\n",
       "    <tr>\n",
       "      <th>2</th>\n",
       "      <td>Mountain beaver</td>\n",
       "      <td>Aplodontia</td>\n",
       "      <td>herbi</td>\n",
       "      <td>Rodentia</td>\n",
       "      <td>nt</td>\n",
       "      <td>14.4</td>\n",
       "      <td>2.4</td>\n",
       "      <td>NaN</td>\n",
       "      <td>9.6</td>\n",
       "      <td>NaN</td>\n",
       "      <td>1.350</td>\n",
       "    </tr>\n",
       "    <tr>\n",
       "      <th>3</th>\n",
       "      <td>Greater short-tailed shrew</td>\n",
       "      <td>Blarina</td>\n",
       "      <td>omni</td>\n",
       "      <td>Soricomorpha</td>\n",
       "      <td>lc</td>\n",
       "      <td>14.9</td>\n",
       "      <td>2.3</td>\n",
       "      <td>0.133333</td>\n",
       "      <td>9.1</td>\n",
       "      <td>0.00029</td>\n",
       "      <td>0.019</td>\n",
       "    </tr>\n",
       "    <tr>\n",
       "      <th>4</th>\n",
       "      <td>Cow</td>\n",
       "      <td>Bos</td>\n",
       "      <td>herbi</td>\n",
       "      <td>Artiodactyla</td>\n",
       "      <td>unknown</td>\n",
       "      <td>4.0</td>\n",
       "      <td>0.7</td>\n",
       "      <td>0.666667</td>\n",
       "      <td>20.0</td>\n",
       "      <td>0.42300</td>\n",
       "      <td>600.000</td>\n",
       "    </tr>\n",
       "    <tr>\n",
       "      <th>...</th>\n",
       "      <td>...</td>\n",
       "      <td>...</td>\n",
       "      <td>...</td>\n",
       "      <td>...</td>\n",
       "      <td>...</td>\n",
       "      <td>...</td>\n",
       "      <td>...</td>\n",
       "      <td>...</td>\n",
       "      <td>...</td>\n",
       "      <td>...</td>\n",
       "      <td>...</td>\n",
       "    </tr>\n",
       "    <tr>\n",
       "      <th>78</th>\n",
       "      <td>Tree shrew</td>\n",
       "      <td>Tupaia</td>\n",
       "      <td>omni</td>\n",
       "      <td>Scandentia</td>\n",
       "      <td>unknown</td>\n",
       "      <td>8.9</td>\n",
       "      <td>2.6</td>\n",
       "      <td>0.233333</td>\n",
       "      <td>15.1</td>\n",
       "      <td>0.00250</td>\n",
       "      <td>0.104</td>\n",
       "    </tr>\n",
       "    <tr>\n",
       "      <th>79</th>\n",
       "      <td>Bottle-nosed dolphin</td>\n",
       "      <td>Tursiops</td>\n",
       "      <td>carni</td>\n",
       "      <td>Cetacea</td>\n",
       "      <td>unknown</td>\n",
       "      <td>5.2</td>\n",
       "      <td>-999.0</td>\n",
       "      <td>NaN</td>\n",
       "      <td>18.8</td>\n",
       "      <td>NaN</td>\n",
       "      <td>173.330</td>\n",
       "    </tr>\n",
       "    <tr>\n",
       "      <th>80</th>\n",
       "      <td>Genet</td>\n",
       "      <td>Genetta</td>\n",
       "      <td>carni</td>\n",
       "      <td>Carnivora</td>\n",
       "      <td>unknown</td>\n",
       "      <td>6.3</td>\n",
       "      <td>1.3</td>\n",
       "      <td>NaN</td>\n",
       "      <td>17.7</td>\n",
       "      <td>0.01750</td>\n",
       "      <td>2.000</td>\n",
       "    </tr>\n",
       "    <tr>\n",
       "      <th>81</th>\n",
       "      <td>Arctic fox</td>\n",
       "      <td>Vulpes</td>\n",
       "      <td>carni</td>\n",
       "      <td>Carnivora</td>\n",
       "      <td>unknown</td>\n",
       "      <td>12.5</td>\n",
       "      <td>-999.0</td>\n",
       "      <td>NaN</td>\n",
       "      <td>11.5</td>\n",
       "      <td>0.04450</td>\n",
       "      <td>3.380</td>\n",
       "    </tr>\n",
       "    <tr>\n",
       "      <th>82</th>\n",
       "      <td>Red fox</td>\n",
       "      <td>Vulpes</td>\n",
       "      <td>carni</td>\n",
       "      <td>Carnivora</td>\n",
       "      <td>unknown</td>\n",
       "      <td>9.8</td>\n",
       "      <td>2.4</td>\n",
       "      <td>0.350000</td>\n",
       "      <td>14.2</td>\n",
       "      <td>0.05040</td>\n",
       "      <td>4.230</td>\n",
       "    </tr>\n",
       "  </tbody>\n",
       "</table>\n",
       "<p>83 rows × 11 columns</p>\n",
       "</div>"
      ],
      "text/plain": [
       "                          name       genus   vore         order conservation  \\\n",
       "0                      Cheetah    Acinonyx  carni     Carnivora           lc   \n",
       "1                   Owl monkey       Aotus   omni      Primates      unknown   \n",
       "2              Mountain beaver  Aplodontia  herbi      Rodentia           nt   \n",
       "3   Greater short-tailed shrew     Blarina   omni  Soricomorpha           lc   \n",
       "4                          Cow         Bos  herbi  Artiodactyla      unknown   \n",
       "..                         ...         ...    ...           ...          ...   \n",
       "78                  Tree shrew      Tupaia   omni    Scandentia      unknown   \n",
       "79        Bottle-nosed dolphin    Tursiops  carni       Cetacea      unknown   \n",
       "80                       Genet     Genetta  carni     Carnivora      unknown   \n",
       "81                  Arctic fox      Vulpes  carni     Carnivora      unknown   \n",
       "82                     Red fox      Vulpes  carni     Carnivora      unknown   \n",
       "\n",
       "    sleep_total  sleep_rem  sleep_cycle  awake  brainwt   bodywt  \n",
       "0          12.1     -999.0          NaN   11.9      NaN   50.000  \n",
       "1          17.0        1.8          NaN    7.0  0.01550    0.480  \n",
       "2          14.4        2.4          NaN    9.6      NaN    1.350  \n",
       "3          14.9        2.3     0.133333    9.1  0.00029    0.019  \n",
       "4           4.0        0.7     0.666667   20.0  0.42300  600.000  \n",
       "..          ...        ...          ...    ...      ...      ...  \n",
       "78          8.9        2.6     0.233333   15.1  0.00250    0.104  \n",
       "79          5.2     -999.0          NaN   18.8      NaN  173.330  \n",
       "80          6.3        1.3          NaN   17.7  0.01750    2.000  \n",
       "81         12.5     -999.0          NaN   11.5  0.04450    3.380  \n",
       "82          9.8        2.4     0.350000   14.2  0.05040    4.230  \n",
       "\n",
       "[83 rows x 11 columns]"
      ]
     },
     "execution_count": 3,
     "metadata": {},
     "output_type": "execute_result"
    }
   ],
   "source": [
    "msleep_dirty = msleep.copy()\n",
    "msleep_dirty[\"conservation\"] = msleep_dirty[\"conservation\"].cat.set_categories([\"lc\", \"nt\", \"vu\", \"en\", \"cr\", \"ew\", \"ex\", \"unknown\"], ordered=True).fillna(value=\"unknown\")\n",
    "msleep_dirty[\"sleep_rem\"] = msleep_dirty[\"sleep_rem\"].fillna(value=-999)\n",
    "msleep_dirty"
   ]
  },
  {
   "cell_type": "markdown",
   "id": "481a29ff-bd19-4f5f-91e9-08b02bb5501d",
   "metadata": {},
   "source": [
    "## Standardizing missing values"
   ]
  },
  {
   "cell_type": "markdown",
   "id": "1cc33774-ed0b-4f1f-82e1-3b71ff653ca2",
   "metadata": {},
   "source": [
    "Before we can deal with missing data, we must standardize the format of the missing values. That means\n",
    "\n",
    "- converting strings like `\"N/A\"` or `\"unknown\"` to true NAs.\n",
    "- converting code numbers like `-999` to true NAs.\n",
    "\n",
    "By a \"true NA\", I mean **NumPy**'s `nan` value. (**pandas** also has a special value for missing data, `NA`, but it isn't yet widely supported.)"
   ]
  },
  {
   "cell_type": "code",
   "execution_count": null,
   "id": "a5cb3ac1-5e6c-4ced-b15f-c198dd740fa2",
   "metadata": {},
   "outputs": [],
   "source": [
    "from numpy import nan"
   ]
  },
  {
   "cell_type": "markdown",
   "id": "7309793a-2bec-4701-959a-1b94fbc188de",
   "metadata": {},
   "source": [
    "To standardize the missing values, we replace them using the [`.replace()`](https://pandas.pydata.org/pandas-docs/stable/reference/api/pandas.DataFrame.replace.html) method."
   ]
  },
  {
   "cell_type": "code",
   "execution_count": null,
   "id": "a60592b7-7dd2-40f5-b66c-badf64afbe82",
   "metadata": {},
   "outputs": [
    {
     "data": {
      "application/com.datacamp.data-table.v1+json": {
       "is_truncated": false,
       "table": {
        "data": [
         {
          "awake": 11.9,
          "bodywt": 50,
          "brainwt": null,
          "conservation": "lc",
          "genus": "Acinonyx",
          "index": 0,
          "name": "Cheetah",
          "order": "Carnivora",
          "sleep_cycle": null,
          "sleep_rem": null,
          "sleep_total": 12.1,
          "vore": "carni"
         },
         {
          "awake": 7,
          "bodywt": 0.48,
          "brainwt": 0.0155,
          "conservation": null,
          "genus": "Aotus",
          "index": 1,
          "name": "Owl monkey",
          "order": "Primates",
          "sleep_cycle": null,
          "sleep_rem": 1.8,
          "sleep_total": 17,
          "vore": "omni"
         },
         {
          "awake": 9.6,
          "bodywt": 1.35,
          "brainwt": null,
          "conservation": "nt",
          "genus": "Aplodontia",
          "index": 2,
          "name": "Mountain beaver",
          "order": "Rodentia",
          "sleep_cycle": null,
          "sleep_rem": 2.4,
          "sleep_total": 14.4,
          "vore": "herbi"
         },
         {
          "awake": 9.1,
          "bodywt": 0.019,
          "brainwt": 0.00029,
          "conservation": "lc",
          "genus": "Blarina",
          "index": 3,
          "name": "Greater short-tailed shrew",
          "order": "Soricomorpha",
          "sleep_cycle": 0.133333333,
          "sleep_rem": 2.3,
          "sleep_total": 14.9,
          "vore": "omni"
         },
         {
          "awake": 20,
          "bodywt": 600,
          "brainwt": 0.423,
          "conservation": null,
          "genus": "Bos",
          "index": 4,
          "name": "Cow",
          "order": "Artiodactyla",
          "sleep_cycle": 0.666666667,
          "sleep_rem": 0.7,
          "sleep_total": 4,
          "vore": "herbi"
         },
         {
          "awake": 9.6,
          "bodywt": 3.85,
          "brainwt": null,
          "conservation": null,
          "genus": "Bradypus",
          "index": 5,
          "name": "Three-toed sloth",
          "order": "Pilosa",
          "sleep_cycle": 0.766666667,
          "sleep_rem": 2.2,
          "sleep_total": 14.4,
          "vore": "herbi"
         },
         {
          "awake": 15.3,
          "bodywt": 20.49,
          "brainwt": null,
          "conservation": "vu",
          "genus": "Callorhinus",
          "index": 6,
          "name": "Northern fur seal",
          "order": "Carnivora",
          "sleep_cycle": 0.383333333,
          "sleep_rem": 1.4,
          "sleep_total": 8.7,
          "vore": "carni"
         },
         {
          "awake": 17,
          "bodywt": 0.045,
          "brainwt": null,
          "conservation": null,
          "genus": "Calomys",
          "index": 7,
          "name": "Vesper mouse",
          "order": "Rodentia",
          "sleep_cycle": null,
          "sleep_rem": null,
          "sleep_total": 7,
          "vore": null
         },
         {
          "awake": 13.9,
          "bodywt": 14,
          "brainwt": 0.07,
          "conservation": null,
          "genus": "Canis",
          "index": 8,
          "name": "Dog",
          "order": "Carnivora",
          "sleep_cycle": 0.333333333,
          "sleep_rem": 2.9,
          "sleep_total": 10.1,
          "vore": "carni"
         },
         {
          "awake": 21,
          "bodywt": 14.8,
          "brainwt": 0.0982,
          "conservation": "lc",
          "genus": "Capreolus",
          "index": 9,
          "name": "Roe deer",
          "order": "Artiodactyla",
          "sleep_cycle": null,
          "sleep_rem": null,
          "sleep_total": 3,
          "vore": "herbi"
         },
         {
          "awake": 18.7,
          "bodywt": 33.5,
          "brainwt": 0.115,
          "conservation": "lc",
          "genus": "Capri",
          "index": 10,
          "name": "Goat",
          "order": "Artiodactyla",
          "sleep_cycle": null,
          "sleep_rem": 0.6,
          "sleep_total": 5.3,
          "vore": "herbi"
         },
         {
          "awake": 14.6,
          "bodywt": 0.728,
          "brainwt": 0.0055,
          "conservation": null,
          "genus": "Cavis",
          "index": 11,
          "name": "Guinea pig",
          "order": "Rodentia",
          "sleep_cycle": 0.216666667,
          "sleep_rem": 0.8,
          "sleep_total": 9.4,
          "vore": "herbi"
         },
         {
          "awake": 14,
          "bodywt": 4.75,
          "brainwt": null,
          "conservation": "lc",
          "genus": "Cercopithecus",
          "index": 12,
          "name": "Grivet",
          "order": "Primates",
          "sleep_cycle": null,
          "sleep_rem": 0.7,
          "sleep_total": 10,
          "vore": "omni"
         },
         {
          "awake": 11.5,
          "bodywt": 0.42,
          "brainwt": 0.0064,
          "conservation": null,
          "genus": "Chinchilla",
          "index": 13,
          "name": "Chinchilla",
          "order": "Rodentia",
          "sleep_cycle": 0.116666667,
          "sleep_rem": 1.5,
          "sleep_total": 12.5,
          "vore": "herbi"
         },
         {
          "awake": 13.7,
          "bodywt": 0.06,
          "brainwt": 0.001,
          "conservation": "lc",
          "genus": "Condylura",
          "index": 14,
          "name": "Star-nosed mole",
          "order": "Soricomorpha",
          "sleep_cycle": null,
          "sleep_rem": 2.2,
          "sleep_total": 10.3,
          "vore": "omni"
         },
         {
          "awake": 15.7,
          "bodywt": 1,
          "brainwt": 0.0066,
          "conservation": null,
          "genus": "Cricetomys",
          "index": 15,
          "name": "African giant pouched rat",
          "order": "Rodentia",
          "sleep_cycle": null,
          "sleep_rem": 2,
          "sleep_total": 8.3,
          "vore": "omni"
         },
         {
          "awake": 14.9,
          "bodywt": 0.005,
          "brainwt": 0.00014,
          "conservation": "lc",
          "genus": "Cryptotis",
          "index": 16,
          "name": "Lesser short-tailed shrew",
          "order": "Soricomorpha",
          "sleep_cycle": 0.15,
          "sleep_rem": 1.4,
          "sleep_total": 9.1,
          "vore": "omni"
         },
         {
          "awake": 6.6,
          "bodywt": 3.5,
          "brainwt": 0.0108,
          "conservation": "lc",
          "genus": "Dasypus",
          "index": 17,
          "name": "Long-nosed armadillo",
          "order": "Cingulata",
          "sleep_cycle": 0.383333333,
          "sleep_rem": 3.1,
          "sleep_total": 17.4,
          "vore": "carni"
         },
         {
          "awake": 18.7,
          "bodywt": 2.95,
          "brainwt": 0.0123,
          "conservation": "lc",
          "genus": "Dendrohyrax",
          "index": 18,
          "name": "Tree hyrax",
          "order": "Hyracoidea",
          "sleep_cycle": null,
          "sleep_rem": 0.5,
          "sleep_total": 5.3,
          "vore": "herbi"
         },
         {
          "awake": 6,
          "bodywt": 1.7,
          "brainwt": 0.0063,
          "conservation": "lc",
          "genus": "Didelphis",
          "index": 19,
          "name": "North American Opossum",
          "order": "Didelphimorphia",
          "sleep_cycle": 0.333333333,
          "sleep_rem": 4.9,
          "sleep_total": 18,
          "vore": "omni"
         },
         {
          "awake": 20.1,
          "bodywt": 2547,
          "brainwt": 4.603,
          "conservation": "en",
          "genus": "Elephas",
          "index": 20,
          "name": "Asian elephant",
          "order": "Proboscidea",
          "sleep_cycle": null,
          "sleep_rem": null,
          "sleep_total": 3.9,
          "vore": "herbi"
         },
         {
          "awake": 4.3,
          "bodywt": 0.023,
          "brainwt": 0.0003,
          "conservation": "lc",
          "genus": "Eptesicus",
          "index": 21,
          "name": "Big brown bat",
          "order": "Chiroptera",
          "sleep_cycle": 0.116666667,
          "sleep_rem": 3.9,
          "sleep_total": 19.7,
          "vore": "insecti"
         },
         {
          "awake": 21.1,
          "bodywt": 521,
          "brainwt": 0.655,
          "conservation": null,
          "genus": "Equus",
          "index": 22,
          "name": "Horse",
          "order": "Perissodactyla",
          "sleep_cycle": 1,
          "sleep_rem": 0.6,
          "sleep_total": 2.9,
          "vore": "herbi"
         },
         {
          "awake": 20.9,
          "bodywt": 187,
          "brainwt": 0.419,
          "conservation": null,
          "genus": "Equus",
          "index": 23,
          "name": "Donkey",
          "order": "Perissodactyla",
          "sleep_cycle": null,
          "sleep_rem": 0.4,
          "sleep_total": 3.1,
          "vore": "herbi"
         },
         {
          "awake": 13.9,
          "bodywt": 0.77,
          "brainwt": 0.0035,
          "conservation": "lc",
          "genus": "Erinaceus",
          "index": 24,
          "name": "European hedgehog",
          "order": "Erinaceomorpha",
          "sleep_cycle": 0.283333333,
          "sleep_rem": 3.5,
          "sleep_total": 10.1,
          "vore": "omni"
         },
         {
          "awake": 13.1,
          "bodywt": 10,
          "brainwt": 0.115,
          "conservation": "lc",
          "genus": "Erythrocebus",
          "index": 25,
          "name": "Patas monkey",
          "order": "Primates",
          "sleep_cycle": null,
          "sleep_rem": 1.1,
          "sleep_total": 10.9,
          "vore": "omni"
         },
         {
          "awake": 9.1,
          "bodywt": 0.071,
          "brainwt": null,
          "conservation": null,
          "genus": "Eutamias",
          "index": 26,
          "name": "Western american chipmunk",
          "order": "Rodentia",
          "sleep_cycle": null,
          "sleep_rem": null,
          "sleep_total": 14.9,
          "vore": "herbi"
         },
         {
          "awake": 11.5,
          "bodywt": 3.3,
          "brainwt": 0.0256,
          "conservation": null,
          "genus": "Felis",
          "index": 27,
          "name": "Domestic cat",
          "order": "Carnivora",
          "sleep_cycle": 0.416666667,
          "sleep_rem": 3.2,
          "sleep_total": 12.5,
          "vore": "carni"
         },
         {
          "awake": 14.2,
          "bodywt": 0.2,
          "brainwt": 0.005,
          "conservation": null,
          "genus": "Galago",
          "index": 28,
          "name": "Galago",
          "order": "Primates",
          "sleep_cycle": 0.55,
          "sleep_rem": 1.1,
          "sleep_total": 9.8,
          "vore": "omni"
         },
         {
          "awake": 22.1,
          "bodywt": 899.995,
          "brainwt": null,
          "conservation": null,
          "genus": "Giraffa",
          "index": 29,
          "name": "Giraffe",
          "order": "Artiodactyla",
          "sleep_cycle": null,
          "sleep_rem": 0.4,
          "sleep_total": 1.9,
          "vore": "herbi"
         },
         {
          "awake": 21.35,
          "bodywt": 800,
          "brainwt": null,
          "conservation": null,
          "genus": "Globicephalus",
          "index": 30,
          "name": "Pilot whale",
          "order": "Cetacea",
          "sleep_cycle": null,
          "sleep_rem": 0.1,
          "sleep_total": 2.7,
          "vore": "carni"
         },
         {
          "awake": 17.8,
          "bodywt": 85,
          "brainwt": 0.325,
          "conservation": "lc",
          "genus": "Haliochoerus",
          "index": 31,
          "name": "Gray seal",
          "order": "Carnivora",
          "sleep_cycle": null,
          "sleep_rem": 1.5,
          "sleep_total": 6.2,
          "vore": "carni"
         },
         {
          "awake": 17.7,
          "bodywt": 2.625,
          "brainwt": 0.01227,
          "conservation": "lc",
          "genus": "Heterohyrax",
          "index": 32,
          "name": "Gray hyrax",
          "order": "Hyracoidea",
          "sleep_cycle": null,
          "sleep_rem": 0.6,
          "sleep_total": 6.3,
          "vore": "herbi"
         },
         {
          "awake": 16,
          "bodywt": 62,
          "brainwt": 1.32,
          "conservation": null,
          "genus": "Homo",
          "index": 33,
          "name": "Human",
          "order": "Primates",
          "sleep_cycle": 1.5,
          "sleep_rem": 1.9,
          "sleep_total": 8,
          "vore": "omni"
         },
         {
          "awake": 14.5,
          "bodywt": 1.67,
          "brainwt": null,
          "conservation": "vu",
          "genus": "Lemur",
          "index": 34,
          "name": "Mongoose lemur",
          "order": "Primates",
          "sleep_cycle": null,
          "sleep_rem": 0.9,
          "sleep_total": 9.5,
          "vore": "herbi"
         },
         {
          "awake": 20.7,
          "bodywt": 6654,
          "brainwt": 5.712,
          "conservation": "vu",
          "genus": "Loxodonta",
          "index": 35,
          "name": "African elephant",
          "order": "Proboscidea",
          "sleep_cycle": null,
          "sleep_rem": null,
          "sleep_total": 3.3,
          "vore": "herbi"
         },
         {
          "awake": 4.6,
          "bodywt": 0.37,
          "brainwt": null,
          "conservation": "lc",
          "genus": "Lutreolina",
          "index": 36,
          "name": "Thick-tailed opposum",
          "order": "Didelphimorphia",
          "sleep_cycle": null,
          "sleep_rem": 6.6,
          "sleep_total": 19.4,
          "vore": "carni"
         },
         {
          "awake": 13.9,
          "bodywt": 6.8,
          "brainwt": 0.179,
          "conservation": null,
          "genus": "Macaca",
          "index": 37,
          "name": "Macaque",
          "order": "Primates",
          "sleep_cycle": 0.75,
          "sleep_rem": 1.2,
          "sleep_total": 10.1,
          "vore": "omni"
         },
         {
          "awake": 9.8,
          "bodywt": 0.053,
          "brainwt": null,
          "conservation": "lc",
          "genus": "Meriones",
          "index": 38,
          "name": "Mongolian gerbil",
          "order": "Rodentia",
          "sleep_cycle": null,
          "sleep_rem": 1.9,
          "sleep_total": 14.2,
          "vore": "herbi"
         },
         {
          "awake": 9.7,
          "bodywt": 0.12,
          "brainwt": 0.001,
          "conservation": "en",
          "genus": "Mesocricetus",
          "index": 39,
          "name": "Golden hamster",
          "order": "Rodentia",
          "sleep_cycle": 0.2,
          "sleep_rem": 3.1,
          "sleep_total": 14.3,
          "vore": "herbi"
         },
         {
          "awake": 11.2,
          "bodywt": 0.035,
          "brainwt": null,
          "conservation": null,
          "genus": "Microtus",
          "index": 40,
          "name": "Vole ",
          "order": "Rodentia",
          "sleep_cycle": null,
          "sleep_rem": null,
          "sleep_total": 12.8,
          "vore": "herbi"
         },
         {
          "awake": 11.5,
          "bodywt": 0.022,
          "brainwt": 0.0004,
          "conservation": "nt",
          "genus": "Mus",
          "index": 41,
          "name": "House mouse",
          "order": "Rodentia",
          "sleep_cycle": 0.183333333,
          "sleep_rem": 1.4,
          "sleep_total": 12.5,
          "vore": "herbi"
         },
         {
          "awake": 4.1,
          "bodywt": 0.01,
          "brainwt": 0.00025,
          "conservation": null,
          "genus": "Myotis",
          "index": 42,
          "name": "Little brown bat",
          "order": "Chiroptera",
          "sleep_cycle": 0.2,
          "sleep_rem": 2,
          "sleep_total": 19.9,
          "vore": "insecti"
         },
         {
          "awake": 9.4,
          "bodywt": 0.266,
          "brainwt": null,
          "conservation": "nt",
          "genus": "Neofiber",
          "index": 43,
          "name": "Round-tailed muskrat",
          "order": "Rodentia",
          "sleep_cycle": null,
          "sleep_rem": null,
          "sleep_total": 14.6,
          "vore": "herbi"
         },
         {
          "awake": 13,
          "bodywt": 1.4,
          "brainwt": 0.0125,
          "conservation": null,
          "genus": "Nyctibeus",
          "index": 44,
          "name": "Slow loris",
          "order": "Primates",
          "sleep_cycle": null,
          "sleep_rem": null,
          "sleep_total": 11,
          "vore": "carni"
         },
         {
          "awake": 16.3,
          "bodywt": 0.21,
          "brainwt": null,
          "conservation": "lc",
          "genus": "Octodon",
          "index": 45,
          "name": "Degu",
          "order": "Rodentia",
          "sleep_cycle": null,
          "sleep_rem": 0.9,
          "sleep_total": 7.7,
          "vore": "herbi"
         },
         {
          "awake": 9.5,
          "bodywt": 0.028,
          "brainwt": null,
          "conservation": "lc",
          "genus": "Onychomys",
          "index": 46,
          "name": "Northern grasshopper mouse",
          "order": "Rodentia",
          "sleep_cycle": null,
          "sleep_rem": null,
          "sleep_total": 14.5,
          "vore": "carni"
         },
         {
          "awake": 15.6,
          "bodywt": 2.5,
          "brainwt": 0.0121,
          "conservation": null,
          "genus": "Oryctolagus",
          "index": 47,
          "name": "Rabbit",
          "order": "Lagomorpha",
          "sleep_cycle": 0.416666667,
          "sleep_rem": 0.9,
          "sleep_total": 8.4,
          "vore": "herbi"
         },
         {
          "awake": 20.2,
          "bodywt": 55.5,
          "brainwt": 0.175,
          "conservation": null,
          "genus": "Ovis",
          "index": 48,
          "name": "Sheep",
          "order": "Artiodactyla",
          "sleep_cycle": null,
          "sleep_rem": 0.6,
          "sleep_total": 3.8,
          "vore": "herbi"
         },
         {
          "awake": 14.3,
          "bodywt": 52.2,
          "brainwt": 0.44,
          "conservation": null,
          "genus": "Pan",
          "index": 49,
          "name": "Chimpanzee",
          "order": "Primates",
          "sleep_cycle": 1.416666667,
          "sleep_rem": 1.4,
          "sleep_total": 9.7,
          "vore": "omni"
         },
         {
          "awake": 8.2,
          "bodywt": 162.564,
          "brainwt": null,
          "conservation": "en",
          "genus": "Panthera",
          "index": 50,
          "name": "Tiger",
          "order": "Carnivora",
          "sleep_cycle": null,
          "sleep_rem": null,
          "sleep_total": 15.8,
          "vore": "carni"
         },
         {
          "awake": 13.6,
          "bodywt": 100,
          "brainwt": 0.157,
          "conservation": "nt",
          "genus": "Panthera",
          "index": 51,
          "name": "Jaguar",
          "order": "Carnivora",
          "sleep_cycle": null,
          "sleep_rem": null,
          "sleep_total": 10.4,
          "vore": "carni"
         },
         {
          "awake": 10.5,
          "bodywt": 161.499,
          "brainwt": null,
          "conservation": "vu",
          "genus": "Panthera",
          "index": 52,
          "name": "Lion",
          "order": "Carnivora",
          "sleep_cycle": null,
          "sleep_rem": null,
          "sleep_total": 13.5,
          "vore": "carni"
         },
         {
          "awake": 14.6,
          "bodywt": 25.235,
          "brainwt": 0.18,
          "conservation": null,
          "genus": "Papio",
          "index": 53,
          "name": "Baboon",
          "order": "Primates",
          "sleep_cycle": 0.666666667,
          "sleep_rem": 1,
          "sleep_total": 9.4,
          "vore": "omni"
         },
         {
          "awake": 13.7,
          "bodywt": 0.55,
          "brainwt": 0.0024,
          "conservation": "lc",
          "genus": "Paraechinus",
          "index": 54,
          "name": "Desert hedgehog",
          "order": "Erinaceomorpha",
          "sleep_cycle": null,
          "sleep_rem": 2.7,
          "sleep_total": 10.3,
          "vore": null
         },
         {
          "awake": 13,
          "bodywt": 1.1,
          "brainwt": null,
          "conservation": "lc",
          "genus": "Perodicticus",
          "index": 55,
          "name": "Potto",
          "order": "Primates",
          "sleep_cycle": null,
          "sleep_rem": null,
          "sleep_total": 11,
          "vore": "omni"
         },
         {
          "awake": 12.5,
          "bodywt": 0.021,
          "brainwt": null,
          "conservation": null,
          "genus": "Peromyscus",
          "index": 56,
          "name": "Deer mouse",
          "order": "Rodentia",
          "sleep_cycle": null,
          "sleep_rem": null,
          "sleep_total": 11.5,
          "vore": null
         },
         {
          "awake": 10.3,
          "bodywt": 1.62,
          "brainwt": 0.0114,
          "conservation": null,
          "genus": "Phalanger",
          "index": 57,
          "name": "Phalanger",
          "order": "Diprotodontia",
          "sleep_cycle": null,
          "sleep_rem": 1.8,
          "sleep_total": 13.7,
          "vore": null
         },
         {
          "awake": 20.5,
          "bodywt": 86,
          "brainwt": null,
          "conservation": "vu",
          "genus": "Phoca",
          "index": 58,
          "name": "Caspian seal",
          "order": "Carnivora",
          "sleep_cycle": null,
          "sleep_rem": 0.4,
          "sleep_total": 3.5,
          "vore": "carni"
         },
         {
          "awake": 18.45,
          "bodywt": 53.18,
          "brainwt": null,
          "conservation": "vu",
          "genus": "Phocoena",
          "index": 59,
          "name": "Common porpoise",
          "order": "Cetacea",
          "sleep_cycle": null,
          "sleep_rem": null,
          "sleep_total": 5.6,
          "vore": "carni"
         },
         {
          "awake": 12.9,
          "bodywt": 1.1,
          "brainwt": null,
          "conservation": null,
          "genus": "Potorous",
          "index": 60,
          "name": "Potoroo",
          "order": "Diprotodontia",
          "sleep_cycle": null,
          "sleep_rem": 1.5,
          "sleep_total": 11.1,
          "vore": "herbi"
         },
         {
          "awake": 5.9,
          "bodywt": 60,
          "brainwt": 0.081,
          "conservation": "en",
          "genus": "Priodontes",
          "index": 61,
          "name": "Giant armadillo",
          "order": "Cingulata",
          "sleep_cycle": null,
          "sleep_rem": 6.1,
          "sleep_total": 18.1,
          "vore": "insecti"
         },
         {
          "awake": 18.6,
          "bodywt": 3.6,
          "brainwt": 0.021,
          "conservation": "lc",
          "genus": "Procavia",
          "index": 62,
          "name": "Rock hyrax",
          "order": "Hyracoidea",
          "sleep_cycle": null,
          "sleep_rem": 0.5,
          "sleep_total": 5.4,
          "vore": null
         },
         {
          "awake": 11,
          "bodywt": 0.32,
          "brainwt": 0.0019,
          "conservation": "lc",
          "genus": "Rattus",
          "index": 63,
          "name": "Laboratory rat",
          "order": "Rodentia",
          "sleep_cycle": 0.183333333,
          "sleep_rem": 2.4,
          "sleep_total": 13,
          "vore": "herbi"
         },
         {
          "awake": 15.3,
          "bodywt": 0.044,
          "brainwt": null,
          "conservation": null,
          "genus": "Rhabdomys",
          "index": 64,
          "name": "African striped mouse",
          "order": "Rodentia",
          "sleep_cycle": null,
          "sleep_rem": null,
          "sleep_total": 8.7,
          "vore": "omni"
         },
         {
          "awake": 14.4,
          "bodywt": 0.743,
          "brainwt": 0.02,
          "conservation": null,
          "genus": "Saimiri",
          "index": 65,
          "name": "Squirrel monkey",
          "order": "Primates",
          "sleep_cycle": null,
          "sleep_rem": 1.4,
          "sleep_total": 9.6,
          "vore": "omni"
         },
         {
          "awake": 15.6,
          "bodywt": 0.075,
          "brainwt": 0.0012,
          "conservation": "lc",
          "genus": "Scalopus",
          "index": 66,
          "name": "Eastern american mole",
          "order": "Soricomorpha",
          "sleep_cycle": 0.166666667,
          "sleep_rem": 2.1,
          "sleep_total": 8.4,
          "vore": "insecti"
         },
         {
          "awake": 12.7,
          "bodywt": 0.148,
          "brainwt": 0.00118,
          "conservation": null,
          "genus": "Sigmodon",
          "index": 67,
          "name": "Cotton rat",
          "order": "Rodentia",
          "sleep_cycle": 0.15,
          "sleep_rem": 1.1,
          "sleep_total": 11.3,
          "vore": "herbi"
         },
         {
          "awake": 13.4,
          "bodywt": 0.122,
          "brainwt": 0.003,
          "conservation": null,
          "genus": "Spalax",
          "index": 68,
          "name": "Mole rat",
          "order": "Rodentia",
          "sleep_cycle": null,
          "sleep_rem": 2.4,
          "sleep_total": 10.6,
          "vore": null
         },
         {
          "awake": 7.4,
          "bodywt": 0.92,
          "brainwt": 0.0057,
          "conservation": "lc",
          "genus": "Spermophilus",
          "index": 69,
          "name": "Arctic ground squirrel",
          "order": "Rodentia",
          "sleep_cycle": null,
          "sleep_rem": null,
          "sleep_total": 16.6,
          "vore": "herbi"
         },
         {
          "awake": 10.2,
          "bodywt": 0.101,
          "brainwt": 0.004,
          "conservation": "lc",
          "genus": "Spermophilus",
          "index": 70,
          "name": "Thirteen-lined ground squirrel",
          "order": "Rodentia",
          "sleep_cycle": 0.216666667,
          "sleep_rem": 3.4,
          "sleep_total": 13.8,
          "vore": "herbi"
         },
         {
          "awake": 8.1,
          "bodywt": 0.205,
          "brainwt": null,
          "conservation": "lc",
          "genus": "Spermophilus",
          "index": 71,
          "name": "Golden-mantled ground squirrel",
          "order": "Rodentia",
          "sleep_cycle": null,
          "sleep_rem": 3,
          "sleep_total": 15.9,
          "vore": "herbi"
         },
         {
          "awake": 11.2,
          "bodywt": 0.048,
          "brainwt": 0.00033,
          "conservation": null,
          "genus": "Suncus",
          "index": 72,
          "name": "Musk shrew",
          "order": "Soricomorpha",
          "sleep_cycle": 0.183333333,
          "sleep_rem": 2,
          "sleep_total": 12.8,
          "vore": null
         },
         {
          "awake": 14.9,
          "bodywt": 86.25,
          "brainwt": 0.18,
          "conservation": null,
          "genus": "Sus",
          "index": 73,
          "name": "Pig",
          "order": "Artiodactyla",
          "sleep_cycle": 0.5,
          "sleep_rem": 2.4,
          "sleep_total": 9.1,
          "vore": "omni"
         },
         {
          "awake": 15.4,
          "bodywt": 4.5,
          "brainwt": 0.025,
          "conservation": null,
          "genus": "Tachyglossus",
          "index": 74,
          "name": "Short-nosed echidna",
          "order": "Monotremata",
          "sleep_cycle": null,
          "sleep_rem": null,
          "sleep_total": 8.6,
          "vore": "insecti"
         },
         {
          "awake": 8.2,
          "bodywt": 0.112,
          "brainwt": null,
          "conservation": null,
          "genus": "Tamias",
          "index": 75,
          "name": "Eastern american chipmunk",
          "order": "Rodentia",
          "sleep_cycle": null,
          "sleep_rem": null,
          "sleep_total": 15.8,
          "vore": "herbi"
         },
         {
          "awake": 19.6,
          "bodywt": 207.501,
          "brainwt": 0.169,
          "conservation": "vu",
          "genus": "Tapirus",
          "index": 76,
          "name": "Brazilian tapir",
          "order": "Perissodactyla",
          "sleep_cycle": 0.9,
          "sleep_rem": 1,
          "sleep_total": 4.4,
          "vore": "herbi"
         },
         {
          "awake": 8.4,
          "bodywt": 0.9,
          "brainwt": 0.0026,
          "conservation": null,
          "genus": "Tenrec",
          "index": 77,
          "name": "Tenrec",
          "order": "Afrosoricida",
          "sleep_cycle": null,
          "sleep_rem": 2.3,
          "sleep_total": 15.6,
          "vore": "omni"
         },
         {
          "awake": 15.1,
          "bodywt": 0.104,
          "brainwt": 0.0025,
          "conservation": null,
          "genus": "Tupaia",
          "index": 78,
          "name": "Tree shrew",
          "order": "Scandentia",
          "sleep_cycle": 0.233333333,
          "sleep_rem": 2.6,
          "sleep_total": 8.9,
          "vore": "omni"
         },
         {
          "awake": 18.8,
          "bodywt": 173.33,
          "brainwt": null,
          "conservation": null,
          "genus": "Tursiops",
          "index": 79,
          "name": "Bottle-nosed dolphin",
          "order": "Cetacea",
          "sleep_cycle": null,
          "sleep_rem": null,
          "sleep_total": 5.2,
          "vore": "carni"
         },
         {
          "awake": 17.7,
          "bodywt": 2,
          "brainwt": 0.0175,
          "conservation": null,
          "genus": "Genetta",
          "index": 80,
          "name": "Genet",
          "order": "Carnivora",
          "sleep_cycle": null,
          "sleep_rem": 1.3,
          "sleep_total": 6.3,
          "vore": "carni"
         },
         {
          "awake": 11.5,
          "bodywt": 3.38,
          "brainwt": 0.0445,
          "conservation": null,
          "genus": "Vulpes",
          "index": 81,
          "name": "Arctic fox",
          "order": "Carnivora",
          "sleep_cycle": null,
          "sleep_rem": null,
          "sleep_total": 12.5,
          "vore": "carni"
         },
         {
          "awake": 14.2,
          "bodywt": 4.23,
          "brainwt": 0.0504,
          "conservation": null,
          "genus": "Vulpes",
          "index": 82,
          "name": "Red fox",
          "order": "Carnivora",
          "sleep_cycle": 0.35,
          "sleep_rem": 2.4,
          "sleep_total": 9.8,
          "vore": "carni"
         }
        ],
        "schema": {
         "fields": [
          {
           "name": "index",
           "type": "integer"
          },
          {
           "name": "name",
           "type": "string"
          },
          {
           "name": "genus",
           "type": "string"
          },
          {
           "constraints": {
            "enum": [
             "carni",
             "herbi",
             "insecti",
             "omni"
            ]
           },
           "name": "vore",
           "ordered": false,
           "type": "any"
          },
          {
           "name": "order",
           "type": "string"
          },
          {
           "constraints": {
            "enum": [
             "lc",
             "nt",
             "vu",
             "en",
             "cr",
             "ew",
             "ex"
            ]
           },
           "name": "conservation",
           "ordered": true,
           "type": "any"
          },
          {
           "name": "sleep_total",
           "type": "number"
          },
          {
           "name": "sleep_rem",
           "type": "number"
          },
          {
           "name": "sleep_cycle",
           "type": "number"
          },
          {
           "name": "awake",
           "type": "number"
          },
          {
           "name": "brainwt",
           "type": "number"
          },
          {
           "name": "bodywt",
           "type": "number"
          }
         ],
         "pandas_version": "0.20.0",
         "primaryKey": [
          "index"
         ]
        }
       },
       "total_rows": 83
      },
      "text/html": [
       "<div>\n",
       "<style scoped>\n",
       "    .dataframe tbody tr th:only-of-type {\n",
       "        vertical-align: middle;\n",
       "    }\n",
       "\n",
       "    .dataframe tbody tr th {\n",
       "        vertical-align: top;\n",
       "    }\n",
       "\n",
       "    .dataframe thead th {\n",
       "        text-align: right;\n",
       "    }\n",
       "</style>\n",
       "<table border=\"1\" class=\"dataframe\">\n",
       "  <thead>\n",
       "    <tr style=\"text-align: right;\">\n",
       "      <th></th>\n",
       "      <th>name</th>\n",
       "      <th>genus</th>\n",
       "      <th>vore</th>\n",
       "      <th>order</th>\n",
       "      <th>conservation</th>\n",
       "      <th>sleep_total</th>\n",
       "      <th>sleep_rem</th>\n",
       "      <th>sleep_cycle</th>\n",
       "      <th>awake</th>\n",
       "      <th>brainwt</th>\n",
       "      <th>bodywt</th>\n",
       "    </tr>\n",
       "  </thead>\n",
       "  <tbody>\n",
       "    <tr>\n",
       "      <th>0</th>\n",
       "      <td>Cheetah</td>\n",
       "      <td>Acinonyx</td>\n",
       "      <td>carni</td>\n",
       "      <td>Carnivora</td>\n",
       "      <td>lc</td>\n",
       "      <td>12.1</td>\n",
       "      <td>NaN</td>\n",
       "      <td>NaN</td>\n",
       "      <td>11.9</td>\n",
       "      <td>NaN</td>\n",
       "      <td>50.000</td>\n",
       "    </tr>\n",
       "    <tr>\n",
       "      <th>1</th>\n",
       "      <td>Owl monkey</td>\n",
       "      <td>Aotus</td>\n",
       "      <td>omni</td>\n",
       "      <td>Primates</td>\n",
       "      <td>NaN</td>\n",
       "      <td>17.0</td>\n",
       "      <td>1.8</td>\n",
       "      <td>NaN</td>\n",
       "      <td>7.0</td>\n",
       "      <td>0.01550</td>\n",
       "      <td>0.480</td>\n",
       "    </tr>\n",
       "    <tr>\n",
       "      <th>2</th>\n",
       "      <td>Mountain beaver</td>\n",
       "      <td>Aplodontia</td>\n",
       "      <td>herbi</td>\n",
       "      <td>Rodentia</td>\n",
       "      <td>nt</td>\n",
       "      <td>14.4</td>\n",
       "      <td>2.4</td>\n",
       "      <td>NaN</td>\n",
       "      <td>9.6</td>\n",
       "      <td>NaN</td>\n",
       "      <td>1.350</td>\n",
       "    </tr>\n",
       "    <tr>\n",
       "      <th>3</th>\n",
       "      <td>Greater short-tailed shrew</td>\n",
       "      <td>Blarina</td>\n",
       "      <td>omni</td>\n",
       "      <td>Soricomorpha</td>\n",
       "      <td>lc</td>\n",
       "      <td>14.9</td>\n",
       "      <td>2.3</td>\n",
       "      <td>0.133333</td>\n",
       "      <td>9.1</td>\n",
       "      <td>0.00029</td>\n",
       "      <td>0.019</td>\n",
       "    </tr>\n",
       "    <tr>\n",
       "      <th>4</th>\n",
       "      <td>Cow</td>\n",
       "      <td>Bos</td>\n",
       "      <td>herbi</td>\n",
       "      <td>Artiodactyla</td>\n",
       "      <td>NaN</td>\n",
       "      <td>4.0</td>\n",
       "      <td>0.7</td>\n",
       "      <td>0.666667</td>\n",
       "      <td>20.0</td>\n",
       "      <td>0.42300</td>\n",
       "      <td>600.000</td>\n",
       "    </tr>\n",
       "    <tr>\n",
       "      <th>...</th>\n",
       "      <td>...</td>\n",
       "      <td>...</td>\n",
       "      <td>...</td>\n",
       "      <td>...</td>\n",
       "      <td>...</td>\n",
       "      <td>...</td>\n",
       "      <td>...</td>\n",
       "      <td>...</td>\n",
       "      <td>...</td>\n",
       "      <td>...</td>\n",
       "      <td>...</td>\n",
       "    </tr>\n",
       "    <tr>\n",
       "      <th>78</th>\n",
       "      <td>Tree shrew</td>\n",
       "      <td>Tupaia</td>\n",
       "      <td>omni</td>\n",
       "      <td>Scandentia</td>\n",
       "      <td>NaN</td>\n",
       "      <td>8.9</td>\n",
       "      <td>2.6</td>\n",
       "      <td>0.233333</td>\n",
       "      <td>15.1</td>\n",
       "      <td>0.00250</td>\n",
       "      <td>0.104</td>\n",
       "    </tr>\n",
       "    <tr>\n",
       "      <th>79</th>\n",
       "      <td>Bottle-nosed dolphin</td>\n",
       "      <td>Tursiops</td>\n",
       "      <td>carni</td>\n",
       "      <td>Cetacea</td>\n",
       "      <td>NaN</td>\n",
       "      <td>5.2</td>\n",
       "      <td>NaN</td>\n",
       "      <td>NaN</td>\n",
       "      <td>18.8</td>\n",
       "      <td>NaN</td>\n",
       "      <td>173.330</td>\n",
       "    </tr>\n",
       "    <tr>\n",
       "      <th>80</th>\n",
       "      <td>Genet</td>\n",
       "      <td>Genetta</td>\n",
       "      <td>carni</td>\n",
       "      <td>Carnivora</td>\n",
       "      <td>NaN</td>\n",
       "      <td>6.3</td>\n",
       "      <td>1.3</td>\n",
       "      <td>NaN</td>\n",
       "      <td>17.7</td>\n",
       "      <td>0.01750</td>\n",
       "      <td>2.000</td>\n",
       "    </tr>\n",
       "    <tr>\n",
       "      <th>81</th>\n",
       "      <td>Arctic fox</td>\n",
       "      <td>Vulpes</td>\n",
       "      <td>carni</td>\n",
       "      <td>Carnivora</td>\n",
       "      <td>NaN</td>\n",
       "      <td>12.5</td>\n",
       "      <td>NaN</td>\n",
       "      <td>NaN</td>\n",
       "      <td>11.5</td>\n",
       "      <td>0.04450</td>\n",
       "      <td>3.380</td>\n",
       "    </tr>\n",
       "    <tr>\n",
       "      <th>82</th>\n",
       "      <td>Red fox</td>\n",
       "      <td>Vulpes</td>\n",
       "      <td>carni</td>\n",
       "      <td>Carnivora</td>\n",
       "      <td>NaN</td>\n",
       "      <td>9.8</td>\n",
       "      <td>2.4</td>\n",
       "      <td>0.350000</td>\n",
       "      <td>14.2</td>\n",
       "      <td>0.05040</td>\n",
       "      <td>4.230</td>\n",
       "    </tr>\n",
       "  </tbody>\n",
       "</table>\n",
       "<p>83 rows × 11 columns</p>\n",
       "</div>"
      ],
      "text/plain": [
       "                          name       genus   vore         order conservation  \\\n",
       "0                      Cheetah    Acinonyx  carni     Carnivora           lc   \n",
       "1                   Owl monkey       Aotus   omni      Primates          NaN   \n",
       "2              Mountain beaver  Aplodontia  herbi      Rodentia           nt   \n",
       "3   Greater short-tailed shrew     Blarina   omni  Soricomorpha           lc   \n",
       "4                          Cow         Bos  herbi  Artiodactyla          NaN   \n",
       "..                         ...         ...    ...           ...          ...   \n",
       "78                  Tree shrew      Tupaia   omni    Scandentia          NaN   \n",
       "79        Bottle-nosed dolphin    Tursiops  carni       Cetacea          NaN   \n",
       "80                       Genet     Genetta  carni     Carnivora          NaN   \n",
       "81                  Arctic fox      Vulpes  carni     Carnivora          NaN   \n",
       "82                     Red fox      Vulpes  carni     Carnivora          NaN   \n",
       "\n",
       "    sleep_total  sleep_rem  sleep_cycle  awake  brainwt   bodywt  \n",
       "0          12.1        NaN          NaN   11.9      NaN   50.000  \n",
       "1          17.0        1.8          NaN    7.0  0.01550    0.480  \n",
       "2          14.4        2.4          NaN    9.6      NaN    1.350  \n",
       "3          14.9        2.3     0.133333    9.1  0.00029    0.019  \n",
       "4           4.0        0.7     0.666667   20.0  0.42300  600.000  \n",
       "..          ...        ...          ...    ...      ...      ...  \n",
       "78          8.9        2.6     0.233333   15.1  0.00250    0.104  \n",
       "79          5.2        NaN          NaN   18.8      NaN  173.330  \n",
       "80          6.3        1.3          NaN   17.7  0.01750    2.000  \n",
       "81         12.5        NaN          NaN   11.5  0.04450    3.380  \n",
       "82          9.8        2.4     0.350000   14.2  0.05040    4.230  \n",
       "\n",
       "[83 rows x 11 columns]"
      ]
     },
     "execution_count": 5,
     "metadata": {},
     "output_type": "execute_result"
    }
   ],
   "source": [
    "msleep = msleep_dirty.replace(\n",
    "    {\"conservation\": \"unknown\", \"sleep_rem\": -999},\n",
    "    value=nan\n",
    ")\n",
    "msleep"
   ]
  },
  {
   "cell_type": "markdown",
   "id": "8b455de7-1bf1-48d3-94d4-a5184b47bdca",
   "metadata": {},
   "source": [
    "Notice that the missing values in the `conservation` and `sleep_rem` columns now display as `NaN` or `null`, depending on your Jupyter notebook editor."
   ]
  },
  {
   "cell_type": "markdown",
   "id": "91ed0b42-b9f3-4f85-bf65-2db054131ba8",
   "metadata": {},
   "source": [
    "## Quantifying missing values"
   ]
  },
  {
   "cell_type": "markdown",
   "id": "16c8f664-42f8-40d8-a228-975775d97a9a",
   "metadata": {},
   "source": [
    "To decide on the best technique for handling missing data, we need to know how much there is. We can find the proportion of missing data in each column by combining the [`.isna()`](https://pandas.pydata.org/docs/reference/api/pandas.DataFrame.isna.html) and [`.mean()`](https://pandas.pydata.org/docs/reference/api/pandas.DataFrame.mean.html) methods.\n",
    "\n",
    "A value of zero means no missing data, and a value of one means all values in the column are missing."
   ]
  },
  {
   "cell_type": "code",
   "execution_count": null,
   "id": "0b0f2834-1532-414a-8ecf-bc85aa7032c6",
   "metadata": {},
   "outputs": [
    {
     "data": {
      "text/plain": [
       "name            0.000000\n",
       "genus           0.000000\n",
       "vore            0.084337\n",
       "order           0.000000\n",
       "conservation    0.493976\n",
       "sleep_total     0.000000\n",
       "sleep_rem       0.265060\n",
       "sleep_cycle     0.614458\n",
       "awake           0.000000\n",
       "brainwt         0.325301\n",
       "bodywt          0.000000\n",
       "dtype: float64"
      ]
     },
     "execution_count": 6,
     "metadata": {},
     "output_type": "execute_result"
    }
   ],
   "source": [
    "msleep.isna().mean()"
   ]
  },
  {
   "cell_type": "markdown",
   "id": "e7e5d460-2d29-4377-b5bb-ca3840793f1d",
   "metadata": {},
   "source": [
    "`vore` has a small amount of missing data, with 8% missing. `sleep_cycle` has the most missing data, with 61% missing."
   ]
  },
  {
   "cell_type": "markdown",
   "id": "689aefcb-5a4c-4d04-a5da-2bb56e05625f",
   "metadata": {},
   "source": [
    "## Dropping rows with missing values"
   ]
  },
  {
   "cell_type": "markdown",
   "id": "685bb801-4b86-4031-b251-bc9254c1b62b",
   "metadata": {},
   "source": [
    "The simplest solution to handling missing data is to get rid of any rows where there is a missing value using the [.dropna()](https://pandas.pydata.org/pandas-docs/stable/reference/api/pandas.DataFrame.dropna.html) method."
   ]
  },
  {
   "cell_type": "code",
   "execution_count": null,
   "id": "2a5f5ed2-f11e-44ba-b6bc-77551da54f96",
   "metadata": {},
   "outputs": [
    {
     "data": {
      "application/com.datacamp.data-table.v1+json": {
       "is_truncated": false,
       "table": {
        "data": [
         {
          "awake": 9.1,
          "bodywt": 0.019,
          "brainwt": 0.00029,
          "conservation": "lc",
          "genus": "Blarina",
          "index": 3,
          "name": "Greater short-tailed shrew",
          "order": "Soricomorpha",
          "sleep_cycle": 0.133333333,
          "sleep_rem": 2.3,
          "sleep_total": 14.9,
          "vore": "omni"
         },
         {
          "awake": 14.9,
          "bodywt": 0.005,
          "brainwt": 0.00014,
          "conservation": "lc",
          "genus": "Cryptotis",
          "index": 16,
          "name": "Lesser short-tailed shrew",
          "order": "Soricomorpha",
          "sleep_cycle": 0.15,
          "sleep_rem": 1.4,
          "sleep_total": 9.1,
          "vore": "omni"
         },
         {
          "awake": 6.6,
          "bodywt": 3.5,
          "brainwt": 0.0108,
          "conservation": "lc",
          "genus": "Dasypus",
          "index": 17,
          "name": "Long-nosed armadillo",
          "order": "Cingulata",
          "sleep_cycle": 0.383333333,
          "sleep_rem": 3.1,
          "sleep_total": 17.4,
          "vore": "carni"
         },
         {
          "awake": 6,
          "bodywt": 1.7,
          "brainwt": 0.0063,
          "conservation": "lc",
          "genus": "Didelphis",
          "index": 19,
          "name": "North American Opossum",
          "order": "Didelphimorphia",
          "sleep_cycle": 0.333333333,
          "sleep_rem": 4.9,
          "sleep_total": 18,
          "vore": "omni"
         },
         {
          "awake": 4.3,
          "bodywt": 0.023,
          "brainwt": 0.0003,
          "conservation": "lc",
          "genus": "Eptesicus",
          "index": 21,
          "name": "Big brown bat",
          "order": "Chiroptera",
          "sleep_cycle": 0.116666667,
          "sleep_rem": 3.9,
          "sleep_total": 19.7,
          "vore": "insecti"
         },
         {
          "awake": 13.9,
          "bodywt": 0.77,
          "brainwt": 0.0035,
          "conservation": "lc",
          "genus": "Erinaceus",
          "index": 24,
          "name": "European hedgehog",
          "order": "Erinaceomorpha",
          "sleep_cycle": 0.283333333,
          "sleep_rem": 3.5,
          "sleep_total": 10.1,
          "vore": "omni"
         },
         {
          "awake": 9.7,
          "bodywt": 0.12,
          "brainwt": 0.001,
          "conservation": "en",
          "genus": "Mesocricetus",
          "index": 39,
          "name": "Golden hamster",
          "order": "Rodentia",
          "sleep_cycle": 0.2,
          "sleep_rem": 3.1,
          "sleep_total": 14.3,
          "vore": "herbi"
         },
         {
          "awake": 11.5,
          "bodywt": 0.022,
          "brainwt": 0.0004,
          "conservation": "nt",
          "genus": "Mus",
          "index": 41,
          "name": "House mouse",
          "order": "Rodentia",
          "sleep_cycle": 0.183333333,
          "sleep_rem": 1.4,
          "sleep_total": 12.5,
          "vore": "herbi"
         },
         {
          "awake": 11,
          "bodywt": 0.32,
          "brainwt": 0.0019,
          "conservation": "lc",
          "genus": "Rattus",
          "index": 63,
          "name": "Laboratory rat",
          "order": "Rodentia",
          "sleep_cycle": 0.183333333,
          "sleep_rem": 2.4,
          "sleep_total": 13,
          "vore": "herbi"
         },
         {
          "awake": 15.6,
          "bodywt": 0.075,
          "brainwt": 0.0012,
          "conservation": "lc",
          "genus": "Scalopus",
          "index": 66,
          "name": "Eastern american mole",
          "order": "Soricomorpha",
          "sleep_cycle": 0.166666667,
          "sleep_rem": 2.1,
          "sleep_total": 8.4,
          "vore": "insecti"
         },
         {
          "awake": 10.2,
          "bodywt": 0.101,
          "brainwt": 0.004,
          "conservation": "lc",
          "genus": "Spermophilus",
          "index": 70,
          "name": "Thirteen-lined ground squirrel",
          "order": "Rodentia",
          "sleep_cycle": 0.216666667,
          "sleep_rem": 3.4,
          "sleep_total": 13.8,
          "vore": "herbi"
         },
         {
          "awake": 19.6,
          "bodywt": 207.501,
          "brainwt": 0.169,
          "conservation": "vu",
          "genus": "Tapirus",
          "index": 76,
          "name": "Brazilian tapir",
          "order": "Perissodactyla",
          "sleep_cycle": 0.9,
          "sleep_rem": 1,
          "sleep_total": 4.4,
          "vore": "herbi"
         }
        ],
        "schema": {
         "fields": [
          {
           "name": "index",
           "type": "integer"
          },
          {
           "name": "name",
           "type": "string"
          },
          {
           "name": "genus",
           "type": "string"
          },
          {
           "constraints": {
            "enum": [
             "carni",
             "herbi",
             "insecti",
             "omni"
            ]
           },
           "name": "vore",
           "ordered": false,
           "type": "any"
          },
          {
           "name": "order",
           "type": "string"
          },
          {
           "constraints": {
            "enum": [
             "lc",
             "nt",
             "vu",
             "en",
             "cr",
             "ew",
             "ex"
            ]
           },
           "name": "conservation",
           "ordered": true,
           "type": "any"
          },
          {
           "name": "sleep_total",
           "type": "number"
          },
          {
           "name": "sleep_rem",
           "type": "number"
          },
          {
           "name": "sleep_cycle",
           "type": "number"
          },
          {
           "name": "awake",
           "type": "number"
          },
          {
           "name": "brainwt",
           "type": "number"
          },
          {
           "name": "bodywt",
           "type": "number"
          }
         ],
         "pandas_version": "0.20.0",
         "primaryKey": [
          "index"
         ]
        }
       },
       "total_rows": 12
      },
      "text/html": [
       "<div>\n",
       "<style scoped>\n",
       "    .dataframe tbody tr th:only-of-type {\n",
       "        vertical-align: middle;\n",
       "    }\n",
       "\n",
       "    .dataframe tbody tr th {\n",
       "        vertical-align: top;\n",
       "    }\n",
       "\n",
       "    .dataframe thead th {\n",
       "        text-align: right;\n",
       "    }\n",
       "</style>\n",
       "<table border=\"1\" class=\"dataframe\">\n",
       "  <thead>\n",
       "    <tr style=\"text-align: right;\">\n",
       "      <th></th>\n",
       "      <th>name</th>\n",
       "      <th>genus</th>\n",
       "      <th>vore</th>\n",
       "      <th>order</th>\n",
       "      <th>conservation</th>\n",
       "      <th>sleep_total</th>\n",
       "      <th>sleep_rem</th>\n",
       "      <th>sleep_cycle</th>\n",
       "      <th>awake</th>\n",
       "      <th>brainwt</th>\n",
       "      <th>bodywt</th>\n",
       "    </tr>\n",
       "  </thead>\n",
       "  <tbody>\n",
       "    <tr>\n",
       "      <th>3</th>\n",
       "      <td>Greater short-tailed shrew</td>\n",
       "      <td>Blarina</td>\n",
       "      <td>omni</td>\n",
       "      <td>Soricomorpha</td>\n",
       "      <td>lc</td>\n",
       "      <td>14.9</td>\n",
       "      <td>2.3</td>\n",
       "      <td>0.133333</td>\n",
       "      <td>9.1</td>\n",
       "      <td>0.00029</td>\n",
       "      <td>0.019</td>\n",
       "    </tr>\n",
       "    <tr>\n",
       "      <th>16</th>\n",
       "      <td>Lesser short-tailed shrew</td>\n",
       "      <td>Cryptotis</td>\n",
       "      <td>omni</td>\n",
       "      <td>Soricomorpha</td>\n",
       "      <td>lc</td>\n",
       "      <td>9.1</td>\n",
       "      <td>1.4</td>\n",
       "      <td>0.150000</td>\n",
       "      <td>14.9</td>\n",
       "      <td>0.00014</td>\n",
       "      <td>0.005</td>\n",
       "    </tr>\n",
       "    <tr>\n",
       "      <th>17</th>\n",
       "      <td>Long-nosed armadillo</td>\n",
       "      <td>Dasypus</td>\n",
       "      <td>carni</td>\n",
       "      <td>Cingulata</td>\n",
       "      <td>lc</td>\n",
       "      <td>17.4</td>\n",
       "      <td>3.1</td>\n",
       "      <td>0.383333</td>\n",
       "      <td>6.6</td>\n",
       "      <td>0.01080</td>\n",
       "      <td>3.500</td>\n",
       "    </tr>\n",
       "    <tr>\n",
       "      <th>19</th>\n",
       "      <td>North American Opossum</td>\n",
       "      <td>Didelphis</td>\n",
       "      <td>omni</td>\n",
       "      <td>Didelphimorphia</td>\n",
       "      <td>lc</td>\n",
       "      <td>18.0</td>\n",
       "      <td>4.9</td>\n",
       "      <td>0.333333</td>\n",
       "      <td>6.0</td>\n",
       "      <td>0.00630</td>\n",
       "      <td>1.700</td>\n",
       "    </tr>\n",
       "    <tr>\n",
       "      <th>21</th>\n",
       "      <td>Big brown bat</td>\n",
       "      <td>Eptesicus</td>\n",
       "      <td>insecti</td>\n",
       "      <td>Chiroptera</td>\n",
       "      <td>lc</td>\n",
       "      <td>19.7</td>\n",
       "      <td>3.9</td>\n",
       "      <td>0.116667</td>\n",
       "      <td>4.3</td>\n",
       "      <td>0.00030</td>\n",
       "      <td>0.023</td>\n",
       "    </tr>\n",
       "    <tr>\n",
       "      <th>24</th>\n",
       "      <td>European hedgehog</td>\n",
       "      <td>Erinaceus</td>\n",
       "      <td>omni</td>\n",
       "      <td>Erinaceomorpha</td>\n",
       "      <td>lc</td>\n",
       "      <td>10.1</td>\n",
       "      <td>3.5</td>\n",
       "      <td>0.283333</td>\n",
       "      <td>13.9</td>\n",
       "      <td>0.00350</td>\n",
       "      <td>0.770</td>\n",
       "    </tr>\n",
       "    <tr>\n",
       "      <th>39</th>\n",
       "      <td>Golden hamster</td>\n",
       "      <td>Mesocricetus</td>\n",
       "      <td>herbi</td>\n",
       "      <td>Rodentia</td>\n",
       "      <td>en</td>\n",
       "      <td>14.3</td>\n",
       "      <td>3.1</td>\n",
       "      <td>0.200000</td>\n",
       "      <td>9.7</td>\n",
       "      <td>0.00100</td>\n",
       "      <td>0.120</td>\n",
       "    </tr>\n",
       "    <tr>\n",
       "      <th>41</th>\n",
       "      <td>House mouse</td>\n",
       "      <td>Mus</td>\n",
       "      <td>herbi</td>\n",
       "      <td>Rodentia</td>\n",
       "      <td>nt</td>\n",
       "      <td>12.5</td>\n",
       "      <td>1.4</td>\n",
       "      <td>0.183333</td>\n",
       "      <td>11.5</td>\n",
       "      <td>0.00040</td>\n",
       "      <td>0.022</td>\n",
       "    </tr>\n",
       "    <tr>\n",
       "      <th>63</th>\n",
       "      <td>Laboratory rat</td>\n",
       "      <td>Rattus</td>\n",
       "      <td>herbi</td>\n",
       "      <td>Rodentia</td>\n",
       "      <td>lc</td>\n",
       "      <td>13.0</td>\n",
       "      <td>2.4</td>\n",
       "      <td>0.183333</td>\n",
       "      <td>11.0</td>\n",
       "      <td>0.00190</td>\n",
       "      <td>0.320</td>\n",
       "    </tr>\n",
       "    <tr>\n",
       "      <th>66</th>\n",
       "      <td>Eastern american mole</td>\n",
       "      <td>Scalopus</td>\n",
       "      <td>insecti</td>\n",
       "      <td>Soricomorpha</td>\n",
       "      <td>lc</td>\n",
       "      <td>8.4</td>\n",
       "      <td>2.1</td>\n",
       "      <td>0.166667</td>\n",
       "      <td>15.6</td>\n",
       "      <td>0.00120</td>\n",
       "      <td>0.075</td>\n",
       "    </tr>\n",
       "    <tr>\n",
       "      <th>70</th>\n",
       "      <td>Thirteen-lined ground squirrel</td>\n",
       "      <td>Spermophilus</td>\n",
       "      <td>herbi</td>\n",
       "      <td>Rodentia</td>\n",
       "      <td>lc</td>\n",
       "      <td>13.8</td>\n",
       "      <td>3.4</td>\n",
       "      <td>0.216667</td>\n",
       "      <td>10.2</td>\n",
       "      <td>0.00400</td>\n",
       "      <td>0.101</td>\n",
       "    </tr>\n",
       "    <tr>\n",
       "      <th>76</th>\n",
       "      <td>Brazilian tapir</td>\n",
       "      <td>Tapirus</td>\n",
       "      <td>herbi</td>\n",
       "      <td>Perissodactyla</td>\n",
       "      <td>vu</td>\n",
       "      <td>4.4</td>\n",
       "      <td>1.0</td>\n",
       "      <td>0.900000</td>\n",
       "      <td>19.6</td>\n",
       "      <td>0.16900</td>\n",
       "      <td>207.501</td>\n",
       "    </tr>\n",
       "  </tbody>\n",
       "</table>\n",
       "</div>"
      ],
      "text/plain": [
       "                              name         genus     vore            order  \\\n",
       "3       Greater short-tailed shrew       Blarina     omni     Soricomorpha   \n",
       "16       Lesser short-tailed shrew     Cryptotis     omni     Soricomorpha   \n",
       "17            Long-nosed armadillo       Dasypus    carni        Cingulata   \n",
       "19          North American Opossum     Didelphis     omni  Didelphimorphia   \n",
       "21                   Big brown bat     Eptesicus  insecti       Chiroptera   \n",
       "24               European hedgehog     Erinaceus     omni   Erinaceomorpha   \n",
       "39                  Golden hamster  Mesocricetus    herbi         Rodentia   \n",
       "41                     House mouse           Mus    herbi         Rodentia   \n",
       "63                  Laboratory rat        Rattus    herbi         Rodentia   \n",
       "66           Eastern american mole      Scalopus  insecti     Soricomorpha   \n",
       "70  Thirteen-lined ground squirrel  Spermophilus    herbi         Rodentia   \n",
       "76                 Brazilian tapir       Tapirus    herbi   Perissodactyla   \n",
       "\n",
       "   conservation  sleep_total  sleep_rem  sleep_cycle  awake  brainwt   bodywt  \n",
       "3            lc         14.9        2.3     0.133333    9.1  0.00029    0.019  \n",
       "16           lc          9.1        1.4     0.150000   14.9  0.00014    0.005  \n",
       "17           lc         17.4        3.1     0.383333    6.6  0.01080    3.500  \n",
       "19           lc         18.0        4.9     0.333333    6.0  0.00630    1.700  \n",
       "21           lc         19.7        3.9     0.116667    4.3  0.00030    0.023  \n",
       "24           lc         10.1        3.5     0.283333   13.9  0.00350    0.770  \n",
       "39           en         14.3        3.1     0.200000    9.7  0.00100    0.120  \n",
       "41           nt         12.5        1.4     0.183333   11.5  0.00040    0.022  \n",
       "63           lc         13.0        2.4     0.183333   11.0  0.00190    0.320  \n",
       "66           lc          8.4        2.1     0.166667   15.6  0.00120    0.075  \n",
       "70           lc         13.8        3.4     0.216667   10.2  0.00400    0.101  \n",
       "76           vu          4.4        1.0     0.900000   19.6  0.16900  207.501  "
      ]
     },
     "execution_count": 7,
     "metadata": {},
     "output_type": "execute_result"
    }
   ],
   "source": [
    "msleep.dropna()"
   ]
  },
  {
   "cell_type": "markdown",
   "id": "4a31822c-88ad-4989-b66b-854b79003b3f",
   "metadata": {},
   "source": [
    "In this case, we've droppped most of the dataset, going from 83 rows to 12. This is far from ideal."
   ]
  },
  {
   "cell_type": "markdown",
   "id": "709ea1a6-87df-4b26-9dd7-6f8ce815646d",
   "metadata": {},
   "source": [
    "Dropping data is only a suitable solution if there is only a very small amount of missing data."
   ]
  },
  {
   "cell_type": "markdown",
   "id": "efba1aa2-8f36-4fbb-b675-fbf06dad64bd",
   "metadata": {},
   "source": [
    "## Separating the dataset by column data type"
   ]
  },
  {
   "cell_type": "markdown",
   "id": "8f0b1844-0048-4c5a-ab2d-133c243d167e",
   "metadata": {},
   "source": [
    "In **scikit-learn**, numeric data and unordered categorical data currently require different techniques for imputation. \n",
    "\n",
    "For ordered categorical data, you can either treat it in the same way as unordered categorical data, or transform in into integers with [`OrdinalEncoder()`](https://scikit-learn.org/stable/modules/generated/sklearn.preprocessing.OrdinalEncoder.html), and pretend that it is numeric. Here we'll take the former approach for simplicity.\n",
    "\n",
    "The next step is to split the dataset into two by column type."
   ]
  },
  {
   "cell_type": "code",
   "execution_count": null,
   "id": "b53615ce-0a36-4911-bfe9-0183a29f5a4c",
   "metadata": {},
   "outputs": [
    {
     "data": {
      "application/com.datacamp.data-table.v1+json": {
       "is_truncated": false,
       "table": {
        "data": [
         {
          "awake": 11.9,
          "bodywt": 50,
          "brainwt": null,
          "index": 0,
          "sleep_cycle": null,
          "sleep_rem": null,
          "sleep_total": 12.1
         },
         {
          "awake": 7,
          "bodywt": 0.48,
          "brainwt": 0.0155,
          "index": 1,
          "sleep_cycle": null,
          "sleep_rem": 1.8,
          "sleep_total": 17
         },
         {
          "awake": 9.6,
          "bodywt": 1.35,
          "brainwt": null,
          "index": 2,
          "sleep_cycle": null,
          "sleep_rem": 2.4,
          "sleep_total": 14.4
         },
         {
          "awake": 9.1,
          "bodywt": 0.019,
          "brainwt": 0.00029,
          "index": 3,
          "sleep_cycle": 0.133333333,
          "sleep_rem": 2.3,
          "sleep_total": 14.9
         },
         {
          "awake": 20,
          "bodywt": 600,
          "brainwt": 0.423,
          "index": 4,
          "sleep_cycle": 0.666666667,
          "sleep_rem": 0.7,
          "sleep_total": 4
         },
         {
          "awake": 9.6,
          "bodywt": 3.85,
          "brainwt": null,
          "index": 5,
          "sleep_cycle": 0.766666667,
          "sleep_rem": 2.2,
          "sleep_total": 14.4
         },
         {
          "awake": 15.3,
          "bodywt": 20.49,
          "brainwt": null,
          "index": 6,
          "sleep_cycle": 0.383333333,
          "sleep_rem": 1.4,
          "sleep_total": 8.7
         },
         {
          "awake": 17,
          "bodywt": 0.045,
          "brainwt": null,
          "index": 7,
          "sleep_cycle": null,
          "sleep_rem": null,
          "sleep_total": 7
         },
         {
          "awake": 13.9,
          "bodywt": 14,
          "brainwt": 0.07,
          "index": 8,
          "sleep_cycle": 0.333333333,
          "sleep_rem": 2.9,
          "sleep_total": 10.1
         },
         {
          "awake": 21,
          "bodywt": 14.8,
          "brainwt": 0.0982,
          "index": 9,
          "sleep_cycle": null,
          "sleep_rem": null,
          "sleep_total": 3
         },
         {
          "awake": 18.7,
          "bodywt": 33.5,
          "brainwt": 0.115,
          "index": 10,
          "sleep_cycle": null,
          "sleep_rem": 0.6,
          "sleep_total": 5.3
         },
         {
          "awake": 14.6,
          "bodywt": 0.728,
          "brainwt": 0.0055,
          "index": 11,
          "sleep_cycle": 0.216666667,
          "sleep_rem": 0.8,
          "sleep_total": 9.4
         },
         {
          "awake": 14,
          "bodywt": 4.75,
          "brainwt": null,
          "index": 12,
          "sleep_cycle": null,
          "sleep_rem": 0.7,
          "sleep_total": 10
         },
         {
          "awake": 11.5,
          "bodywt": 0.42,
          "brainwt": 0.0064,
          "index": 13,
          "sleep_cycle": 0.116666667,
          "sleep_rem": 1.5,
          "sleep_total": 12.5
         },
         {
          "awake": 13.7,
          "bodywt": 0.06,
          "brainwt": 0.001,
          "index": 14,
          "sleep_cycle": null,
          "sleep_rem": 2.2,
          "sleep_total": 10.3
         },
         {
          "awake": 15.7,
          "bodywt": 1,
          "brainwt": 0.0066,
          "index": 15,
          "sleep_cycle": null,
          "sleep_rem": 2,
          "sleep_total": 8.3
         },
         {
          "awake": 14.9,
          "bodywt": 0.005,
          "brainwt": 0.00014,
          "index": 16,
          "sleep_cycle": 0.15,
          "sleep_rem": 1.4,
          "sleep_total": 9.1
         },
         {
          "awake": 6.6,
          "bodywt": 3.5,
          "brainwt": 0.0108,
          "index": 17,
          "sleep_cycle": 0.383333333,
          "sleep_rem": 3.1,
          "sleep_total": 17.4
         },
         {
          "awake": 18.7,
          "bodywt": 2.95,
          "brainwt": 0.0123,
          "index": 18,
          "sleep_cycle": null,
          "sleep_rem": 0.5,
          "sleep_total": 5.3
         },
         {
          "awake": 6,
          "bodywt": 1.7,
          "brainwt": 0.0063,
          "index": 19,
          "sleep_cycle": 0.333333333,
          "sleep_rem": 4.9,
          "sleep_total": 18
         },
         {
          "awake": 20.1,
          "bodywt": 2547,
          "brainwt": 4.603,
          "index": 20,
          "sleep_cycle": null,
          "sleep_rem": null,
          "sleep_total": 3.9
         },
         {
          "awake": 4.3,
          "bodywt": 0.023,
          "brainwt": 0.0003,
          "index": 21,
          "sleep_cycle": 0.116666667,
          "sleep_rem": 3.9,
          "sleep_total": 19.7
         },
         {
          "awake": 21.1,
          "bodywt": 521,
          "brainwt": 0.655,
          "index": 22,
          "sleep_cycle": 1,
          "sleep_rem": 0.6,
          "sleep_total": 2.9
         },
         {
          "awake": 20.9,
          "bodywt": 187,
          "brainwt": 0.419,
          "index": 23,
          "sleep_cycle": null,
          "sleep_rem": 0.4,
          "sleep_total": 3.1
         },
         {
          "awake": 13.9,
          "bodywt": 0.77,
          "brainwt": 0.0035,
          "index": 24,
          "sleep_cycle": 0.283333333,
          "sleep_rem": 3.5,
          "sleep_total": 10.1
         },
         {
          "awake": 13.1,
          "bodywt": 10,
          "brainwt": 0.115,
          "index": 25,
          "sleep_cycle": null,
          "sleep_rem": 1.1,
          "sleep_total": 10.9
         },
         {
          "awake": 9.1,
          "bodywt": 0.071,
          "brainwt": null,
          "index": 26,
          "sleep_cycle": null,
          "sleep_rem": null,
          "sleep_total": 14.9
         },
         {
          "awake": 11.5,
          "bodywt": 3.3,
          "brainwt": 0.0256,
          "index": 27,
          "sleep_cycle": 0.416666667,
          "sleep_rem": 3.2,
          "sleep_total": 12.5
         },
         {
          "awake": 14.2,
          "bodywt": 0.2,
          "brainwt": 0.005,
          "index": 28,
          "sleep_cycle": 0.55,
          "sleep_rem": 1.1,
          "sleep_total": 9.8
         },
         {
          "awake": 22.1,
          "bodywt": 899.995,
          "brainwt": null,
          "index": 29,
          "sleep_cycle": null,
          "sleep_rem": 0.4,
          "sleep_total": 1.9
         },
         {
          "awake": 21.35,
          "bodywt": 800,
          "brainwt": null,
          "index": 30,
          "sleep_cycle": null,
          "sleep_rem": 0.1,
          "sleep_total": 2.7
         },
         {
          "awake": 17.8,
          "bodywt": 85,
          "brainwt": 0.325,
          "index": 31,
          "sleep_cycle": null,
          "sleep_rem": 1.5,
          "sleep_total": 6.2
         },
         {
          "awake": 17.7,
          "bodywt": 2.625,
          "brainwt": 0.01227,
          "index": 32,
          "sleep_cycle": null,
          "sleep_rem": 0.6,
          "sleep_total": 6.3
         },
         {
          "awake": 16,
          "bodywt": 62,
          "brainwt": 1.32,
          "index": 33,
          "sleep_cycle": 1.5,
          "sleep_rem": 1.9,
          "sleep_total": 8
         },
         {
          "awake": 14.5,
          "bodywt": 1.67,
          "brainwt": null,
          "index": 34,
          "sleep_cycle": null,
          "sleep_rem": 0.9,
          "sleep_total": 9.5
         },
         {
          "awake": 20.7,
          "bodywt": 6654,
          "brainwt": 5.712,
          "index": 35,
          "sleep_cycle": null,
          "sleep_rem": null,
          "sleep_total": 3.3
         },
         {
          "awake": 4.6,
          "bodywt": 0.37,
          "brainwt": null,
          "index": 36,
          "sleep_cycle": null,
          "sleep_rem": 6.6,
          "sleep_total": 19.4
         },
         {
          "awake": 13.9,
          "bodywt": 6.8,
          "brainwt": 0.179,
          "index": 37,
          "sleep_cycle": 0.75,
          "sleep_rem": 1.2,
          "sleep_total": 10.1
         },
         {
          "awake": 9.8,
          "bodywt": 0.053,
          "brainwt": null,
          "index": 38,
          "sleep_cycle": null,
          "sleep_rem": 1.9,
          "sleep_total": 14.2
         },
         {
          "awake": 9.7,
          "bodywt": 0.12,
          "brainwt": 0.001,
          "index": 39,
          "sleep_cycle": 0.2,
          "sleep_rem": 3.1,
          "sleep_total": 14.3
         },
         {
          "awake": 11.2,
          "bodywt": 0.035,
          "brainwt": null,
          "index": 40,
          "sleep_cycle": null,
          "sleep_rem": null,
          "sleep_total": 12.8
         },
         {
          "awake": 11.5,
          "bodywt": 0.022,
          "brainwt": 0.0004,
          "index": 41,
          "sleep_cycle": 0.183333333,
          "sleep_rem": 1.4,
          "sleep_total": 12.5
         },
         {
          "awake": 4.1,
          "bodywt": 0.01,
          "brainwt": 0.00025,
          "index": 42,
          "sleep_cycle": 0.2,
          "sleep_rem": 2,
          "sleep_total": 19.9
         },
         {
          "awake": 9.4,
          "bodywt": 0.266,
          "brainwt": null,
          "index": 43,
          "sleep_cycle": null,
          "sleep_rem": null,
          "sleep_total": 14.6
         },
         {
          "awake": 13,
          "bodywt": 1.4,
          "brainwt": 0.0125,
          "index": 44,
          "sleep_cycle": null,
          "sleep_rem": null,
          "sleep_total": 11
         },
         {
          "awake": 16.3,
          "bodywt": 0.21,
          "brainwt": null,
          "index": 45,
          "sleep_cycle": null,
          "sleep_rem": 0.9,
          "sleep_total": 7.7
         },
         {
          "awake": 9.5,
          "bodywt": 0.028,
          "brainwt": null,
          "index": 46,
          "sleep_cycle": null,
          "sleep_rem": null,
          "sleep_total": 14.5
         },
         {
          "awake": 15.6,
          "bodywt": 2.5,
          "brainwt": 0.0121,
          "index": 47,
          "sleep_cycle": 0.416666667,
          "sleep_rem": 0.9,
          "sleep_total": 8.4
         },
         {
          "awake": 20.2,
          "bodywt": 55.5,
          "brainwt": 0.175,
          "index": 48,
          "sleep_cycle": null,
          "sleep_rem": 0.6,
          "sleep_total": 3.8
         },
         {
          "awake": 14.3,
          "bodywt": 52.2,
          "brainwt": 0.44,
          "index": 49,
          "sleep_cycle": 1.416666667,
          "sleep_rem": 1.4,
          "sleep_total": 9.7
         },
         {
          "awake": 8.2,
          "bodywt": 162.564,
          "brainwt": null,
          "index": 50,
          "sleep_cycle": null,
          "sleep_rem": null,
          "sleep_total": 15.8
         },
         {
          "awake": 13.6,
          "bodywt": 100,
          "brainwt": 0.157,
          "index": 51,
          "sleep_cycle": null,
          "sleep_rem": null,
          "sleep_total": 10.4
         },
         {
          "awake": 10.5,
          "bodywt": 161.499,
          "brainwt": null,
          "index": 52,
          "sleep_cycle": null,
          "sleep_rem": null,
          "sleep_total": 13.5
         },
         {
          "awake": 14.6,
          "bodywt": 25.235,
          "brainwt": 0.18,
          "index": 53,
          "sleep_cycle": 0.666666667,
          "sleep_rem": 1,
          "sleep_total": 9.4
         },
         {
          "awake": 13.7,
          "bodywt": 0.55,
          "brainwt": 0.0024,
          "index": 54,
          "sleep_cycle": null,
          "sleep_rem": 2.7,
          "sleep_total": 10.3
         },
         {
          "awake": 13,
          "bodywt": 1.1,
          "brainwt": null,
          "index": 55,
          "sleep_cycle": null,
          "sleep_rem": null,
          "sleep_total": 11
         },
         {
          "awake": 12.5,
          "bodywt": 0.021,
          "brainwt": null,
          "index": 56,
          "sleep_cycle": null,
          "sleep_rem": null,
          "sleep_total": 11.5
         },
         {
          "awake": 10.3,
          "bodywt": 1.62,
          "brainwt": 0.0114,
          "index": 57,
          "sleep_cycle": null,
          "sleep_rem": 1.8,
          "sleep_total": 13.7
         },
         {
          "awake": 20.5,
          "bodywt": 86,
          "brainwt": null,
          "index": 58,
          "sleep_cycle": null,
          "sleep_rem": 0.4,
          "sleep_total": 3.5
         },
         {
          "awake": 18.45,
          "bodywt": 53.18,
          "brainwt": null,
          "index": 59,
          "sleep_cycle": null,
          "sleep_rem": null,
          "sleep_total": 5.6
         },
         {
          "awake": 12.9,
          "bodywt": 1.1,
          "brainwt": null,
          "index": 60,
          "sleep_cycle": null,
          "sleep_rem": 1.5,
          "sleep_total": 11.1
         },
         {
          "awake": 5.9,
          "bodywt": 60,
          "brainwt": 0.081,
          "index": 61,
          "sleep_cycle": null,
          "sleep_rem": 6.1,
          "sleep_total": 18.1
         },
         {
          "awake": 18.6,
          "bodywt": 3.6,
          "brainwt": 0.021,
          "index": 62,
          "sleep_cycle": null,
          "sleep_rem": 0.5,
          "sleep_total": 5.4
         },
         {
          "awake": 11,
          "bodywt": 0.32,
          "brainwt": 0.0019,
          "index": 63,
          "sleep_cycle": 0.183333333,
          "sleep_rem": 2.4,
          "sleep_total": 13
         },
         {
          "awake": 15.3,
          "bodywt": 0.044,
          "brainwt": null,
          "index": 64,
          "sleep_cycle": null,
          "sleep_rem": null,
          "sleep_total": 8.7
         },
         {
          "awake": 14.4,
          "bodywt": 0.743,
          "brainwt": 0.02,
          "index": 65,
          "sleep_cycle": null,
          "sleep_rem": 1.4,
          "sleep_total": 9.6
         },
         {
          "awake": 15.6,
          "bodywt": 0.075,
          "brainwt": 0.0012,
          "index": 66,
          "sleep_cycle": 0.166666667,
          "sleep_rem": 2.1,
          "sleep_total": 8.4
         },
         {
          "awake": 12.7,
          "bodywt": 0.148,
          "brainwt": 0.00118,
          "index": 67,
          "sleep_cycle": 0.15,
          "sleep_rem": 1.1,
          "sleep_total": 11.3
         },
         {
          "awake": 13.4,
          "bodywt": 0.122,
          "brainwt": 0.003,
          "index": 68,
          "sleep_cycle": null,
          "sleep_rem": 2.4,
          "sleep_total": 10.6
         },
         {
          "awake": 7.4,
          "bodywt": 0.92,
          "brainwt": 0.0057,
          "index": 69,
          "sleep_cycle": null,
          "sleep_rem": null,
          "sleep_total": 16.6
         },
         {
          "awake": 10.2,
          "bodywt": 0.101,
          "brainwt": 0.004,
          "index": 70,
          "sleep_cycle": 0.216666667,
          "sleep_rem": 3.4,
          "sleep_total": 13.8
         },
         {
          "awake": 8.1,
          "bodywt": 0.205,
          "brainwt": null,
          "index": 71,
          "sleep_cycle": null,
          "sleep_rem": 3,
          "sleep_total": 15.9
         },
         {
          "awake": 11.2,
          "bodywt": 0.048,
          "brainwt": 0.00033,
          "index": 72,
          "sleep_cycle": 0.183333333,
          "sleep_rem": 2,
          "sleep_total": 12.8
         },
         {
          "awake": 14.9,
          "bodywt": 86.25,
          "brainwt": 0.18,
          "index": 73,
          "sleep_cycle": 0.5,
          "sleep_rem": 2.4,
          "sleep_total": 9.1
         },
         {
          "awake": 15.4,
          "bodywt": 4.5,
          "brainwt": 0.025,
          "index": 74,
          "sleep_cycle": null,
          "sleep_rem": null,
          "sleep_total": 8.6
         },
         {
          "awake": 8.2,
          "bodywt": 0.112,
          "brainwt": null,
          "index": 75,
          "sleep_cycle": null,
          "sleep_rem": null,
          "sleep_total": 15.8
         },
         {
          "awake": 19.6,
          "bodywt": 207.501,
          "brainwt": 0.169,
          "index": 76,
          "sleep_cycle": 0.9,
          "sleep_rem": 1,
          "sleep_total": 4.4
         },
         {
          "awake": 8.4,
          "bodywt": 0.9,
          "brainwt": 0.0026,
          "index": 77,
          "sleep_cycle": null,
          "sleep_rem": 2.3,
          "sleep_total": 15.6
         },
         {
          "awake": 15.1,
          "bodywt": 0.104,
          "brainwt": 0.0025,
          "index": 78,
          "sleep_cycle": 0.233333333,
          "sleep_rem": 2.6,
          "sleep_total": 8.9
         },
         {
          "awake": 18.8,
          "bodywt": 173.33,
          "brainwt": null,
          "index": 79,
          "sleep_cycle": null,
          "sleep_rem": null,
          "sleep_total": 5.2
         },
         {
          "awake": 17.7,
          "bodywt": 2,
          "brainwt": 0.0175,
          "index": 80,
          "sleep_cycle": null,
          "sleep_rem": 1.3,
          "sleep_total": 6.3
         },
         {
          "awake": 11.5,
          "bodywt": 3.38,
          "brainwt": 0.0445,
          "index": 81,
          "sleep_cycle": null,
          "sleep_rem": null,
          "sleep_total": 12.5
         },
         {
          "awake": 14.2,
          "bodywt": 4.23,
          "brainwt": 0.0504,
          "index": 82,
          "sleep_cycle": 0.35,
          "sleep_rem": 2.4,
          "sleep_total": 9.8
         }
        ],
        "schema": {
         "fields": [
          {
           "name": "index",
           "type": "integer"
          },
          {
           "name": "sleep_total",
           "type": "number"
          },
          {
           "name": "sleep_rem",
           "type": "number"
          },
          {
           "name": "sleep_cycle",
           "type": "number"
          },
          {
           "name": "awake",
           "type": "number"
          },
          {
           "name": "brainwt",
           "type": "number"
          },
          {
           "name": "bodywt",
           "type": "number"
          }
         ],
         "pandas_version": "0.20.0",
         "primaryKey": [
          "index"
         ]
        }
       },
       "total_rows": 83
      },
      "text/html": [
       "<div>\n",
       "<style scoped>\n",
       "    .dataframe tbody tr th:only-of-type {\n",
       "        vertical-align: middle;\n",
       "    }\n",
       "\n",
       "    .dataframe tbody tr th {\n",
       "        vertical-align: top;\n",
       "    }\n",
       "\n",
       "    .dataframe thead th {\n",
       "        text-align: right;\n",
       "    }\n",
       "</style>\n",
       "<table border=\"1\" class=\"dataframe\">\n",
       "  <thead>\n",
       "    <tr style=\"text-align: right;\">\n",
       "      <th></th>\n",
       "      <th>sleep_total</th>\n",
       "      <th>sleep_rem</th>\n",
       "      <th>sleep_cycle</th>\n",
       "      <th>awake</th>\n",
       "      <th>brainwt</th>\n",
       "      <th>bodywt</th>\n",
       "    </tr>\n",
       "  </thead>\n",
       "  <tbody>\n",
       "    <tr>\n",
       "      <th>0</th>\n",
       "      <td>12.1</td>\n",
       "      <td>NaN</td>\n",
       "      <td>NaN</td>\n",
       "      <td>11.9</td>\n",
       "      <td>NaN</td>\n",
       "      <td>50.000</td>\n",
       "    </tr>\n",
       "    <tr>\n",
       "      <th>1</th>\n",
       "      <td>17.0</td>\n",
       "      <td>1.8</td>\n",
       "      <td>NaN</td>\n",
       "      <td>7.0</td>\n",
       "      <td>0.01550</td>\n",
       "      <td>0.480</td>\n",
       "    </tr>\n",
       "    <tr>\n",
       "      <th>2</th>\n",
       "      <td>14.4</td>\n",
       "      <td>2.4</td>\n",
       "      <td>NaN</td>\n",
       "      <td>9.6</td>\n",
       "      <td>NaN</td>\n",
       "      <td>1.350</td>\n",
       "    </tr>\n",
       "    <tr>\n",
       "      <th>3</th>\n",
       "      <td>14.9</td>\n",
       "      <td>2.3</td>\n",
       "      <td>0.133333</td>\n",
       "      <td>9.1</td>\n",
       "      <td>0.00029</td>\n",
       "      <td>0.019</td>\n",
       "    </tr>\n",
       "    <tr>\n",
       "      <th>4</th>\n",
       "      <td>4.0</td>\n",
       "      <td>0.7</td>\n",
       "      <td>0.666667</td>\n",
       "      <td>20.0</td>\n",
       "      <td>0.42300</td>\n",
       "      <td>600.000</td>\n",
       "    </tr>\n",
       "    <tr>\n",
       "      <th>...</th>\n",
       "      <td>...</td>\n",
       "      <td>...</td>\n",
       "      <td>...</td>\n",
       "      <td>...</td>\n",
       "      <td>...</td>\n",
       "      <td>...</td>\n",
       "    </tr>\n",
       "    <tr>\n",
       "      <th>78</th>\n",
       "      <td>8.9</td>\n",
       "      <td>2.6</td>\n",
       "      <td>0.233333</td>\n",
       "      <td>15.1</td>\n",
       "      <td>0.00250</td>\n",
       "      <td>0.104</td>\n",
       "    </tr>\n",
       "    <tr>\n",
       "      <th>79</th>\n",
       "      <td>5.2</td>\n",
       "      <td>NaN</td>\n",
       "      <td>NaN</td>\n",
       "      <td>18.8</td>\n",
       "      <td>NaN</td>\n",
       "      <td>173.330</td>\n",
       "    </tr>\n",
       "    <tr>\n",
       "      <th>80</th>\n",
       "      <td>6.3</td>\n",
       "      <td>1.3</td>\n",
       "      <td>NaN</td>\n",
       "      <td>17.7</td>\n",
       "      <td>0.01750</td>\n",
       "      <td>2.000</td>\n",
       "    </tr>\n",
       "    <tr>\n",
       "      <th>81</th>\n",
       "      <td>12.5</td>\n",
       "      <td>NaN</td>\n",
       "      <td>NaN</td>\n",
       "      <td>11.5</td>\n",
       "      <td>0.04450</td>\n",
       "      <td>3.380</td>\n",
       "    </tr>\n",
       "    <tr>\n",
       "      <th>82</th>\n",
       "      <td>9.8</td>\n",
       "      <td>2.4</td>\n",
       "      <td>0.350000</td>\n",
       "      <td>14.2</td>\n",
       "      <td>0.05040</td>\n",
       "      <td>4.230</td>\n",
       "    </tr>\n",
       "  </tbody>\n",
       "</table>\n",
       "<p>83 rows × 6 columns</p>\n",
       "</div>"
      ],
      "text/plain": [
       "    sleep_total  sleep_rem  sleep_cycle  awake  brainwt   bodywt\n",
       "0          12.1        NaN          NaN   11.9      NaN   50.000\n",
       "1          17.0        1.8          NaN    7.0  0.01550    0.480\n",
       "2          14.4        2.4          NaN    9.6      NaN    1.350\n",
       "3          14.9        2.3     0.133333    9.1  0.00029    0.019\n",
       "4           4.0        0.7     0.666667   20.0  0.42300  600.000\n",
       "..          ...        ...          ...    ...      ...      ...\n",
       "78          8.9        2.6     0.233333   15.1  0.00250    0.104\n",
       "79          5.2        NaN          NaN   18.8      NaN  173.330\n",
       "80          6.3        1.3          NaN   17.7  0.01750    2.000\n",
       "81         12.5        NaN          NaN   11.5  0.04450    3.380\n",
       "82          9.8        2.4     0.350000   14.2  0.05040    4.230\n",
       "\n",
       "[83 rows x 6 columns]"
      ]
     },
     "execution_count": 8,
     "metadata": {},
     "output_type": "execute_result"
    }
   ],
   "source": [
    "msleep_num = msleep.select_dtypes(\"float\")\n",
    "msleep_num"
   ]
  },
  {
   "cell_type": "code",
   "execution_count": null,
   "id": "f0a826ab-f3cc-4e2a-95d2-3d67d3aa77a2",
   "metadata": {},
   "outputs": [
    {
     "data": {
      "application/com.datacamp.data-table.v1+json": {
       "is_truncated": false,
       "table": {
        "data": [
         {
          "conservation": "lc",
          "genus": "Acinonyx",
          "index": 0,
          "name": "Cheetah",
          "order": "Carnivora",
          "vore": "carni"
         },
         {
          "conservation": null,
          "genus": "Aotus",
          "index": 1,
          "name": "Owl monkey",
          "order": "Primates",
          "vore": "omni"
         },
         {
          "conservation": "nt",
          "genus": "Aplodontia",
          "index": 2,
          "name": "Mountain beaver",
          "order": "Rodentia",
          "vore": "herbi"
         },
         {
          "conservation": "lc",
          "genus": "Blarina",
          "index": 3,
          "name": "Greater short-tailed shrew",
          "order": "Soricomorpha",
          "vore": "omni"
         },
         {
          "conservation": null,
          "genus": "Bos",
          "index": 4,
          "name": "Cow",
          "order": "Artiodactyla",
          "vore": "herbi"
         },
         {
          "conservation": null,
          "genus": "Bradypus",
          "index": 5,
          "name": "Three-toed sloth",
          "order": "Pilosa",
          "vore": "herbi"
         },
         {
          "conservation": "vu",
          "genus": "Callorhinus",
          "index": 6,
          "name": "Northern fur seal",
          "order": "Carnivora",
          "vore": "carni"
         },
         {
          "conservation": null,
          "genus": "Calomys",
          "index": 7,
          "name": "Vesper mouse",
          "order": "Rodentia",
          "vore": null
         },
         {
          "conservation": null,
          "genus": "Canis",
          "index": 8,
          "name": "Dog",
          "order": "Carnivora",
          "vore": "carni"
         },
         {
          "conservation": "lc",
          "genus": "Capreolus",
          "index": 9,
          "name": "Roe deer",
          "order": "Artiodactyla",
          "vore": "herbi"
         },
         {
          "conservation": "lc",
          "genus": "Capri",
          "index": 10,
          "name": "Goat",
          "order": "Artiodactyla",
          "vore": "herbi"
         },
         {
          "conservation": null,
          "genus": "Cavis",
          "index": 11,
          "name": "Guinea pig",
          "order": "Rodentia",
          "vore": "herbi"
         },
         {
          "conservation": "lc",
          "genus": "Cercopithecus",
          "index": 12,
          "name": "Grivet",
          "order": "Primates",
          "vore": "omni"
         },
         {
          "conservation": null,
          "genus": "Chinchilla",
          "index": 13,
          "name": "Chinchilla",
          "order": "Rodentia",
          "vore": "herbi"
         },
         {
          "conservation": "lc",
          "genus": "Condylura",
          "index": 14,
          "name": "Star-nosed mole",
          "order": "Soricomorpha",
          "vore": "omni"
         },
         {
          "conservation": null,
          "genus": "Cricetomys",
          "index": 15,
          "name": "African giant pouched rat",
          "order": "Rodentia",
          "vore": "omni"
         },
         {
          "conservation": "lc",
          "genus": "Cryptotis",
          "index": 16,
          "name": "Lesser short-tailed shrew",
          "order": "Soricomorpha",
          "vore": "omni"
         },
         {
          "conservation": "lc",
          "genus": "Dasypus",
          "index": 17,
          "name": "Long-nosed armadillo",
          "order": "Cingulata",
          "vore": "carni"
         },
         {
          "conservation": "lc",
          "genus": "Dendrohyrax",
          "index": 18,
          "name": "Tree hyrax",
          "order": "Hyracoidea",
          "vore": "herbi"
         },
         {
          "conservation": "lc",
          "genus": "Didelphis",
          "index": 19,
          "name": "North American Opossum",
          "order": "Didelphimorphia",
          "vore": "omni"
         },
         {
          "conservation": "en",
          "genus": "Elephas",
          "index": 20,
          "name": "Asian elephant",
          "order": "Proboscidea",
          "vore": "herbi"
         },
         {
          "conservation": "lc",
          "genus": "Eptesicus",
          "index": 21,
          "name": "Big brown bat",
          "order": "Chiroptera",
          "vore": "insecti"
         },
         {
          "conservation": null,
          "genus": "Equus",
          "index": 22,
          "name": "Horse",
          "order": "Perissodactyla",
          "vore": "herbi"
         },
         {
          "conservation": null,
          "genus": "Equus",
          "index": 23,
          "name": "Donkey",
          "order": "Perissodactyla",
          "vore": "herbi"
         },
         {
          "conservation": "lc",
          "genus": "Erinaceus",
          "index": 24,
          "name": "European hedgehog",
          "order": "Erinaceomorpha",
          "vore": "omni"
         },
         {
          "conservation": "lc",
          "genus": "Erythrocebus",
          "index": 25,
          "name": "Patas monkey",
          "order": "Primates",
          "vore": "omni"
         },
         {
          "conservation": null,
          "genus": "Eutamias",
          "index": 26,
          "name": "Western american chipmunk",
          "order": "Rodentia",
          "vore": "herbi"
         },
         {
          "conservation": null,
          "genus": "Felis",
          "index": 27,
          "name": "Domestic cat",
          "order": "Carnivora",
          "vore": "carni"
         },
         {
          "conservation": null,
          "genus": "Galago",
          "index": 28,
          "name": "Galago",
          "order": "Primates",
          "vore": "omni"
         },
         {
          "conservation": null,
          "genus": "Giraffa",
          "index": 29,
          "name": "Giraffe",
          "order": "Artiodactyla",
          "vore": "herbi"
         },
         {
          "conservation": null,
          "genus": "Globicephalus",
          "index": 30,
          "name": "Pilot whale",
          "order": "Cetacea",
          "vore": "carni"
         },
         {
          "conservation": "lc",
          "genus": "Haliochoerus",
          "index": 31,
          "name": "Gray seal",
          "order": "Carnivora",
          "vore": "carni"
         },
         {
          "conservation": "lc",
          "genus": "Heterohyrax",
          "index": 32,
          "name": "Gray hyrax",
          "order": "Hyracoidea",
          "vore": "herbi"
         },
         {
          "conservation": null,
          "genus": "Homo",
          "index": 33,
          "name": "Human",
          "order": "Primates",
          "vore": "omni"
         },
         {
          "conservation": "vu",
          "genus": "Lemur",
          "index": 34,
          "name": "Mongoose lemur",
          "order": "Primates",
          "vore": "herbi"
         },
         {
          "conservation": "vu",
          "genus": "Loxodonta",
          "index": 35,
          "name": "African elephant",
          "order": "Proboscidea",
          "vore": "herbi"
         },
         {
          "conservation": "lc",
          "genus": "Lutreolina",
          "index": 36,
          "name": "Thick-tailed opposum",
          "order": "Didelphimorphia",
          "vore": "carni"
         },
         {
          "conservation": null,
          "genus": "Macaca",
          "index": 37,
          "name": "Macaque",
          "order": "Primates",
          "vore": "omni"
         },
         {
          "conservation": "lc",
          "genus": "Meriones",
          "index": 38,
          "name": "Mongolian gerbil",
          "order": "Rodentia",
          "vore": "herbi"
         },
         {
          "conservation": "en",
          "genus": "Mesocricetus",
          "index": 39,
          "name": "Golden hamster",
          "order": "Rodentia",
          "vore": "herbi"
         },
         {
          "conservation": null,
          "genus": "Microtus",
          "index": 40,
          "name": "Vole ",
          "order": "Rodentia",
          "vore": "herbi"
         },
         {
          "conservation": "nt",
          "genus": "Mus",
          "index": 41,
          "name": "House mouse",
          "order": "Rodentia",
          "vore": "herbi"
         },
         {
          "conservation": null,
          "genus": "Myotis",
          "index": 42,
          "name": "Little brown bat",
          "order": "Chiroptera",
          "vore": "insecti"
         },
         {
          "conservation": "nt",
          "genus": "Neofiber",
          "index": 43,
          "name": "Round-tailed muskrat",
          "order": "Rodentia",
          "vore": "herbi"
         },
         {
          "conservation": null,
          "genus": "Nyctibeus",
          "index": 44,
          "name": "Slow loris",
          "order": "Primates",
          "vore": "carni"
         },
         {
          "conservation": "lc",
          "genus": "Octodon",
          "index": 45,
          "name": "Degu",
          "order": "Rodentia",
          "vore": "herbi"
         },
         {
          "conservation": "lc",
          "genus": "Onychomys",
          "index": 46,
          "name": "Northern grasshopper mouse",
          "order": "Rodentia",
          "vore": "carni"
         },
         {
          "conservation": null,
          "genus": "Oryctolagus",
          "index": 47,
          "name": "Rabbit",
          "order": "Lagomorpha",
          "vore": "herbi"
         },
         {
          "conservation": null,
          "genus": "Ovis",
          "index": 48,
          "name": "Sheep",
          "order": "Artiodactyla",
          "vore": "herbi"
         },
         {
          "conservation": null,
          "genus": "Pan",
          "index": 49,
          "name": "Chimpanzee",
          "order": "Primates",
          "vore": "omni"
         },
         {
          "conservation": "en",
          "genus": "Panthera",
          "index": 50,
          "name": "Tiger",
          "order": "Carnivora",
          "vore": "carni"
         },
         {
          "conservation": "nt",
          "genus": "Panthera",
          "index": 51,
          "name": "Jaguar",
          "order": "Carnivora",
          "vore": "carni"
         },
         {
          "conservation": "vu",
          "genus": "Panthera",
          "index": 52,
          "name": "Lion",
          "order": "Carnivora",
          "vore": "carni"
         },
         {
          "conservation": null,
          "genus": "Papio",
          "index": 53,
          "name": "Baboon",
          "order": "Primates",
          "vore": "omni"
         },
         {
          "conservation": "lc",
          "genus": "Paraechinus",
          "index": 54,
          "name": "Desert hedgehog",
          "order": "Erinaceomorpha",
          "vore": null
         },
         {
          "conservation": "lc",
          "genus": "Perodicticus",
          "index": 55,
          "name": "Potto",
          "order": "Primates",
          "vore": "omni"
         },
         {
          "conservation": null,
          "genus": "Peromyscus",
          "index": 56,
          "name": "Deer mouse",
          "order": "Rodentia",
          "vore": null
         },
         {
          "conservation": null,
          "genus": "Phalanger",
          "index": 57,
          "name": "Phalanger",
          "order": "Diprotodontia",
          "vore": null
         },
         {
          "conservation": "vu",
          "genus": "Phoca",
          "index": 58,
          "name": "Caspian seal",
          "order": "Carnivora",
          "vore": "carni"
         },
         {
          "conservation": "vu",
          "genus": "Phocoena",
          "index": 59,
          "name": "Common porpoise",
          "order": "Cetacea",
          "vore": "carni"
         },
         {
          "conservation": null,
          "genus": "Potorous",
          "index": 60,
          "name": "Potoroo",
          "order": "Diprotodontia",
          "vore": "herbi"
         },
         {
          "conservation": "en",
          "genus": "Priodontes",
          "index": 61,
          "name": "Giant armadillo",
          "order": "Cingulata",
          "vore": "insecti"
         },
         {
          "conservation": "lc",
          "genus": "Procavia",
          "index": 62,
          "name": "Rock hyrax",
          "order": "Hyracoidea",
          "vore": null
         },
         {
          "conservation": "lc",
          "genus": "Rattus",
          "index": 63,
          "name": "Laboratory rat",
          "order": "Rodentia",
          "vore": "herbi"
         },
         {
          "conservation": null,
          "genus": "Rhabdomys",
          "index": 64,
          "name": "African striped mouse",
          "order": "Rodentia",
          "vore": "omni"
         },
         {
          "conservation": null,
          "genus": "Saimiri",
          "index": 65,
          "name": "Squirrel monkey",
          "order": "Primates",
          "vore": "omni"
         },
         {
          "conservation": "lc",
          "genus": "Scalopus",
          "index": 66,
          "name": "Eastern american mole",
          "order": "Soricomorpha",
          "vore": "insecti"
         },
         {
          "conservation": null,
          "genus": "Sigmodon",
          "index": 67,
          "name": "Cotton rat",
          "order": "Rodentia",
          "vore": "herbi"
         },
         {
          "conservation": null,
          "genus": "Spalax",
          "index": 68,
          "name": "Mole rat",
          "order": "Rodentia",
          "vore": null
         },
         {
          "conservation": "lc",
          "genus": "Spermophilus",
          "index": 69,
          "name": "Arctic ground squirrel",
          "order": "Rodentia",
          "vore": "herbi"
         },
         {
          "conservation": "lc",
          "genus": "Spermophilus",
          "index": 70,
          "name": "Thirteen-lined ground squirrel",
          "order": "Rodentia",
          "vore": "herbi"
         },
         {
          "conservation": "lc",
          "genus": "Spermophilus",
          "index": 71,
          "name": "Golden-mantled ground squirrel",
          "order": "Rodentia",
          "vore": "herbi"
         },
         {
          "conservation": null,
          "genus": "Suncus",
          "index": 72,
          "name": "Musk shrew",
          "order": "Soricomorpha",
          "vore": null
         },
         {
          "conservation": null,
          "genus": "Sus",
          "index": 73,
          "name": "Pig",
          "order": "Artiodactyla",
          "vore": "omni"
         },
         {
          "conservation": null,
          "genus": "Tachyglossus",
          "index": 74,
          "name": "Short-nosed echidna",
          "order": "Monotremata",
          "vore": "insecti"
         },
         {
          "conservation": null,
          "genus": "Tamias",
          "index": 75,
          "name": "Eastern american chipmunk",
          "order": "Rodentia",
          "vore": "herbi"
         },
         {
          "conservation": "vu",
          "genus": "Tapirus",
          "index": 76,
          "name": "Brazilian tapir",
          "order": "Perissodactyla",
          "vore": "herbi"
         },
         {
          "conservation": null,
          "genus": "Tenrec",
          "index": 77,
          "name": "Tenrec",
          "order": "Afrosoricida",
          "vore": "omni"
         },
         {
          "conservation": null,
          "genus": "Tupaia",
          "index": 78,
          "name": "Tree shrew",
          "order": "Scandentia",
          "vore": "omni"
         },
         {
          "conservation": null,
          "genus": "Tursiops",
          "index": 79,
          "name": "Bottle-nosed dolphin",
          "order": "Cetacea",
          "vore": "carni"
         },
         {
          "conservation": null,
          "genus": "Genetta",
          "index": 80,
          "name": "Genet",
          "order": "Carnivora",
          "vore": "carni"
         },
         {
          "conservation": null,
          "genus": "Vulpes",
          "index": 81,
          "name": "Arctic fox",
          "order": "Carnivora",
          "vore": "carni"
         },
         {
          "conservation": null,
          "genus": "Vulpes",
          "index": 82,
          "name": "Red fox",
          "order": "Carnivora",
          "vore": "carni"
         }
        ],
        "schema": {
         "fields": [
          {
           "name": "index",
           "type": "integer"
          },
          {
           "name": "name",
           "type": "string"
          },
          {
           "name": "genus",
           "type": "string"
          },
          {
           "constraints": {
            "enum": [
             "carni",
             "herbi",
             "insecti",
             "omni"
            ]
           },
           "name": "vore",
           "ordered": false,
           "type": "any"
          },
          {
           "name": "order",
           "type": "string"
          },
          {
           "constraints": {
            "enum": [
             "lc",
             "nt",
             "vu",
             "en",
             "cr",
             "ew",
             "ex"
            ]
           },
           "name": "conservation",
           "ordered": true,
           "type": "any"
          }
         ],
         "pandas_version": "0.20.0",
         "primaryKey": [
          "index"
         ]
        }
       },
       "total_rows": 83
      },
      "text/html": [
       "<div>\n",
       "<style scoped>\n",
       "    .dataframe tbody tr th:only-of-type {\n",
       "        vertical-align: middle;\n",
       "    }\n",
       "\n",
       "    .dataframe tbody tr th {\n",
       "        vertical-align: top;\n",
       "    }\n",
       "\n",
       "    .dataframe thead th {\n",
       "        text-align: right;\n",
       "    }\n",
       "</style>\n",
       "<table border=\"1\" class=\"dataframe\">\n",
       "  <thead>\n",
       "    <tr style=\"text-align: right;\">\n",
       "      <th></th>\n",
       "      <th>name</th>\n",
       "      <th>genus</th>\n",
       "      <th>vore</th>\n",
       "      <th>order</th>\n",
       "      <th>conservation</th>\n",
       "    </tr>\n",
       "  </thead>\n",
       "  <tbody>\n",
       "    <tr>\n",
       "      <th>0</th>\n",
       "      <td>Cheetah</td>\n",
       "      <td>Acinonyx</td>\n",
       "      <td>carni</td>\n",
       "      <td>Carnivora</td>\n",
       "      <td>lc</td>\n",
       "    </tr>\n",
       "    <tr>\n",
       "      <th>1</th>\n",
       "      <td>Owl monkey</td>\n",
       "      <td>Aotus</td>\n",
       "      <td>omni</td>\n",
       "      <td>Primates</td>\n",
       "      <td>NaN</td>\n",
       "    </tr>\n",
       "    <tr>\n",
       "      <th>2</th>\n",
       "      <td>Mountain beaver</td>\n",
       "      <td>Aplodontia</td>\n",
       "      <td>herbi</td>\n",
       "      <td>Rodentia</td>\n",
       "      <td>nt</td>\n",
       "    </tr>\n",
       "    <tr>\n",
       "      <th>3</th>\n",
       "      <td>Greater short-tailed shrew</td>\n",
       "      <td>Blarina</td>\n",
       "      <td>omni</td>\n",
       "      <td>Soricomorpha</td>\n",
       "      <td>lc</td>\n",
       "    </tr>\n",
       "    <tr>\n",
       "      <th>4</th>\n",
       "      <td>Cow</td>\n",
       "      <td>Bos</td>\n",
       "      <td>herbi</td>\n",
       "      <td>Artiodactyla</td>\n",
       "      <td>NaN</td>\n",
       "    </tr>\n",
       "    <tr>\n",
       "      <th>...</th>\n",
       "      <td>...</td>\n",
       "      <td>...</td>\n",
       "      <td>...</td>\n",
       "      <td>...</td>\n",
       "      <td>...</td>\n",
       "    </tr>\n",
       "    <tr>\n",
       "      <th>78</th>\n",
       "      <td>Tree shrew</td>\n",
       "      <td>Tupaia</td>\n",
       "      <td>omni</td>\n",
       "      <td>Scandentia</td>\n",
       "      <td>NaN</td>\n",
       "    </tr>\n",
       "    <tr>\n",
       "      <th>79</th>\n",
       "      <td>Bottle-nosed dolphin</td>\n",
       "      <td>Tursiops</td>\n",
       "      <td>carni</td>\n",
       "      <td>Cetacea</td>\n",
       "      <td>NaN</td>\n",
       "    </tr>\n",
       "    <tr>\n",
       "      <th>80</th>\n",
       "      <td>Genet</td>\n",
       "      <td>Genetta</td>\n",
       "      <td>carni</td>\n",
       "      <td>Carnivora</td>\n",
       "      <td>NaN</td>\n",
       "    </tr>\n",
       "    <tr>\n",
       "      <th>81</th>\n",
       "      <td>Arctic fox</td>\n",
       "      <td>Vulpes</td>\n",
       "      <td>carni</td>\n",
       "      <td>Carnivora</td>\n",
       "      <td>NaN</td>\n",
       "    </tr>\n",
       "    <tr>\n",
       "      <th>82</th>\n",
       "      <td>Red fox</td>\n",
       "      <td>Vulpes</td>\n",
       "      <td>carni</td>\n",
       "      <td>Carnivora</td>\n",
       "      <td>NaN</td>\n",
       "    </tr>\n",
       "  </tbody>\n",
       "</table>\n",
       "<p>83 rows × 5 columns</p>\n",
       "</div>"
      ],
      "text/plain": [
       "                          name       genus   vore         order conservation\n",
       "0                      Cheetah    Acinonyx  carni     Carnivora           lc\n",
       "1                   Owl monkey       Aotus   omni      Primates          NaN\n",
       "2              Mountain beaver  Aplodontia  herbi      Rodentia           nt\n",
       "3   Greater short-tailed shrew     Blarina   omni  Soricomorpha           lc\n",
       "4                          Cow         Bos  herbi  Artiodactyla          NaN\n",
       "..                         ...         ...    ...           ...          ...\n",
       "78                  Tree shrew      Tupaia   omni    Scandentia          NaN\n",
       "79        Bottle-nosed dolphin    Tursiops  carni       Cetacea          NaN\n",
       "80                       Genet     Genetta  carni     Carnivora          NaN\n",
       "81                  Arctic fox      Vulpes  carni     Carnivora          NaN\n",
       "82                     Red fox      Vulpes  carni     Carnivora          NaN\n",
       "\n",
       "[83 rows x 5 columns]"
      ]
     },
     "execution_count": 9,
     "metadata": {},
     "output_type": "execute_result"
    }
   ],
   "source": [
    "msleep_cat = msleep.select_dtypes([\"object\", \"category\"])\n",
    "msleep_cat"
   ]
  },
  {
   "cell_type": "markdown",
   "id": "ddbd4529-96fd-4d54-a815-c3c35ecef3fc",
   "metadata": {},
   "source": [
    "## Replacing with means or medians"
   ]
  },
  {
   "cell_type": "markdown",
   "id": "79054536-0e24-4603-a2a4-d22655c22b1c",
   "metadata": {},
   "source": [
    "The simplest (and stupidest) imputation approach is to just to replace missing values with the mean or median of the column.\n",
    "\n",
    "We have two options: **scikit-learn**'s [`SimpleImputer()`](https://scikit-learn.org/stable/modules/generated/sklearn.impute.SimpleImputer.html) and **pandas**'s [`.fillna()`](https://pandas.pydata.org/pandas-docs/stable/reference/api/pandas.DataFrame.fillna.html).\n",
    "\n",
    "We'll focus on `SimpleImputer()` since it's easiest to transition to the more advanced imputers later, but check our working with `.fillna()`."
   ]
  },
  {
   "cell_type": "markdown",
   "id": "d8b5cb59-6ebc-43fd-8123-2f8f2fb1cdfc",
   "metadata": {},
   "source": [
    "First we import the **impute** submodule of **scikit learn**, and create a `SimpleImputer()` object."
   ]
  },
  {
   "cell_type": "code",
   "execution_count": null,
   "id": "20356c28-6ec0-4eba-beaf-5cb32d48f49a",
   "metadata": {},
   "outputs": [],
   "source": [
    "import sklearn.impute as si\n",
    "simp = si.SimpleImputer()"
   ]
  },
  {
   "cell_type": "markdown",
   "id": "10d9f3a9-9699-419a-ab1b-496384dfd90e",
   "metadata": {},
   "source": [
    "Now we call the [`.fit_transform()`](https://scikit-learn.org/stable/modules/generated/sklearn.impute.SimpleImputer.html#sklearn.impute.SimpleImputer.fit_transform) method. *Fitting* means calculating the mean of the columns, and *transforming* means replacing the missing values with those means.\n",
    "\n",
    "One annoyance is the **scikit-learn** only cares about **NumPy** arrays, so we have to manually convert it back to a data frame."
   ]
  },
  {
   "cell_type": "code",
   "execution_count": null,
   "id": "fb149e50-a27e-4894-829a-1cd6dfcee777",
   "metadata": {},
   "outputs": [
    {
     "data": {
      "application/com.datacamp.data-table.v1+json": {
       "is_truncated": false,
       "table": {
        "data": [
         {
          "awake": 11.9,
          "bodywt": 50,
          "brainwt": 0.2815814286,
          "index": 0,
          "sleep_cycle": 0.4395833333,
          "sleep_rem": 1.8754098361,
          "sleep_total": 12.1
         },
         {
          "awake": 7,
          "bodywt": 0.48,
          "brainwt": 0.0155,
          "index": 1,
          "sleep_cycle": 0.4395833333,
          "sleep_rem": 1.8,
          "sleep_total": 17
         },
         {
          "awake": 9.6,
          "bodywt": 1.35,
          "brainwt": 0.2815814286,
          "index": 2,
          "sleep_cycle": 0.4395833333,
          "sleep_rem": 2.4,
          "sleep_total": 14.4
         },
         {
          "awake": 9.1,
          "bodywt": 0.019,
          "brainwt": 0.00029,
          "index": 3,
          "sleep_cycle": 0.133333333,
          "sleep_rem": 2.3,
          "sleep_total": 14.9
         },
         {
          "awake": 20,
          "bodywt": 600,
          "brainwt": 0.423,
          "index": 4,
          "sleep_cycle": 0.666666667,
          "sleep_rem": 0.7,
          "sleep_total": 4
         },
         {
          "awake": 9.6,
          "bodywt": 3.85,
          "brainwt": 0.2815814286,
          "index": 5,
          "sleep_cycle": 0.766666667,
          "sleep_rem": 2.2,
          "sleep_total": 14.4
         },
         {
          "awake": 15.3,
          "bodywt": 20.49,
          "brainwt": 0.2815814286,
          "index": 6,
          "sleep_cycle": 0.383333333,
          "sleep_rem": 1.4,
          "sleep_total": 8.7
         },
         {
          "awake": 17,
          "bodywt": 0.045,
          "brainwt": 0.2815814286,
          "index": 7,
          "sleep_cycle": 0.4395833333,
          "sleep_rem": 1.8754098361,
          "sleep_total": 7
         },
         {
          "awake": 13.9,
          "bodywt": 14,
          "brainwt": 0.07,
          "index": 8,
          "sleep_cycle": 0.333333333,
          "sleep_rem": 2.9,
          "sleep_total": 10.1
         },
         {
          "awake": 21,
          "bodywt": 14.8,
          "brainwt": 0.0982,
          "index": 9,
          "sleep_cycle": 0.4395833333,
          "sleep_rem": 1.8754098361,
          "sleep_total": 3
         },
         {
          "awake": 18.7,
          "bodywt": 33.5,
          "brainwt": 0.115,
          "index": 10,
          "sleep_cycle": 0.4395833333,
          "sleep_rem": 0.6,
          "sleep_total": 5.3
         },
         {
          "awake": 14.6,
          "bodywt": 0.728,
          "brainwt": 0.0055,
          "index": 11,
          "sleep_cycle": 0.216666667,
          "sleep_rem": 0.8,
          "sleep_total": 9.4
         },
         {
          "awake": 14,
          "bodywt": 4.75,
          "brainwt": 0.2815814286,
          "index": 12,
          "sleep_cycle": 0.4395833333,
          "sleep_rem": 0.7,
          "sleep_total": 10
         },
         {
          "awake": 11.5,
          "bodywt": 0.42,
          "brainwt": 0.0064,
          "index": 13,
          "sleep_cycle": 0.116666667,
          "sleep_rem": 1.5,
          "sleep_total": 12.5
         },
         {
          "awake": 13.7,
          "bodywt": 0.06,
          "brainwt": 0.001,
          "index": 14,
          "sleep_cycle": 0.4395833333,
          "sleep_rem": 2.2,
          "sleep_total": 10.3
         },
         {
          "awake": 15.7,
          "bodywt": 1,
          "brainwt": 0.0066,
          "index": 15,
          "sleep_cycle": 0.4395833333,
          "sleep_rem": 2,
          "sleep_total": 8.3
         },
         {
          "awake": 14.9,
          "bodywt": 0.005,
          "brainwt": 0.00014,
          "index": 16,
          "sleep_cycle": 0.15,
          "sleep_rem": 1.4,
          "sleep_total": 9.1
         },
         {
          "awake": 6.6,
          "bodywt": 3.5,
          "brainwt": 0.0108,
          "index": 17,
          "sleep_cycle": 0.383333333,
          "sleep_rem": 3.1,
          "sleep_total": 17.4
         },
         {
          "awake": 18.7,
          "bodywt": 2.95,
          "brainwt": 0.0123,
          "index": 18,
          "sleep_cycle": 0.4395833333,
          "sleep_rem": 0.5,
          "sleep_total": 5.3
         },
         {
          "awake": 6,
          "bodywt": 1.7,
          "brainwt": 0.0063,
          "index": 19,
          "sleep_cycle": 0.333333333,
          "sleep_rem": 4.9,
          "sleep_total": 18
         },
         {
          "awake": 20.1,
          "bodywt": 2547,
          "brainwt": 4.603,
          "index": 20,
          "sleep_cycle": 0.4395833333,
          "sleep_rem": 1.8754098361,
          "sleep_total": 3.9
         },
         {
          "awake": 4.3,
          "bodywt": 0.023,
          "brainwt": 0.0003,
          "index": 21,
          "sleep_cycle": 0.116666667,
          "sleep_rem": 3.9,
          "sleep_total": 19.7
         },
         {
          "awake": 21.1,
          "bodywt": 521,
          "brainwt": 0.655,
          "index": 22,
          "sleep_cycle": 1,
          "sleep_rem": 0.6,
          "sleep_total": 2.9
         },
         {
          "awake": 20.9,
          "bodywt": 187,
          "brainwt": 0.419,
          "index": 23,
          "sleep_cycle": 0.4395833333,
          "sleep_rem": 0.4,
          "sleep_total": 3.1
         },
         {
          "awake": 13.9,
          "bodywt": 0.77,
          "brainwt": 0.0035,
          "index": 24,
          "sleep_cycle": 0.283333333,
          "sleep_rem": 3.5,
          "sleep_total": 10.1
         },
         {
          "awake": 13.1,
          "bodywt": 10,
          "brainwt": 0.115,
          "index": 25,
          "sleep_cycle": 0.4395833333,
          "sleep_rem": 1.1,
          "sleep_total": 10.9
         },
         {
          "awake": 9.1,
          "bodywt": 0.071,
          "brainwt": 0.2815814286,
          "index": 26,
          "sleep_cycle": 0.4395833333,
          "sleep_rem": 1.8754098361,
          "sleep_total": 14.9
         },
         {
          "awake": 11.5,
          "bodywt": 3.3,
          "brainwt": 0.0256,
          "index": 27,
          "sleep_cycle": 0.416666667,
          "sleep_rem": 3.2,
          "sleep_total": 12.5
         },
         {
          "awake": 14.2,
          "bodywt": 0.2,
          "brainwt": 0.005,
          "index": 28,
          "sleep_cycle": 0.55,
          "sleep_rem": 1.1,
          "sleep_total": 9.8
         },
         {
          "awake": 22.1,
          "bodywt": 899.995,
          "brainwt": 0.2815814286,
          "index": 29,
          "sleep_cycle": 0.4395833333,
          "sleep_rem": 0.4,
          "sleep_total": 1.9
         },
         {
          "awake": 21.35,
          "bodywt": 800,
          "brainwt": 0.2815814286,
          "index": 30,
          "sleep_cycle": 0.4395833333,
          "sleep_rem": 0.1,
          "sleep_total": 2.7
         },
         {
          "awake": 17.8,
          "bodywt": 85,
          "brainwt": 0.325,
          "index": 31,
          "sleep_cycle": 0.4395833333,
          "sleep_rem": 1.5,
          "sleep_total": 6.2
         },
         {
          "awake": 17.7,
          "bodywt": 2.625,
          "brainwt": 0.01227,
          "index": 32,
          "sleep_cycle": 0.4395833333,
          "sleep_rem": 0.6,
          "sleep_total": 6.3
         },
         {
          "awake": 16,
          "bodywt": 62,
          "brainwt": 1.32,
          "index": 33,
          "sleep_cycle": 1.5,
          "sleep_rem": 1.9,
          "sleep_total": 8
         },
         {
          "awake": 14.5,
          "bodywt": 1.67,
          "brainwt": 0.2815814286,
          "index": 34,
          "sleep_cycle": 0.4395833333,
          "sleep_rem": 0.9,
          "sleep_total": 9.5
         },
         {
          "awake": 20.7,
          "bodywt": 6654,
          "brainwt": 5.712,
          "index": 35,
          "sleep_cycle": 0.4395833333,
          "sleep_rem": 1.8754098361,
          "sleep_total": 3.3
         },
         {
          "awake": 4.6,
          "bodywt": 0.37,
          "brainwt": 0.2815814286,
          "index": 36,
          "sleep_cycle": 0.4395833333,
          "sleep_rem": 6.6,
          "sleep_total": 19.4
         },
         {
          "awake": 13.9,
          "bodywt": 6.8,
          "brainwt": 0.179,
          "index": 37,
          "sleep_cycle": 0.75,
          "sleep_rem": 1.2,
          "sleep_total": 10.1
         },
         {
          "awake": 9.8,
          "bodywt": 0.053,
          "brainwt": 0.2815814286,
          "index": 38,
          "sleep_cycle": 0.4395833333,
          "sleep_rem": 1.9,
          "sleep_total": 14.2
         },
         {
          "awake": 9.7,
          "bodywt": 0.12,
          "brainwt": 0.001,
          "index": 39,
          "sleep_cycle": 0.2,
          "sleep_rem": 3.1,
          "sleep_total": 14.3
         },
         {
          "awake": 11.2,
          "bodywt": 0.035,
          "brainwt": 0.2815814286,
          "index": 40,
          "sleep_cycle": 0.4395833333,
          "sleep_rem": 1.8754098361,
          "sleep_total": 12.8
         },
         {
          "awake": 11.5,
          "bodywt": 0.022,
          "brainwt": 0.0004,
          "index": 41,
          "sleep_cycle": 0.183333333,
          "sleep_rem": 1.4,
          "sleep_total": 12.5
         },
         {
          "awake": 4.1,
          "bodywt": 0.01,
          "brainwt": 0.00025,
          "index": 42,
          "sleep_cycle": 0.2,
          "sleep_rem": 2,
          "sleep_total": 19.9
         },
         {
          "awake": 9.4,
          "bodywt": 0.266,
          "brainwt": 0.2815814286,
          "index": 43,
          "sleep_cycle": 0.4395833333,
          "sleep_rem": 1.8754098361,
          "sleep_total": 14.6
         },
         {
          "awake": 13,
          "bodywt": 1.4,
          "brainwt": 0.0125,
          "index": 44,
          "sleep_cycle": 0.4395833333,
          "sleep_rem": 1.8754098361,
          "sleep_total": 11
         },
         {
          "awake": 16.3,
          "bodywt": 0.21,
          "brainwt": 0.2815814286,
          "index": 45,
          "sleep_cycle": 0.4395833333,
          "sleep_rem": 0.9,
          "sleep_total": 7.7
         },
         {
          "awake": 9.5,
          "bodywt": 0.028,
          "brainwt": 0.2815814286,
          "index": 46,
          "sleep_cycle": 0.4395833333,
          "sleep_rem": 1.8754098361,
          "sleep_total": 14.5
         },
         {
          "awake": 15.6,
          "bodywt": 2.5,
          "brainwt": 0.0121,
          "index": 47,
          "sleep_cycle": 0.416666667,
          "sleep_rem": 0.9,
          "sleep_total": 8.4
         },
         {
          "awake": 20.2,
          "bodywt": 55.5,
          "brainwt": 0.175,
          "index": 48,
          "sleep_cycle": 0.4395833333,
          "sleep_rem": 0.6,
          "sleep_total": 3.8
         },
         {
          "awake": 14.3,
          "bodywt": 52.2,
          "brainwt": 0.44,
          "index": 49,
          "sleep_cycle": 1.416666667,
          "sleep_rem": 1.4,
          "sleep_total": 9.7
         },
         {
          "awake": 8.2,
          "bodywt": 162.564,
          "brainwt": 0.2815814286,
          "index": 50,
          "sleep_cycle": 0.4395833333,
          "sleep_rem": 1.8754098361,
          "sleep_total": 15.8
         },
         {
          "awake": 13.6,
          "bodywt": 100,
          "brainwt": 0.157,
          "index": 51,
          "sleep_cycle": 0.4395833333,
          "sleep_rem": 1.8754098361,
          "sleep_total": 10.4
         },
         {
          "awake": 10.5,
          "bodywt": 161.499,
          "brainwt": 0.2815814286,
          "index": 52,
          "sleep_cycle": 0.4395833333,
          "sleep_rem": 1.8754098361,
          "sleep_total": 13.5
         },
         {
          "awake": 14.6,
          "bodywt": 25.235,
          "brainwt": 0.18,
          "index": 53,
          "sleep_cycle": 0.666666667,
          "sleep_rem": 1,
          "sleep_total": 9.4
         },
         {
          "awake": 13.7,
          "bodywt": 0.55,
          "brainwt": 0.0024,
          "index": 54,
          "sleep_cycle": 0.4395833333,
          "sleep_rem": 2.7,
          "sleep_total": 10.3
         },
         {
          "awake": 13,
          "bodywt": 1.1,
          "brainwt": 0.2815814286,
          "index": 55,
          "sleep_cycle": 0.4395833333,
          "sleep_rem": 1.8754098361,
          "sleep_total": 11
         },
         {
          "awake": 12.5,
          "bodywt": 0.021,
          "brainwt": 0.2815814286,
          "index": 56,
          "sleep_cycle": 0.4395833333,
          "sleep_rem": 1.8754098361,
          "sleep_total": 11.5
         },
         {
          "awake": 10.3,
          "bodywt": 1.62,
          "brainwt": 0.0114,
          "index": 57,
          "sleep_cycle": 0.4395833333,
          "sleep_rem": 1.8,
          "sleep_total": 13.7
         },
         {
          "awake": 20.5,
          "bodywt": 86,
          "brainwt": 0.2815814286,
          "index": 58,
          "sleep_cycle": 0.4395833333,
          "sleep_rem": 0.4,
          "sleep_total": 3.5
         },
         {
          "awake": 18.45,
          "bodywt": 53.18,
          "brainwt": 0.2815814286,
          "index": 59,
          "sleep_cycle": 0.4395833333,
          "sleep_rem": 1.8754098361,
          "sleep_total": 5.6
         },
         {
          "awake": 12.9,
          "bodywt": 1.1,
          "brainwt": 0.2815814286,
          "index": 60,
          "sleep_cycle": 0.4395833333,
          "sleep_rem": 1.5,
          "sleep_total": 11.1
         },
         {
          "awake": 5.9,
          "bodywt": 60,
          "brainwt": 0.081,
          "index": 61,
          "sleep_cycle": 0.4395833333,
          "sleep_rem": 6.1,
          "sleep_total": 18.1
         },
         {
          "awake": 18.6,
          "bodywt": 3.6,
          "brainwt": 0.021,
          "index": 62,
          "sleep_cycle": 0.4395833333,
          "sleep_rem": 0.5,
          "sleep_total": 5.4
         },
         {
          "awake": 11,
          "bodywt": 0.32,
          "brainwt": 0.0019,
          "index": 63,
          "sleep_cycle": 0.183333333,
          "sleep_rem": 2.4,
          "sleep_total": 13
         },
         {
          "awake": 15.3,
          "bodywt": 0.044,
          "brainwt": 0.2815814286,
          "index": 64,
          "sleep_cycle": 0.4395833333,
          "sleep_rem": 1.8754098361,
          "sleep_total": 8.7
         },
         {
          "awake": 14.4,
          "bodywt": 0.743,
          "brainwt": 0.02,
          "index": 65,
          "sleep_cycle": 0.4395833333,
          "sleep_rem": 1.4,
          "sleep_total": 9.6
         },
         {
          "awake": 15.6,
          "bodywt": 0.075,
          "brainwt": 0.0012,
          "index": 66,
          "sleep_cycle": 0.166666667,
          "sleep_rem": 2.1,
          "sleep_total": 8.4
         },
         {
          "awake": 12.7,
          "bodywt": 0.148,
          "brainwt": 0.00118,
          "index": 67,
          "sleep_cycle": 0.15,
          "sleep_rem": 1.1,
          "sleep_total": 11.3
         },
         {
          "awake": 13.4,
          "bodywt": 0.122,
          "brainwt": 0.003,
          "index": 68,
          "sleep_cycle": 0.4395833333,
          "sleep_rem": 2.4,
          "sleep_total": 10.6
         },
         {
          "awake": 7.4,
          "bodywt": 0.92,
          "brainwt": 0.0057,
          "index": 69,
          "sleep_cycle": 0.4395833333,
          "sleep_rem": 1.8754098361,
          "sleep_total": 16.6
         },
         {
          "awake": 10.2,
          "bodywt": 0.101,
          "brainwt": 0.004,
          "index": 70,
          "sleep_cycle": 0.216666667,
          "sleep_rem": 3.4,
          "sleep_total": 13.8
         },
         {
          "awake": 8.1,
          "bodywt": 0.205,
          "brainwt": 0.2815814286,
          "index": 71,
          "sleep_cycle": 0.4395833333,
          "sleep_rem": 3,
          "sleep_total": 15.9
         },
         {
          "awake": 11.2,
          "bodywt": 0.048,
          "brainwt": 0.00033,
          "index": 72,
          "sleep_cycle": 0.183333333,
          "sleep_rem": 2,
          "sleep_total": 12.8
         },
         {
          "awake": 14.9,
          "bodywt": 86.25,
          "brainwt": 0.18,
          "index": 73,
          "sleep_cycle": 0.5,
          "sleep_rem": 2.4,
          "sleep_total": 9.1
         },
         {
          "awake": 15.4,
          "bodywt": 4.5,
          "brainwt": 0.025,
          "index": 74,
          "sleep_cycle": 0.4395833333,
          "sleep_rem": 1.8754098361,
          "sleep_total": 8.6
         },
         {
          "awake": 8.2,
          "bodywt": 0.112,
          "brainwt": 0.2815814286,
          "index": 75,
          "sleep_cycle": 0.4395833333,
          "sleep_rem": 1.8754098361,
          "sleep_total": 15.8
         },
         {
          "awake": 19.6,
          "bodywt": 207.501,
          "brainwt": 0.169,
          "index": 76,
          "sleep_cycle": 0.9,
          "sleep_rem": 1,
          "sleep_total": 4.4
         },
         {
          "awake": 8.4,
          "bodywt": 0.9,
          "brainwt": 0.0026,
          "index": 77,
          "sleep_cycle": 0.4395833333,
          "sleep_rem": 2.3,
          "sleep_total": 15.6
         },
         {
          "awake": 15.1,
          "bodywt": 0.104,
          "brainwt": 0.0025,
          "index": 78,
          "sleep_cycle": 0.233333333,
          "sleep_rem": 2.6,
          "sleep_total": 8.9
         },
         {
          "awake": 18.8,
          "bodywt": 173.33,
          "brainwt": 0.2815814286,
          "index": 79,
          "sleep_cycle": 0.4395833333,
          "sleep_rem": 1.8754098361,
          "sleep_total": 5.2
         },
         {
          "awake": 17.7,
          "bodywt": 2,
          "brainwt": 0.0175,
          "index": 80,
          "sleep_cycle": 0.4395833333,
          "sleep_rem": 1.3,
          "sleep_total": 6.3
         },
         {
          "awake": 11.5,
          "bodywt": 3.38,
          "brainwt": 0.0445,
          "index": 81,
          "sleep_cycle": 0.4395833333,
          "sleep_rem": 1.8754098361,
          "sleep_total": 12.5
         },
         {
          "awake": 14.2,
          "bodywt": 4.23,
          "brainwt": 0.0504,
          "index": 82,
          "sleep_cycle": 0.35,
          "sleep_rem": 2.4,
          "sleep_total": 9.8
         }
        ],
        "schema": {
         "fields": [
          {
           "name": "index",
           "type": "integer"
          },
          {
           "name": "sleep_total",
           "type": "number"
          },
          {
           "name": "sleep_rem",
           "type": "number"
          },
          {
           "name": "sleep_cycle",
           "type": "number"
          },
          {
           "name": "awake",
           "type": "number"
          },
          {
           "name": "brainwt",
           "type": "number"
          },
          {
           "name": "bodywt",
           "type": "number"
          }
         ],
         "pandas_version": "0.20.0",
         "primaryKey": [
          "index"
         ]
        }
       },
       "total_rows": 83
      },
      "text/html": [
       "<div>\n",
       "<style scoped>\n",
       "    .dataframe tbody tr th:only-of-type {\n",
       "        vertical-align: middle;\n",
       "    }\n",
       "\n",
       "    .dataframe tbody tr th {\n",
       "        vertical-align: top;\n",
       "    }\n",
       "\n",
       "    .dataframe thead th {\n",
       "        text-align: right;\n",
       "    }\n",
       "</style>\n",
       "<table border=\"1\" class=\"dataframe\">\n",
       "  <thead>\n",
       "    <tr style=\"text-align: right;\">\n",
       "      <th></th>\n",
       "      <th>sleep_total</th>\n",
       "      <th>sleep_rem</th>\n",
       "      <th>sleep_cycle</th>\n",
       "      <th>awake</th>\n",
       "      <th>brainwt</th>\n",
       "      <th>bodywt</th>\n",
       "    </tr>\n",
       "  </thead>\n",
       "  <tbody>\n",
       "    <tr>\n",
       "      <th>0</th>\n",
       "      <td>12.1</td>\n",
       "      <td>1.87541</td>\n",
       "      <td>0.439583</td>\n",
       "      <td>11.9</td>\n",
       "      <td>0.281581</td>\n",
       "      <td>50.000</td>\n",
       "    </tr>\n",
       "    <tr>\n",
       "      <th>1</th>\n",
       "      <td>17.0</td>\n",
       "      <td>1.80000</td>\n",
       "      <td>0.439583</td>\n",
       "      <td>7.0</td>\n",
       "      <td>0.015500</td>\n",
       "      <td>0.480</td>\n",
       "    </tr>\n",
       "    <tr>\n",
       "      <th>2</th>\n",
       "      <td>14.4</td>\n",
       "      <td>2.40000</td>\n",
       "      <td>0.439583</td>\n",
       "      <td>9.6</td>\n",
       "      <td>0.281581</td>\n",
       "      <td>1.350</td>\n",
       "    </tr>\n",
       "    <tr>\n",
       "      <th>3</th>\n",
       "      <td>14.9</td>\n",
       "      <td>2.30000</td>\n",
       "      <td>0.133333</td>\n",
       "      <td>9.1</td>\n",
       "      <td>0.000290</td>\n",
       "      <td>0.019</td>\n",
       "    </tr>\n",
       "    <tr>\n",
       "      <th>4</th>\n",
       "      <td>4.0</td>\n",
       "      <td>0.70000</td>\n",
       "      <td>0.666667</td>\n",
       "      <td>20.0</td>\n",
       "      <td>0.423000</td>\n",
       "      <td>600.000</td>\n",
       "    </tr>\n",
       "    <tr>\n",
       "      <th>...</th>\n",
       "      <td>...</td>\n",
       "      <td>...</td>\n",
       "      <td>...</td>\n",
       "      <td>...</td>\n",
       "      <td>...</td>\n",
       "      <td>...</td>\n",
       "    </tr>\n",
       "    <tr>\n",
       "      <th>78</th>\n",
       "      <td>8.9</td>\n",
       "      <td>2.60000</td>\n",
       "      <td>0.233333</td>\n",
       "      <td>15.1</td>\n",
       "      <td>0.002500</td>\n",
       "      <td>0.104</td>\n",
       "    </tr>\n",
       "    <tr>\n",
       "      <th>79</th>\n",
       "      <td>5.2</td>\n",
       "      <td>1.87541</td>\n",
       "      <td>0.439583</td>\n",
       "      <td>18.8</td>\n",
       "      <td>0.281581</td>\n",
       "      <td>173.330</td>\n",
       "    </tr>\n",
       "    <tr>\n",
       "      <th>80</th>\n",
       "      <td>6.3</td>\n",
       "      <td>1.30000</td>\n",
       "      <td>0.439583</td>\n",
       "      <td>17.7</td>\n",
       "      <td>0.017500</td>\n",
       "      <td>2.000</td>\n",
       "    </tr>\n",
       "    <tr>\n",
       "      <th>81</th>\n",
       "      <td>12.5</td>\n",
       "      <td>1.87541</td>\n",
       "      <td>0.439583</td>\n",
       "      <td>11.5</td>\n",
       "      <td>0.044500</td>\n",
       "      <td>3.380</td>\n",
       "    </tr>\n",
       "    <tr>\n",
       "      <th>82</th>\n",
       "      <td>9.8</td>\n",
       "      <td>2.40000</td>\n",
       "      <td>0.350000</td>\n",
       "      <td>14.2</td>\n",
       "      <td>0.050400</td>\n",
       "      <td>4.230</td>\n",
       "    </tr>\n",
       "  </tbody>\n",
       "</table>\n",
       "<p>83 rows × 6 columns</p>\n",
       "</div>"
      ],
      "text/plain": [
       "    sleep_total  sleep_rem  sleep_cycle  awake   brainwt   bodywt\n",
       "0          12.1    1.87541     0.439583   11.9  0.281581   50.000\n",
       "1          17.0    1.80000     0.439583    7.0  0.015500    0.480\n",
       "2          14.4    2.40000     0.439583    9.6  0.281581    1.350\n",
       "3          14.9    2.30000     0.133333    9.1  0.000290    0.019\n",
       "4           4.0    0.70000     0.666667   20.0  0.423000  600.000\n",
       "..          ...        ...          ...    ...       ...      ...\n",
       "78          8.9    2.60000     0.233333   15.1  0.002500    0.104\n",
       "79          5.2    1.87541     0.439583   18.8  0.281581  173.330\n",
       "80          6.3    1.30000     0.439583   17.7  0.017500    2.000\n",
       "81         12.5    1.87541     0.439583   11.5  0.044500    3.380\n",
       "82          9.8    2.40000     0.350000   14.2  0.050400    4.230\n",
       "\n",
       "[83 rows x 6 columns]"
      ]
     },
     "execution_count": 13,
     "metadata": {},
     "output_type": "execute_result"
    }
   ],
   "source": [
    "pd.DataFrame(simp.fit_transform(msleep_num), columns=msleep_num.columns)"
   ]
  },
  {
   "cell_type": "markdown",
   "id": "2a463f1e-4db2-4a30-b23a-ff7590dd1637",
   "metadata": {},
   "source": [
    "Before we get into the results, let's try this again with **pandas** to see how it works. We calculate the mean of each column (fit), and fill the missing values with those means (transform)."
   ]
  },
  {
   "cell_type": "code",
   "execution_count": null,
   "id": "b7aefb8c-7fa6-409f-86b6-9cbbf2464128",
   "metadata": {},
   "outputs": [
    {
     "data": {
      "application/com.datacamp.data-table.v1+json": {
       "is_truncated": false,
       "table": {
        "data": [
         {
          "awake": 11.9,
          "bodywt": 50,
          "brainwt": 0.2815814286,
          "index": 0,
          "sleep_cycle": 0.4395833333,
          "sleep_rem": 1.8754098361,
          "sleep_total": 12.1
         },
         {
          "awake": 7,
          "bodywt": 0.48,
          "brainwt": 0.0155,
          "index": 1,
          "sleep_cycle": 0.4395833333,
          "sleep_rem": 1.8,
          "sleep_total": 17
         },
         {
          "awake": 9.6,
          "bodywt": 1.35,
          "brainwt": 0.2815814286,
          "index": 2,
          "sleep_cycle": 0.4395833333,
          "sleep_rem": 2.4,
          "sleep_total": 14.4
         },
         {
          "awake": 9.1,
          "bodywt": 0.019,
          "brainwt": 0.00029,
          "index": 3,
          "sleep_cycle": 0.133333333,
          "sleep_rem": 2.3,
          "sleep_total": 14.9
         },
         {
          "awake": 20,
          "bodywt": 600,
          "brainwt": 0.423,
          "index": 4,
          "sleep_cycle": 0.666666667,
          "sleep_rem": 0.7,
          "sleep_total": 4
         },
         {
          "awake": 9.6,
          "bodywt": 3.85,
          "brainwt": 0.2815814286,
          "index": 5,
          "sleep_cycle": 0.766666667,
          "sleep_rem": 2.2,
          "sleep_total": 14.4
         },
         {
          "awake": 15.3,
          "bodywt": 20.49,
          "brainwt": 0.2815814286,
          "index": 6,
          "sleep_cycle": 0.383333333,
          "sleep_rem": 1.4,
          "sleep_total": 8.7
         },
         {
          "awake": 17,
          "bodywt": 0.045,
          "brainwt": 0.2815814286,
          "index": 7,
          "sleep_cycle": 0.4395833333,
          "sleep_rem": 1.8754098361,
          "sleep_total": 7
         },
         {
          "awake": 13.9,
          "bodywt": 14,
          "brainwt": 0.07,
          "index": 8,
          "sleep_cycle": 0.333333333,
          "sleep_rem": 2.9,
          "sleep_total": 10.1
         },
         {
          "awake": 21,
          "bodywt": 14.8,
          "brainwt": 0.0982,
          "index": 9,
          "sleep_cycle": 0.4395833333,
          "sleep_rem": 1.8754098361,
          "sleep_total": 3
         },
         {
          "awake": 18.7,
          "bodywt": 33.5,
          "brainwt": 0.115,
          "index": 10,
          "sleep_cycle": 0.4395833333,
          "sleep_rem": 0.6,
          "sleep_total": 5.3
         },
         {
          "awake": 14.6,
          "bodywt": 0.728,
          "brainwt": 0.0055,
          "index": 11,
          "sleep_cycle": 0.216666667,
          "sleep_rem": 0.8,
          "sleep_total": 9.4
         },
         {
          "awake": 14,
          "bodywt": 4.75,
          "brainwt": 0.2815814286,
          "index": 12,
          "sleep_cycle": 0.4395833333,
          "sleep_rem": 0.7,
          "sleep_total": 10
         },
         {
          "awake": 11.5,
          "bodywt": 0.42,
          "brainwt": 0.0064,
          "index": 13,
          "sleep_cycle": 0.116666667,
          "sleep_rem": 1.5,
          "sleep_total": 12.5
         },
         {
          "awake": 13.7,
          "bodywt": 0.06,
          "brainwt": 0.001,
          "index": 14,
          "sleep_cycle": 0.4395833333,
          "sleep_rem": 2.2,
          "sleep_total": 10.3
         },
         {
          "awake": 15.7,
          "bodywt": 1,
          "brainwt": 0.0066,
          "index": 15,
          "sleep_cycle": 0.4395833333,
          "sleep_rem": 2,
          "sleep_total": 8.3
         },
         {
          "awake": 14.9,
          "bodywt": 0.005,
          "brainwt": 0.00014,
          "index": 16,
          "sleep_cycle": 0.15,
          "sleep_rem": 1.4,
          "sleep_total": 9.1
         },
         {
          "awake": 6.6,
          "bodywt": 3.5,
          "brainwt": 0.0108,
          "index": 17,
          "sleep_cycle": 0.383333333,
          "sleep_rem": 3.1,
          "sleep_total": 17.4
         },
         {
          "awake": 18.7,
          "bodywt": 2.95,
          "brainwt": 0.0123,
          "index": 18,
          "sleep_cycle": 0.4395833333,
          "sleep_rem": 0.5,
          "sleep_total": 5.3
         },
         {
          "awake": 6,
          "bodywt": 1.7,
          "brainwt": 0.0063,
          "index": 19,
          "sleep_cycle": 0.333333333,
          "sleep_rem": 4.9,
          "sleep_total": 18
         },
         {
          "awake": 20.1,
          "bodywt": 2547,
          "brainwt": 4.603,
          "index": 20,
          "sleep_cycle": 0.4395833333,
          "sleep_rem": 1.8754098361,
          "sleep_total": 3.9
         },
         {
          "awake": 4.3,
          "bodywt": 0.023,
          "brainwt": 0.0003,
          "index": 21,
          "sleep_cycle": 0.116666667,
          "sleep_rem": 3.9,
          "sleep_total": 19.7
         },
         {
          "awake": 21.1,
          "bodywt": 521,
          "brainwt": 0.655,
          "index": 22,
          "sleep_cycle": 1,
          "sleep_rem": 0.6,
          "sleep_total": 2.9
         },
         {
          "awake": 20.9,
          "bodywt": 187,
          "brainwt": 0.419,
          "index": 23,
          "sleep_cycle": 0.4395833333,
          "sleep_rem": 0.4,
          "sleep_total": 3.1
         },
         {
          "awake": 13.9,
          "bodywt": 0.77,
          "brainwt": 0.0035,
          "index": 24,
          "sleep_cycle": 0.283333333,
          "sleep_rem": 3.5,
          "sleep_total": 10.1
         },
         {
          "awake": 13.1,
          "bodywt": 10,
          "brainwt": 0.115,
          "index": 25,
          "sleep_cycle": 0.4395833333,
          "sleep_rem": 1.1,
          "sleep_total": 10.9
         },
         {
          "awake": 9.1,
          "bodywt": 0.071,
          "brainwt": 0.2815814286,
          "index": 26,
          "sleep_cycle": 0.4395833333,
          "sleep_rem": 1.8754098361,
          "sleep_total": 14.9
         },
         {
          "awake": 11.5,
          "bodywt": 3.3,
          "brainwt": 0.0256,
          "index": 27,
          "sleep_cycle": 0.416666667,
          "sleep_rem": 3.2,
          "sleep_total": 12.5
         },
         {
          "awake": 14.2,
          "bodywt": 0.2,
          "brainwt": 0.005,
          "index": 28,
          "sleep_cycle": 0.55,
          "sleep_rem": 1.1,
          "sleep_total": 9.8
         },
         {
          "awake": 22.1,
          "bodywt": 899.995,
          "brainwt": 0.2815814286,
          "index": 29,
          "sleep_cycle": 0.4395833333,
          "sleep_rem": 0.4,
          "sleep_total": 1.9
         },
         {
          "awake": 21.35,
          "bodywt": 800,
          "brainwt": 0.2815814286,
          "index": 30,
          "sleep_cycle": 0.4395833333,
          "sleep_rem": 0.1,
          "sleep_total": 2.7
         },
         {
          "awake": 17.8,
          "bodywt": 85,
          "brainwt": 0.325,
          "index": 31,
          "sleep_cycle": 0.4395833333,
          "sleep_rem": 1.5,
          "sleep_total": 6.2
         },
         {
          "awake": 17.7,
          "bodywt": 2.625,
          "brainwt": 0.01227,
          "index": 32,
          "sleep_cycle": 0.4395833333,
          "sleep_rem": 0.6,
          "sleep_total": 6.3
         },
         {
          "awake": 16,
          "bodywt": 62,
          "brainwt": 1.32,
          "index": 33,
          "sleep_cycle": 1.5,
          "sleep_rem": 1.9,
          "sleep_total": 8
         },
         {
          "awake": 14.5,
          "bodywt": 1.67,
          "brainwt": 0.2815814286,
          "index": 34,
          "sleep_cycle": 0.4395833333,
          "sleep_rem": 0.9,
          "sleep_total": 9.5
         },
         {
          "awake": 20.7,
          "bodywt": 6654,
          "brainwt": 5.712,
          "index": 35,
          "sleep_cycle": 0.4395833333,
          "sleep_rem": 1.8754098361,
          "sleep_total": 3.3
         },
         {
          "awake": 4.6,
          "bodywt": 0.37,
          "brainwt": 0.2815814286,
          "index": 36,
          "sleep_cycle": 0.4395833333,
          "sleep_rem": 6.6,
          "sleep_total": 19.4
         },
         {
          "awake": 13.9,
          "bodywt": 6.8,
          "brainwt": 0.179,
          "index": 37,
          "sleep_cycle": 0.75,
          "sleep_rem": 1.2,
          "sleep_total": 10.1
         },
         {
          "awake": 9.8,
          "bodywt": 0.053,
          "brainwt": 0.2815814286,
          "index": 38,
          "sleep_cycle": 0.4395833333,
          "sleep_rem": 1.9,
          "sleep_total": 14.2
         },
         {
          "awake": 9.7,
          "bodywt": 0.12,
          "brainwt": 0.001,
          "index": 39,
          "sleep_cycle": 0.2,
          "sleep_rem": 3.1,
          "sleep_total": 14.3
         },
         {
          "awake": 11.2,
          "bodywt": 0.035,
          "brainwt": 0.2815814286,
          "index": 40,
          "sleep_cycle": 0.4395833333,
          "sleep_rem": 1.8754098361,
          "sleep_total": 12.8
         },
         {
          "awake": 11.5,
          "bodywt": 0.022,
          "brainwt": 0.0004,
          "index": 41,
          "sleep_cycle": 0.183333333,
          "sleep_rem": 1.4,
          "sleep_total": 12.5
         },
         {
          "awake": 4.1,
          "bodywt": 0.01,
          "brainwt": 0.00025,
          "index": 42,
          "sleep_cycle": 0.2,
          "sleep_rem": 2,
          "sleep_total": 19.9
         },
         {
          "awake": 9.4,
          "bodywt": 0.266,
          "brainwt": 0.2815814286,
          "index": 43,
          "sleep_cycle": 0.4395833333,
          "sleep_rem": 1.8754098361,
          "sleep_total": 14.6
         },
         {
          "awake": 13,
          "bodywt": 1.4,
          "brainwt": 0.0125,
          "index": 44,
          "sleep_cycle": 0.4395833333,
          "sleep_rem": 1.8754098361,
          "sleep_total": 11
         },
         {
          "awake": 16.3,
          "bodywt": 0.21,
          "brainwt": 0.2815814286,
          "index": 45,
          "sleep_cycle": 0.4395833333,
          "sleep_rem": 0.9,
          "sleep_total": 7.7
         },
         {
          "awake": 9.5,
          "bodywt": 0.028,
          "brainwt": 0.2815814286,
          "index": 46,
          "sleep_cycle": 0.4395833333,
          "sleep_rem": 1.8754098361,
          "sleep_total": 14.5
         },
         {
          "awake": 15.6,
          "bodywt": 2.5,
          "brainwt": 0.0121,
          "index": 47,
          "sleep_cycle": 0.416666667,
          "sleep_rem": 0.9,
          "sleep_total": 8.4
         },
         {
          "awake": 20.2,
          "bodywt": 55.5,
          "brainwt": 0.175,
          "index": 48,
          "sleep_cycle": 0.4395833333,
          "sleep_rem": 0.6,
          "sleep_total": 3.8
         },
         {
          "awake": 14.3,
          "bodywt": 52.2,
          "brainwt": 0.44,
          "index": 49,
          "sleep_cycle": 1.416666667,
          "sleep_rem": 1.4,
          "sleep_total": 9.7
         },
         {
          "awake": 8.2,
          "bodywt": 162.564,
          "brainwt": 0.2815814286,
          "index": 50,
          "sleep_cycle": 0.4395833333,
          "sleep_rem": 1.8754098361,
          "sleep_total": 15.8
         },
         {
          "awake": 13.6,
          "bodywt": 100,
          "brainwt": 0.157,
          "index": 51,
          "sleep_cycle": 0.4395833333,
          "sleep_rem": 1.8754098361,
          "sleep_total": 10.4
         },
         {
          "awake": 10.5,
          "bodywt": 161.499,
          "brainwt": 0.2815814286,
          "index": 52,
          "sleep_cycle": 0.4395833333,
          "sleep_rem": 1.8754098361,
          "sleep_total": 13.5
         },
         {
          "awake": 14.6,
          "bodywt": 25.235,
          "brainwt": 0.18,
          "index": 53,
          "sleep_cycle": 0.666666667,
          "sleep_rem": 1,
          "sleep_total": 9.4
         },
         {
          "awake": 13.7,
          "bodywt": 0.55,
          "brainwt": 0.0024,
          "index": 54,
          "sleep_cycle": 0.4395833333,
          "sleep_rem": 2.7,
          "sleep_total": 10.3
         },
         {
          "awake": 13,
          "bodywt": 1.1,
          "brainwt": 0.2815814286,
          "index": 55,
          "sleep_cycle": 0.4395833333,
          "sleep_rem": 1.8754098361,
          "sleep_total": 11
         },
         {
          "awake": 12.5,
          "bodywt": 0.021,
          "brainwt": 0.2815814286,
          "index": 56,
          "sleep_cycle": 0.4395833333,
          "sleep_rem": 1.8754098361,
          "sleep_total": 11.5
         },
         {
          "awake": 10.3,
          "bodywt": 1.62,
          "brainwt": 0.0114,
          "index": 57,
          "sleep_cycle": 0.4395833333,
          "sleep_rem": 1.8,
          "sleep_total": 13.7
         },
         {
          "awake": 20.5,
          "bodywt": 86,
          "brainwt": 0.2815814286,
          "index": 58,
          "sleep_cycle": 0.4395833333,
          "sleep_rem": 0.4,
          "sleep_total": 3.5
         },
         {
          "awake": 18.45,
          "bodywt": 53.18,
          "brainwt": 0.2815814286,
          "index": 59,
          "sleep_cycle": 0.4395833333,
          "sleep_rem": 1.8754098361,
          "sleep_total": 5.6
         },
         {
          "awake": 12.9,
          "bodywt": 1.1,
          "brainwt": 0.2815814286,
          "index": 60,
          "sleep_cycle": 0.4395833333,
          "sleep_rem": 1.5,
          "sleep_total": 11.1
         },
         {
          "awake": 5.9,
          "bodywt": 60,
          "brainwt": 0.081,
          "index": 61,
          "sleep_cycle": 0.4395833333,
          "sleep_rem": 6.1,
          "sleep_total": 18.1
         },
         {
          "awake": 18.6,
          "bodywt": 3.6,
          "brainwt": 0.021,
          "index": 62,
          "sleep_cycle": 0.4395833333,
          "sleep_rem": 0.5,
          "sleep_total": 5.4
         },
         {
          "awake": 11,
          "bodywt": 0.32,
          "brainwt": 0.0019,
          "index": 63,
          "sleep_cycle": 0.183333333,
          "sleep_rem": 2.4,
          "sleep_total": 13
         },
         {
          "awake": 15.3,
          "bodywt": 0.044,
          "brainwt": 0.2815814286,
          "index": 64,
          "sleep_cycle": 0.4395833333,
          "sleep_rem": 1.8754098361,
          "sleep_total": 8.7
         },
         {
          "awake": 14.4,
          "bodywt": 0.743,
          "brainwt": 0.02,
          "index": 65,
          "sleep_cycle": 0.4395833333,
          "sleep_rem": 1.4,
          "sleep_total": 9.6
         },
         {
          "awake": 15.6,
          "bodywt": 0.075,
          "brainwt": 0.0012,
          "index": 66,
          "sleep_cycle": 0.166666667,
          "sleep_rem": 2.1,
          "sleep_total": 8.4
         },
         {
          "awake": 12.7,
          "bodywt": 0.148,
          "brainwt": 0.00118,
          "index": 67,
          "sleep_cycle": 0.15,
          "sleep_rem": 1.1,
          "sleep_total": 11.3
         },
         {
          "awake": 13.4,
          "bodywt": 0.122,
          "brainwt": 0.003,
          "index": 68,
          "sleep_cycle": 0.4395833333,
          "sleep_rem": 2.4,
          "sleep_total": 10.6
         },
         {
          "awake": 7.4,
          "bodywt": 0.92,
          "brainwt": 0.0057,
          "index": 69,
          "sleep_cycle": 0.4395833333,
          "sleep_rem": 1.8754098361,
          "sleep_total": 16.6
         },
         {
          "awake": 10.2,
          "bodywt": 0.101,
          "brainwt": 0.004,
          "index": 70,
          "sleep_cycle": 0.216666667,
          "sleep_rem": 3.4,
          "sleep_total": 13.8
         },
         {
          "awake": 8.1,
          "bodywt": 0.205,
          "brainwt": 0.2815814286,
          "index": 71,
          "sleep_cycle": 0.4395833333,
          "sleep_rem": 3,
          "sleep_total": 15.9
         },
         {
          "awake": 11.2,
          "bodywt": 0.048,
          "brainwt": 0.00033,
          "index": 72,
          "sleep_cycle": 0.183333333,
          "sleep_rem": 2,
          "sleep_total": 12.8
         },
         {
          "awake": 14.9,
          "bodywt": 86.25,
          "brainwt": 0.18,
          "index": 73,
          "sleep_cycle": 0.5,
          "sleep_rem": 2.4,
          "sleep_total": 9.1
         },
         {
          "awake": 15.4,
          "bodywt": 4.5,
          "brainwt": 0.025,
          "index": 74,
          "sleep_cycle": 0.4395833333,
          "sleep_rem": 1.8754098361,
          "sleep_total": 8.6
         },
         {
          "awake": 8.2,
          "bodywt": 0.112,
          "brainwt": 0.2815814286,
          "index": 75,
          "sleep_cycle": 0.4395833333,
          "sleep_rem": 1.8754098361,
          "sleep_total": 15.8
         },
         {
          "awake": 19.6,
          "bodywt": 207.501,
          "brainwt": 0.169,
          "index": 76,
          "sleep_cycle": 0.9,
          "sleep_rem": 1,
          "sleep_total": 4.4
         },
         {
          "awake": 8.4,
          "bodywt": 0.9,
          "brainwt": 0.0026,
          "index": 77,
          "sleep_cycle": 0.4395833333,
          "sleep_rem": 2.3,
          "sleep_total": 15.6
         },
         {
          "awake": 15.1,
          "bodywt": 0.104,
          "brainwt": 0.0025,
          "index": 78,
          "sleep_cycle": 0.233333333,
          "sleep_rem": 2.6,
          "sleep_total": 8.9
         },
         {
          "awake": 18.8,
          "bodywt": 173.33,
          "brainwt": 0.2815814286,
          "index": 79,
          "sleep_cycle": 0.4395833333,
          "sleep_rem": 1.8754098361,
          "sleep_total": 5.2
         },
         {
          "awake": 17.7,
          "bodywt": 2,
          "brainwt": 0.0175,
          "index": 80,
          "sleep_cycle": 0.4395833333,
          "sleep_rem": 1.3,
          "sleep_total": 6.3
         },
         {
          "awake": 11.5,
          "bodywt": 3.38,
          "brainwt": 0.0445,
          "index": 81,
          "sleep_cycle": 0.4395833333,
          "sleep_rem": 1.8754098361,
          "sleep_total": 12.5
         },
         {
          "awake": 14.2,
          "bodywt": 4.23,
          "brainwt": 0.0504,
          "index": 82,
          "sleep_cycle": 0.35,
          "sleep_rem": 2.4,
          "sleep_total": 9.8
         }
        ],
        "schema": {
         "fields": [
          {
           "name": "index",
           "type": "integer"
          },
          {
           "name": "sleep_total",
           "type": "number"
          },
          {
           "name": "sleep_rem",
           "type": "number"
          },
          {
           "name": "sleep_cycle",
           "type": "number"
          },
          {
           "name": "awake",
           "type": "number"
          },
          {
           "name": "brainwt",
           "type": "number"
          },
          {
           "name": "bodywt",
           "type": "number"
          }
         ],
         "pandas_version": "0.20.0",
         "primaryKey": [
          "index"
         ]
        }
       },
       "total_rows": 83
      },
      "text/html": [
       "<div>\n",
       "<style scoped>\n",
       "    .dataframe tbody tr th:only-of-type {\n",
       "        vertical-align: middle;\n",
       "    }\n",
       "\n",
       "    .dataframe tbody tr th {\n",
       "        vertical-align: top;\n",
       "    }\n",
       "\n",
       "    .dataframe thead th {\n",
       "        text-align: right;\n",
       "    }\n",
       "</style>\n",
       "<table border=\"1\" class=\"dataframe\">\n",
       "  <thead>\n",
       "    <tr style=\"text-align: right;\">\n",
       "      <th></th>\n",
       "      <th>sleep_total</th>\n",
       "      <th>sleep_rem</th>\n",
       "      <th>sleep_cycle</th>\n",
       "      <th>awake</th>\n",
       "      <th>brainwt</th>\n",
       "      <th>bodywt</th>\n",
       "    </tr>\n",
       "  </thead>\n",
       "  <tbody>\n",
       "    <tr>\n",
       "      <th>0</th>\n",
       "      <td>12.1</td>\n",
       "      <td>1.87541</td>\n",
       "      <td>0.439583</td>\n",
       "      <td>11.9</td>\n",
       "      <td>0.281581</td>\n",
       "      <td>50.000</td>\n",
       "    </tr>\n",
       "    <tr>\n",
       "      <th>1</th>\n",
       "      <td>17.0</td>\n",
       "      <td>1.80000</td>\n",
       "      <td>0.439583</td>\n",
       "      <td>7.0</td>\n",
       "      <td>0.015500</td>\n",
       "      <td>0.480</td>\n",
       "    </tr>\n",
       "    <tr>\n",
       "      <th>2</th>\n",
       "      <td>14.4</td>\n",
       "      <td>2.40000</td>\n",
       "      <td>0.439583</td>\n",
       "      <td>9.6</td>\n",
       "      <td>0.281581</td>\n",
       "      <td>1.350</td>\n",
       "    </tr>\n",
       "    <tr>\n",
       "      <th>3</th>\n",
       "      <td>14.9</td>\n",
       "      <td>2.30000</td>\n",
       "      <td>0.133333</td>\n",
       "      <td>9.1</td>\n",
       "      <td>0.000290</td>\n",
       "      <td>0.019</td>\n",
       "    </tr>\n",
       "    <tr>\n",
       "      <th>4</th>\n",
       "      <td>4.0</td>\n",
       "      <td>0.70000</td>\n",
       "      <td>0.666667</td>\n",
       "      <td>20.0</td>\n",
       "      <td>0.423000</td>\n",
       "      <td>600.000</td>\n",
       "    </tr>\n",
       "    <tr>\n",
       "      <th>...</th>\n",
       "      <td>...</td>\n",
       "      <td>...</td>\n",
       "      <td>...</td>\n",
       "      <td>...</td>\n",
       "      <td>...</td>\n",
       "      <td>...</td>\n",
       "    </tr>\n",
       "    <tr>\n",
       "      <th>78</th>\n",
       "      <td>8.9</td>\n",
       "      <td>2.60000</td>\n",
       "      <td>0.233333</td>\n",
       "      <td>15.1</td>\n",
       "      <td>0.002500</td>\n",
       "      <td>0.104</td>\n",
       "    </tr>\n",
       "    <tr>\n",
       "      <th>79</th>\n",
       "      <td>5.2</td>\n",
       "      <td>1.87541</td>\n",
       "      <td>0.439583</td>\n",
       "      <td>18.8</td>\n",
       "      <td>0.281581</td>\n",
       "      <td>173.330</td>\n",
       "    </tr>\n",
       "    <tr>\n",
       "      <th>80</th>\n",
       "      <td>6.3</td>\n",
       "      <td>1.30000</td>\n",
       "      <td>0.439583</td>\n",
       "      <td>17.7</td>\n",
       "      <td>0.017500</td>\n",
       "      <td>2.000</td>\n",
       "    </tr>\n",
       "    <tr>\n",
       "      <th>81</th>\n",
       "      <td>12.5</td>\n",
       "      <td>1.87541</td>\n",
       "      <td>0.439583</td>\n",
       "      <td>11.5</td>\n",
       "      <td>0.044500</td>\n",
       "      <td>3.380</td>\n",
       "    </tr>\n",
       "    <tr>\n",
       "      <th>82</th>\n",
       "      <td>9.8</td>\n",
       "      <td>2.40000</td>\n",
       "      <td>0.350000</td>\n",
       "      <td>14.2</td>\n",
       "      <td>0.050400</td>\n",
       "      <td>4.230</td>\n",
       "    </tr>\n",
       "  </tbody>\n",
       "</table>\n",
       "<p>83 rows × 6 columns</p>\n",
       "</div>"
      ],
      "text/plain": [
       "    sleep_total  sleep_rem  sleep_cycle  awake   brainwt   bodywt\n",
       "0          12.1    1.87541     0.439583   11.9  0.281581   50.000\n",
       "1          17.0    1.80000     0.439583    7.0  0.015500    0.480\n",
       "2          14.4    2.40000     0.439583    9.6  0.281581    1.350\n",
       "3          14.9    2.30000     0.133333    9.1  0.000290    0.019\n",
       "4           4.0    0.70000     0.666667   20.0  0.423000  600.000\n",
       "..          ...        ...          ...    ...       ...      ...\n",
       "78          8.9    2.60000     0.233333   15.1  0.002500    0.104\n",
       "79          5.2    1.87541     0.439583   18.8  0.281581  173.330\n",
       "80          6.3    1.30000     0.439583   17.7  0.017500    2.000\n",
       "81         12.5    1.87541     0.439583   11.5  0.044500    3.380\n",
       "82          9.8    2.40000     0.350000   14.2  0.050400    4.230\n",
       "\n",
       "[83 rows x 6 columns]"
      ]
     },
     "execution_count": 14,
     "metadata": {},
     "output_type": "execute_result"
    }
   ],
   "source": [
    "column_means = msleep_num.mean()\n",
    "msleep_num.fillna(column_means)"
   ]
  },
  {
   "cell_type": "markdown",
   "id": "3638bb04-a639-4297-9b66-bdcaffee5a2e",
   "metadata": {},
   "source": [
    "Notice that we have the same result in each case, so our code is correct!"
   ]
  },
  {
   "cell_type": "markdown",
   "id": "4f46781c-fba1-4954-bfb7-df9401dace34",
   "metadata": {},
   "source": [
    "Just like dropping data, imputing with the mean or median is only a suitable solution if\n",
    "\n",
    "1. There is only a very small amount of missing data, and\n",
    "2. anecdotally it performs better when you have lots of features."
   ]
  },
  {
   "cell_type": "markdown",
   "id": "0ca03f38-5b9e-422c-92e2-d95fabbbd675",
   "metadata": {},
   "source": [
    "## Replacing with the most frequent value"
   ]
  },
  {
   "cell_type": "markdown",
   "id": "ec1c2e83-7d4c-454d-92e2-22ee6282a4c3",
   "metadata": {},
   "source": [
    "For categorical columns, there is no mean, so an alternative is to use the mode. That is, the most frequent value in the column."
   ]
  },
  {
   "cell_type": "code",
   "execution_count": null,
   "id": "00916560-7337-4f5a-9ee8-316562ef23af",
   "metadata": {},
   "outputs": [
    {
     "data": {
      "application/com.datacamp.data-table.v1+json": {
       "is_truncated": false,
       "table": {
        "data": [
         {
          "conservation": "lc",
          "genus": "Acinonyx",
          "index": 0,
          "name": "Cheetah",
          "order": "Carnivora",
          "vore": "carni"
         },
         {
          "conservation": "lc",
          "genus": "Aotus",
          "index": 1,
          "name": "Owl monkey",
          "order": "Primates",
          "vore": "omni"
         },
         {
          "conservation": "nt",
          "genus": "Aplodontia",
          "index": 2,
          "name": "Mountain beaver",
          "order": "Rodentia",
          "vore": "herbi"
         },
         {
          "conservation": "lc",
          "genus": "Blarina",
          "index": 3,
          "name": "Greater short-tailed shrew",
          "order": "Soricomorpha",
          "vore": "omni"
         },
         {
          "conservation": "lc",
          "genus": "Bos",
          "index": 4,
          "name": "Cow",
          "order": "Artiodactyla",
          "vore": "herbi"
         },
         {
          "conservation": "lc",
          "genus": "Bradypus",
          "index": 5,
          "name": "Three-toed sloth",
          "order": "Pilosa",
          "vore": "herbi"
         },
         {
          "conservation": "vu",
          "genus": "Callorhinus",
          "index": 6,
          "name": "Northern fur seal",
          "order": "Carnivora",
          "vore": "carni"
         },
         {
          "conservation": "lc",
          "genus": "Calomys",
          "index": 7,
          "name": "Vesper mouse",
          "order": "Rodentia",
          "vore": "herbi"
         },
         {
          "conservation": "lc",
          "genus": "Canis",
          "index": 8,
          "name": "Dog",
          "order": "Carnivora",
          "vore": "carni"
         },
         {
          "conservation": "lc",
          "genus": "Capreolus",
          "index": 9,
          "name": "Roe deer",
          "order": "Artiodactyla",
          "vore": "herbi"
         },
         {
          "conservation": "lc",
          "genus": "Capri",
          "index": 10,
          "name": "Goat",
          "order": "Artiodactyla",
          "vore": "herbi"
         },
         {
          "conservation": "lc",
          "genus": "Cavis",
          "index": 11,
          "name": "Guinea pig",
          "order": "Rodentia",
          "vore": "herbi"
         },
         {
          "conservation": "lc",
          "genus": "Cercopithecus",
          "index": 12,
          "name": "Grivet",
          "order": "Primates",
          "vore": "omni"
         },
         {
          "conservation": "lc",
          "genus": "Chinchilla",
          "index": 13,
          "name": "Chinchilla",
          "order": "Rodentia",
          "vore": "herbi"
         },
         {
          "conservation": "lc",
          "genus": "Condylura",
          "index": 14,
          "name": "Star-nosed mole",
          "order": "Soricomorpha",
          "vore": "omni"
         },
         {
          "conservation": "lc",
          "genus": "Cricetomys",
          "index": 15,
          "name": "African giant pouched rat",
          "order": "Rodentia",
          "vore": "omni"
         },
         {
          "conservation": "lc",
          "genus": "Cryptotis",
          "index": 16,
          "name": "Lesser short-tailed shrew",
          "order": "Soricomorpha",
          "vore": "omni"
         },
         {
          "conservation": "lc",
          "genus": "Dasypus",
          "index": 17,
          "name": "Long-nosed armadillo",
          "order": "Cingulata",
          "vore": "carni"
         },
         {
          "conservation": "lc",
          "genus": "Dendrohyrax",
          "index": 18,
          "name": "Tree hyrax",
          "order": "Hyracoidea",
          "vore": "herbi"
         },
         {
          "conservation": "lc",
          "genus": "Didelphis",
          "index": 19,
          "name": "North American Opossum",
          "order": "Didelphimorphia",
          "vore": "omni"
         },
         {
          "conservation": "en",
          "genus": "Elephas",
          "index": 20,
          "name": "Asian elephant",
          "order": "Proboscidea",
          "vore": "herbi"
         },
         {
          "conservation": "lc",
          "genus": "Eptesicus",
          "index": 21,
          "name": "Big brown bat",
          "order": "Chiroptera",
          "vore": "insecti"
         },
         {
          "conservation": "lc",
          "genus": "Equus",
          "index": 22,
          "name": "Horse",
          "order": "Perissodactyla",
          "vore": "herbi"
         },
         {
          "conservation": "lc",
          "genus": "Equus",
          "index": 23,
          "name": "Donkey",
          "order": "Perissodactyla",
          "vore": "herbi"
         },
         {
          "conservation": "lc",
          "genus": "Erinaceus",
          "index": 24,
          "name": "European hedgehog",
          "order": "Erinaceomorpha",
          "vore": "omni"
         },
         {
          "conservation": "lc",
          "genus": "Erythrocebus",
          "index": 25,
          "name": "Patas monkey",
          "order": "Primates",
          "vore": "omni"
         },
         {
          "conservation": "lc",
          "genus": "Eutamias",
          "index": 26,
          "name": "Western american chipmunk",
          "order": "Rodentia",
          "vore": "herbi"
         },
         {
          "conservation": "lc",
          "genus": "Felis",
          "index": 27,
          "name": "Domestic cat",
          "order": "Carnivora",
          "vore": "carni"
         },
         {
          "conservation": "lc",
          "genus": "Galago",
          "index": 28,
          "name": "Galago",
          "order": "Primates",
          "vore": "omni"
         },
         {
          "conservation": "lc",
          "genus": "Giraffa",
          "index": 29,
          "name": "Giraffe",
          "order": "Artiodactyla",
          "vore": "herbi"
         },
         {
          "conservation": "lc",
          "genus": "Globicephalus",
          "index": 30,
          "name": "Pilot whale",
          "order": "Cetacea",
          "vore": "carni"
         },
         {
          "conservation": "lc",
          "genus": "Haliochoerus",
          "index": 31,
          "name": "Gray seal",
          "order": "Carnivora",
          "vore": "carni"
         },
         {
          "conservation": "lc",
          "genus": "Heterohyrax",
          "index": 32,
          "name": "Gray hyrax",
          "order": "Hyracoidea",
          "vore": "herbi"
         },
         {
          "conservation": "lc",
          "genus": "Homo",
          "index": 33,
          "name": "Human",
          "order": "Primates",
          "vore": "omni"
         },
         {
          "conservation": "vu",
          "genus": "Lemur",
          "index": 34,
          "name": "Mongoose lemur",
          "order": "Primates",
          "vore": "herbi"
         },
         {
          "conservation": "vu",
          "genus": "Loxodonta",
          "index": 35,
          "name": "African elephant",
          "order": "Proboscidea",
          "vore": "herbi"
         },
         {
          "conservation": "lc",
          "genus": "Lutreolina",
          "index": 36,
          "name": "Thick-tailed opposum",
          "order": "Didelphimorphia",
          "vore": "carni"
         },
         {
          "conservation": "lc",
          "genus": "Macaca",
          "index": 37,
          "name": "Macaque",
          "order": "Primates",
          "vore": "omni"
         },
         {
          "conservation": "lc",
          "genus": "Meriones",
          "index": 38,
          "name": "Mongolian gerbil",
          "order": "Rodentia",
          "vore": "herbi"
         },
         {
          "conservation": "en",
          "genus": "Mesocricetus",
          "index": 39,
          "name": "Golden hamster",
          "order": "Rodentia",
          "vore": "herbi"
         },
         {
          "conservation": "lc",
          "genus": "Microtus",
          "index": 40,
          "name": "Vole ",
          "order": "Rodentia",
          "vore": "herbi"
         },
         {
          "conservation": "nt",
          "genus": "Mus",
          "index": 41,
          "name": "House mouse",
          "order": "Rodentia",
          "vore": "herbi"
         },
         {
          "conservation": "lc",
          "genus": "Myotis",
          "index": 42,
          "name": "Little brown bat",
          "order": "Chiroptera",
          "vore": "insecti"
         },
         {
          "conservation": "nt",
          "genus": "Neofiber",
          "index": 43,
          "name": "Round-tailed muskrat",
          "order": "Rodentia",
          "vore": "herbi"
         },
         {
          "conservation": "lc",
          "genus": "Nyctibeus",
          "index": 44,
          "name": "Slow loris",
          "order": "Primates",
          "vore": "carni"
         },
         {
          "conservation": "lc",
          "genus": "Octodon",
          "index": 45,
          "name": "Degu",
          "order": "Rodentia",
          "vore": "herbi"
         },
         {
          "conservation": "lc",
          "genus": "Onychomys",
          "index": 46,
          "name": "Northern grasshopper mouse",
          "order": "Rodentia",
          "vore": "carni"
         },
         {
          "conservation": "lc",
          "genus": "Oryctolagus",
          "index": 47,
          "name": "Rabbit",
          "order": "Lagomorpha",
          "vore": "herbi"
         },
         {
          "conservation": "lc",
          "genus": "Ovis",
          "index": 48,
          "name": "Sheep",
          "order": "Artiodactyla",
          "vore": "herbi"
         },
         {
          "conservation": "lc",
          "genus": "Pan",
          "index": 49,
          "name": "Chimpanzee",
          "order": "Primates",
          "vore": "omni"
         },
         {
          "conservation": "en",
          "genus": "Panthera",
          "index": 50,
          "name": "Tiger",
          "order": "Carnivora",
          "vore": "carni"
         },
         {
          "conservation": "nt",
          "genus": "Panthera",
          "index": 51,
          "name": "Jaguar",
          "order": "Carnivora",
          "vore": "carni"
         },
         {
          "conservation": "vu",
          "genus": "Panthera",
          "index": 52,
          "name": "Lion",
          "order": "Carnivora",
          "vore": "carni"
         },
         {
          "conservation": "lc",
          "genus": "Papio",
          "index": 53,
          "name": "Baboon",
          "order": "Primates",
          "vore": "omni"
         },
         {
          "conservation": "lc",
          "genus": "Paraechinus",
          "index": 54,
          "name": "Desert hedgehog",
          "order": "Erinaceomorpha",
          "vore": "herbi"
         },
         {
          "conservation": "lc",
          "genus": "Perodicticus",
          "index": 55,
          "name": "Potto",
          "order": "Primates",
          "vore": "omni"
         },
         {
          "conservation": "lc",
          "genus": "Peromyscus",
          "index": 56,
          "name": "Deer mouse",
          "order": "Rodentia",
          "vore": "herbi"
         },
         {
          "conservation": "lc",
          "genus": "Phalanger",
          "index": 57,
          "name": "Phalanger",
          "order": "Diprotodontia",
          "vore": "herbi"
         },
         {
          "conservation": "vu",
          "genus": "Phoca",
          "index": 58,
          "name": "Caspian seal",
          "order": "Carnivora",
          "vore": "carni"
         },
         {
          "conservation": "vu",
          "genus": "Phocoena",
          "index": 59,
          "name": "Common porpoise",
          "order": "Cetacea",
          "vore": "carni"
         },
         {
          "conservation": "lc",
          "genus": "Potorous",
          "index": 60,
          "name": "Potoroo",
          "order": "Diprotodontia",
          "vore": "herbi"
         },
         {
          "conservation": "en",
          "genus": "Priodontes",
          "index": 61,
          "name": "Giant armadillo",
          "order": "Cingulata",
          "vore": "insecti"
         },
         {
          "conservation": "lc",
          "genus": "Procavia",
          "index": 62,
          "name": "Rock hyrax",
          "order": "Hyracoidea",
          "vore": "herbi"
         },
         {
          "conservation": "lc",
          "genus": "Rattus",
          "index": 63,
          "name": "Laboratory rat",
          "order": "Rodentia",
          "vore": "herbi"
         },
         {
          "conservation": "lc",
          "genus": "Rhabdomys",
          "index": 64,
          "name": "African striped mouse",
          "order": "Rodentia",
          "vore": "omni"
         },
         {
          "conservation": "lc",
          "genus": "Saimiri",
          "index": 65,
          "name": "Squirrel monkey",
          "order": "Primates",
          "vore": "omni"
         },
         {
          "conservation": "lc",
          "genus": "Scalopus",
          "index": 66,
          "name": "Eastern american mole",
          "order": "Soricomorpha",
          "vore": "insecti"
         },
         {
          "conservation": "lc",
          "genus": "Sigmodon",
          "index": 67,
          "name": "Cotton rat",
          "order": "Rodentia",
          "vore": "herbi"
         },
         {
          "conservation": "lc",
          "genus": "Spalax",
          "index": 68,
          "name": "Mole rat",
          "order": "Rodentia",
          "vore": "herbi"
         },
         {
          "conservation": "lc",
          "genus": "Spermophilus",
          "index": 69,
          "name": "Arctic ground squirrel",
          "order": "Rodentia",
          "vore": "herbi"
         },
         {
          "conservation": "lc",
          "genus": "Spermophilus",
          "index": 70,
          "name": "Thirteen-lined ground squirrel",
          "order": "Rodentia",
          "vore": "herbi"
         },
         {
          "conservation": "lc",
          "genus": "Spermophilus",
          "index": 71,
          "name": "Golden-mantled ground squirrel",
          "order": "Rodentia",
          "vore": "herbi"
         },
         {
          "conservation": "lc",
          "genus": "Suncus",
          "index": 72,
          "name": "Musk shrew",
          "order": "Soricomorpha",
          "vore": "herbi"
         },
         {
          "conservation": "lc",
          "genus": "Sus",
          "index": 73,
          "name": "Pig",
          "order": "Artiodactyla",
          "vore": "omni"
         },
         {
          "conservation": "lc",
          "genus": "Tachyglossus",
          "index": 74,
          "name": "Short-nosed echidna",
          "order": "Monotremata",
          "vore": "insecti"
         },
         {
          "conservation": "lc",
          "genus": "Tamias",
          "index": 75,
          "name": "Eastern american chipmunk",
          "order": "Rodentia",
          "vore": "herbi"
         },
         {
          "conservation": "vu",
          "genus": "Tapirus",
          "index": 76,
          "name": "Brazilian tapir",
          "order": "Perissodactyla",
          "vore": "herbi"
         },
         {
          "conservation": "lc",
          "genus": "Tenrec",
          "index": 77,
          "name": "Tenrec",
          "order": "Afrosoricida",
          "vore": "omni"
         },
         {
          "conservation": "lc",
          "genus": "Tupaia",
          "index": 78,
          "name": "Tree shrew",
          "order": "Scandentia",
          "vore": "omni"
         },
         {
          "conservation": "lc",
          "genus": "Tursiops",
          "index": 79,
          "name": "Bottle-nosed dolphin",
          "order": "Cetacea",
          "vore": "carni"
         },
         {
          "conservation": "lc",
          "genus": "Genetta",
          "index": 80,
          "name": "Genet",
          "order": "Carnivora",
          "vore": "carni"
         },
         {
          "conservation": "lc",
          "genus": "Vulpes",
          "index": 81,
          "name": "Arctic fox",
          "order": "Carnivora",
          "vore": "carni"
         },
         {
          "conservation": "lc",
          "genus": "Vulpes",
          "index": 82,
          "name": "Red fox",
          "order": "Carnivora",
          "vore": "carni"
         }
        ],
        "schema": {
         "fields": [
          {
           "name": "index",
           "type": "integer"
          },
          {
           "name": "name",
           "type": "string"
          },
          {
           "name": "genus",
           "type": "string"
          },
          {
           "name": "vore",
           "type": "string"
          },
          {
           "name": "order",
           "type": "string"
          },
          {
           "name": "conservation",
           "type": "string"
          }
         ],
         "pandas_version": "0.20.0",
         "primaryKey": [
          "index"
         ]
        }
       },
       "total_rows": 83
      },
      "text/html": [
       "<div>\n",
       "<style scoped>\n",
       "    .dataframe tbody tr th:only-of-type {\n",
       "        vertical-align: middle;\n",
       "    }\n",
       "\n",
       "    .dataframe tbody tr th {\n",
       "        vertical-align: top;\n",
       "    }\n",
       "\n",
       "    .dataframe thead th {\n",
       "        text-align: right;\n",
       "    }\n",
       "</style>\n",
       "<table border=\"1\" class=\"dataframe\">\n",
       "  <thead>\n",
       "    <tr style=\"text-align: right;\">\n",
       "      <th></th>\n",
       "      <th>name</th>\n",
       "      <th>genus</th>\n",
       "      <th>vore</th>\n",
       "      <th>order</th>\n",
       "      <th>conservation</th>\n",
       "    </tr>\n",
       "  </thead>\n",
       "  <tbody>\n",
       "    <tr>\n",
       "      <th>0</th>\n",
       "      <td>Cheetah</td>\n",
       "      <td>Acinonyx</td>\n",
       "      <td>carni</td>\n",
       "      <td>Carnivora</td>\n",
       "      <td>lc</td>\n",
       "    </tr>\n",
       "    <tr>\n",
       "      <th>1</th>\n",
       "      <td>Owl monkey</td>\n",
       "      <td>Aotus</td>\n",
       "      <td>omni</td>\n",
       "      <td>Primates</td>\n",
       "      <td>lc</td>\n",
       "    </tr>\n",
       "    <tr>\n",
       "      <th>2</th>\n",
       "      <td>Mountain beaver</td>\n",
       "      <td>Aplodontia</td>\n",
       "      <td>herbi</td>\n",
       "      <td>Rodentia</td>\n",
       "      <td>nt</td>\n",
       "    </tr>\n",
       "    <tr>\n",
       "      <th>3</th>\n",
       "      <td>Greater short-tailed shrew</td>\n",
       "      <td>Blarina</td>\n",
       "      <td>omni</td>\n",
       "      <td>Soricomorpha</td>\n",
       "      <td>lc</td>\n",
       "    </tr>\n",
       "    <tr>\n",
       "      <th>4</th>\n",
       "      <td>Cow</td>\n",
       "      <td>Bos</td>\n",
       "      <td>herbi</td>\n",
       "      <td>Artiodactyla</td>\n",
       "      <td>lc</td>\n",
       "    </tr>\n",
       "    <tr>\n",
       "      <th>...</th>\n",
       "      <td>...</td>\n",
       "      <td>...</td>\n",
       "      <td>...</td>\n",
       "      <td>...</td>\n",
       "      <td>...</td>\n",
       "    </tr>\n",
       "    <tr>\n",
       "      <th>78</th>\n",
       "      <td>Tree shrew</td>\n",
       "      <td>Tupaia</td>\n",
       "      <td>omni</td>\n",
       "      <td>Scandentia</td>\n",
       "      <td>lc</td>\n",
       "    </tr>\n",
       "    <tr>\n",
       "      <th>79</th>\n",
       "      <td>Bottle-nosed dolphin</td>\n",
       "      <td>Tursiops</td>\n",
       "      <td>carni</td>\n",
       "      <td>Cetacea</td>\n",
       "      <td>lc</td>\n",
       "    </tr>\n",
       "    <tr>\n",
       "      <th>80</th>\n",
       "      <td>Genet</td>\n",
       "      <td>Genetta</td>\n",
       "      <td>carni</td>\n",
       "      <td>Carnivora</td>\n",
       "      <td>lc</td>\n",
       "    </tr>\n",
       "    <tr>\n",
       "      <th>81</th>\n",
       "      <td>Arctic fox</td>\n",
       "      <td>Vulpes</td>\n",
       "      <td>carni</td>\n",
       "      <td>Carnivora</td>\n",
       "      <td>lc</td>\n",
       "    </tr>\n",
       "    <tr>\n",
       "      <th>82</th>\n",
       "      <td>Red fox</td>\n",
       "      <td>Vulpes</td>\n",
       "      <td>carni</td>\n",
       "      <td>Carnivora</td>\n",
       "      <td>lc</td>\n",
       "    </tr>\n",
       "  </tbody>\n",
       "</table>\n",
       "<p>83 rows × 5 columns</p>\n",
       "</div>"
      ],
      "text/plain": [
       "                          name       genus   vore         order conservation\n",
       "0                      Cheetah    Acinonyx  carni     Carnivora           lc\n",
       "1                   Owl monkey       Aotus   omni      Primates           lc\n",
       "2              Mountain beaver  Aplodontia  herbi      Rodentia           nt\n",
       "3   Greater short-tailed shrew     Blarina   omni  Soricomorpha           lc\n",
       "4                          Cow         Bos  herbi  Artiodactyla           lc\n",
       "..                         ...         ...    ...           ...          ...\n",
       "78                  Tree shrew      Tupaia   omni    Scandentia           lc\n",
       "79        Bottle-nosed dolphin    Tursiops  carni       Cetacea           lc\n",
       "80                       Genet     Genetta  carni     Carnivora           lc\n",
       "81                  Arctic fox      Vulpes  carni     Carnivora           lc\n",
       "82                     Red fox      Vulpes  carni     Carnivora           lc\n",
       "\n",
       "[83 rows x 5 columns]"
      ]
     },
     "execution_count": 17,
     "metadata": {},
     "output_type": "execute_result"
    }
   ],
   "source": [
    "simp_mf = si.SimpleImputer(strategy=\"most_frequent\")\n",
    "pd.DataFrame(simp_mf.fit_transform(msleep_cat), columns=msleep_cat.columns)"
   ]
  },
  {
   "cell_type": "markdown",
   "id": "4dae8a89-3f83-4a8d-be34-6bbce7a3a2dc",
   "metadata": {},
   "source": [
    "Again, this isn't ideal, but there aren't really any good alternatives built-in to **scikit-learn**."
   ]
  },
  {
   "cell_type": "markdown",
   "id": "ccdcdf51-b405-47dd-9ebd-4f6272caeb9e",
   "metadata": {},
   "source": [
    "## Using iterative methods to find the best replacement"
   ]
  },
  {
   "cell_type": "markdown",
   "id": "d2f4806e-9d80-4dac-8e8e-147f41d85634",
   "metadata": {},
   "source": [
    "A more sophisticated option is to use [`IterativeImputer()`](https://scikit-learn.org/stable/modules/generated/sklearn.impute.IterativeImputer.html). This fits a predictive model (a Bayesian Ridge Regression) to each column, one at a time using the non missing values in the other columns. By repeating this process several times (iterating), more and more missing data gets filled in.\n",
    "\n",
    "As with replacing using the mean, this only works with numeric columns.\n",
    "\n",
    "`IterativeImputer()` should be your default starting point for most imputation. As of **scikit learn** `1.0.2`, it's considered  experimental, so you need to enable it before using it."
   ]
  },
  {
   "cell_type": "code",
   "execution_count": null,
   "id": "f8ca283b-6bb5-4c95-834a-0b3c89725787",
   "metadata": {},
   "outputs": [
    {
     "data": {
      "application/com.datacamp.data-table.v1+json": {
       "is_truncated": false,
       "table": {
        "data": [
         {
          "awake": 11.9,
          "bodywt": 50,
          "brainwt": 0.1361265284,
          "index": 0,
          "sleep_cycle": 0.4270487007,
          "sleep_rem": 2.2460162176,
          "sleep_total": 12.1
         },
         {
          "awake": 7,
          "bodywt": 0.48,
          "brainwt": 0.0155,
          "index": 1,
          "sleep_cycle": 0.2529887798,
          "sleep_rem": 1.8,
          "sleep_total": 17
         },
         {
          "awake": 9.6,
          "bodywt": 1.35,
          "brainwt": 0.086455052,
          "index": 2,
          "sleep_cycle": 0.3485571375,
          "sleep_rem": 2.4,
          "sleep_total": 14.4
         },
         {
          "awake": 9.1,
          "bodywt": 0.019,
          "brainwt": 0.00029,
          "index": 3,
          "sleep_cycle": 0.133333333,
          "sleep_rem": 2.3,
          "sleep_total": 14.9
         },
         {
          "awake": 20,
          "bodywt": 600,
          "brainwt": 0.423,
          "index": 4,
          "sleep_cycle": 0.666666667,
          "sleep_rem": 0.7,
          "sleep_total": 4
         },
         {
          "awake": 9.6,
          "bodywt": 3.85,
          "brainwt": 0.4314728222,
          "index": 5,
          "sleep_cycle": 0.766666667,
          "sleep_rem": 2.2,
          "sleep_total": 14.4
         },
         {
          "awake": 15.3,
          "bodywt": 20.49,
          "brainwt": 0.0420477078,
          "index": 6,
          "sleep_cycle": 0.383333333,
          "sleep_rem": 1.4,
          "sleep_total": 8.7
         },
         {
          "awake": 17,
          "bodywt": 0.045,
          "brainwt": 0.0977692361,
          "index": 7,
          "sleep_cycle": 0.4872654584,
          "sleep_rem": 1.0949121412,
          "sleep_total": 7
         },
         {
          "awake": 13.9,
          "bodywt": 14,
          "brainwt": 0.07,
          "index": 8,
          "sleep_cycle": 0.333333333,
          "sleep_rem": 2.9,
          "sleep_total": 10.1
         },
         {
          "awake": 21,
          "bodywt": 14.8,
          "brainwt": 0.0982,
          "index": 9,
          "sleep_cycle": 0.5579047138,
          "sleep_rem": 0.2203242893,
          "sleep_total": 3
         },
         {
          "awake": 18.7,
          "bodywt": 33.5,
          "brainwt": 0.115,
          "index": 10,
          "sleep_cycle": 0.5332343098,
          "sleep_rem": 0.6,
          "sleep_total": 5.3
         },
         {
          "awake": 14.6,
          "bodywt": 0.728,
          "brainwt": 0.0055,
          "index": 11,
          "sleep_cycle": 0.216666667,
          "sleep_rem": 0.8,
          "sleep_total": 9.4
         },
         {
          "awake": 14,
          "bodywt": 4.75,
          "brainwt": 0.1008612934,
          "index": 12,
          "sleep_cycle": 0.4549405987,
          "sleep_rem": 0.7,
          "sleep_total": 10
         },
         {
          "awake": 11.5,
          "bodywt": 0.42,
          "brainwt": 0.0064,
          "index": 13,
          "sleep_cycle": 0.116666667,
          "sleep_rem": 1.5,
          "sleep_total": 12.5
         },
         {
          "awake": 13.7,
          "bodywt": 0.06,
          "brainwt": 0.001,
          "index": 14,
          "sleep_cycle": 0.3252648604,
          "sleep_rem": 2.2,
          "sleep_total": 10.3
         },
         {
          "awake": 15.7,
          "bodywt": 1,
          "brainwt": 0.0066,
          "index": 15,
          "sleep_cycle": 0.3623408443,
          "sleep_rem": 2,
          "sleep_total": 8.3
         },
         {
          "awake": 14.9,
          "bodywt": 0.005,
          "brainwt": 0.00014,
          "index": 16,
          "sleep_cycle": 0.15,
          "sleep_rem": 1.4,
          "sleep_total": 9.1
         },
         {
          "awake": 6.6,
          "bodywt": 3.5,
          "brainwt": 0.0108,
          "index": 17,
          "sleep_cycle": 0.383333333,
          "sleep_rem": 3.1,
          "sleep_total": 17.4
         },
         {
          "awake": 18.7,
          "bodywt": 2.95,
          "brainwt": 0.0123,
          "index": 18,
          "sleep_cycle": 0.4370392469,
          "sleep_rem": 0.5,
          "sleep_total": 5.3
         },
         {
          "awake": 6,
          "bodywt": 1.7,
          "brainwt": 0.0063,
          "index": 19,
          "sleep_cycle": 0.333333333,
          "sleep_rem": 4.9,
          "sleep_total": 18
         },
         {
          "awake": 20.1,
          "bodywt": 2547,
          "brainwt": 4.603,
          "index": 20,
          "sleep_cycle": 4.6787883978,
          "sleep_rem": 1.7368391173,
          "sleep_total": 3.9
         },
         {
          "awake": 4.3,
          "bodywt": 0.023,
          "brainwt": 0.0003,
          "index": 21,
          "sleep_cycle": 0.116666667,
          "sleep_rem": 3.9,
          "sleep_total": 19.7
         },
         {
          "awake": 21.1,
          "bodywt": 521,
          "brainwt": 0.655,
          "index": 22,
          "sleep_cycle": 1,
          "sleep_rem": 0.6,
          "sleep_total": 2.9
         },
         {
          "awake": 20.9,
          "bodywt": 187,
          "brainwt": 0.419,
          "index": 23,
          "sleep_cycle": 0.8505004185,
          "sleep_rem": 0.4,
          "sleep_total": 3.1
         },
         {
          "awake": 13.9,
          "bodywt": 0.77,
          "brainwt": 0.0035,
          "index": 24,
          "sleep_cycle": 0.283333333,
          "sleep_rem": 3.5,
          "sleep_total": 10.1
         },
         {
          "awake": 13.1,
          "bodywt": 10,
          "brainwt": 0.115,
          "index": 25,
          "sleep_cycle": 0.4484356885,
          "sleep_rem": 1.1,
          "sleep_total": 10.9
         },
         {
          "awake": 9.1,
          "bodywt": 0.071,
          "brainwt": 0.0829577448,
          "index": 26,
          "sleep_cycle": 0.3302896556,
          "sleep_rem": 2.8375302364,
          "sleep_total": 14.9
         },
         {
          "awake": 11.5,
          "bodywt": 3.3,
          "brainwt": 0.0256,
          "index": 27,
          "sleep_cycle": 0.416666667,
          "sleep_rem": 3.2,
          "sleep_total": 12.5
         },
         {
          "awake": 14.2,
          "bodywt": 0.2,
          "brainwt": 0.005,
          "index": 28,
          "sleep_cycle": 0.55,
          "sleep_rem": 1.1,
          "sleep_total": 9.8
         },
         {
          "awake": 22.1,
          "bodywt": 899.995,
          "brainwt": 0.9710051781,
          "index": 29,
          "sleep_cycle": 1.3305228976,
          "sleep_rem": 0.4,
          "sleep_total": 1.9
         },
         {
          "awake": 21.35,
          "bodywt": 800,
          "brainwt": 0.8752622408,
          "index": 30,
          "sleep_cycle": 1.2420367948,
          "sleep_rem": 0.1,
          "sleep_total": 2.7
         },
         {
          "awake": 17.8,
          "bodywt": 85,
          "brainwt": 0.325,
          "index": 31,
          "sleep_cycle": 0.7059540163,
          "sleep_rem": 1.5,
          "sleep_total": 6.2
         },
         {
          "awake": 17.7,
          "bodywt": 2.625,
          "brainwt": 0.01227,
          "index": 32,
          "sleep_cycle": 0.4212235279,
          "sleep_rem": 0.6,
          "sleep_total": 6.3
         },
         {
          "awake": 16,
          "bodywt": 62,
          "brainwt": 1.32,
          "index": 33,
          "sleep_cycle": 1.5,
          "sleep_rem": 1.9,
          "sleep_total": 8
         },
         {
          "awake": 14.5,
          "bodywt": 1.67,
          "brainwt": 0.0976113283,
          "index": 34,
          "sleep_cycle": 0.4554505266,
          "sleep_rem": 0.9,
          "sleep_total": 9.5
         },
         {
          "awake": 20.7,
          "bodywt": 6654,
          "brainwt": 5.712,
          "index": 35,
          "sleep_cycle": 5.271043933,
          "sleep_rem": 3.7619597048,
          "sleep_total": 3.3
         },
         {
          "awake": 4.6,
          "bodywt": 0.37,
          "brainwt": 0.0638926933,
          "index": 36,
          "sleep_cycle": 0.1799729765,
          "sleep_rem": 6.6,
          "sleep_total": 19.4
         },
         {
          "awake": 13.9,
          "bodywt": 6.8,
          "brainwt": 0.179,
          "index": 37,
          "sleep_cycle": 0.75,
          "sleep_rem": 1.2,
          "sleep_total": 10.1
         },
         {
          "awake": 9.8,
          "bodywt": 0.053,
          "brainwt": 0.0873848636,
          "index": 38,
          "sleep_cycle": 0.3615183639,
          "sleep_rem": 1.9,
          "sleep_total": 14.2
         },
         {
          "awake": 9.7,
          "bodywt": 0.12,
          "brainwt": 0.001,
          "index": 39,
          "sleep_cycle": 0.2,
          "sleep_rem": 3.1,
          "sleep_total": 14.3
         },
         {
          "awake": 11.2,
          "bodywt": 0.035,
          "brainwt": 0.0868670641,
          "index": 40,
          "sleep_cycle": 0.3719934473,
          "sleep_rem": 2.3742874252,
          "sleep_total": 12.8
         },
         {
          "awake": 11.5,
          "bodywt": 0.022,
          "brainwt": 0.0004,
          "index": 41,
          "sleep_cycle": 0.183333333,
          "sleep_rem": 1.4,
          "sleep_total": 12.5
         },
         {
          "awake": 4.1,
          "bodywt": 0.01,
          "brainwt": 0.00025,
          "index": 42,
          "sleep_cycle": 0.2,
          "sleep_rem": 2,
          "sleep_total": 19.9
         },
         {
          "awake": 9.4,
          "bodywt": 0.266,
          "brainwt": 0.0837082698,
          "index": 43,
          "sleep_cycle": 0.3364121494,
          "sleep_rem": 2.7714573871,
          "sleep_total": 14.6
         },
         {
          "awake": 13,
          "bodywt": 1.4,
          "brainwt": 0.0125,
          "index": 44,
          "sleep_cycle": 0.3307099024,
          "sleep_rem": 1.978190047,
          "sleep_total": 11
         },
         {
          "awake": 16.3,
          "bodywt": 0.21,
          "brainwt": 0.0980148902,
          "index": 45,
          "sleep_cycle": 0.4812289402,
          "sleep_rem": 0.9,
          "sleep_total": 7.7
         },
         {
          "awake": 9.5,
          "bodywt": 0.028,
          "brainwt": 0.0836676955,
          "index": 46,
          "sleep_cycle": 0.3382034728,
          "sleep_rem": 2.7492746041,
          "sleep_total": 14.5
         },
         {
          "awake": 15.6,
          "bodywt": 2.5,
          "brainwt": 0.0121,
          "index": 47,
          "sleep_cycle": 0.416666667,
          "sleep_rem": 0.9,
          "sleep_total": 8.4
         },
         {
          "awake": 20.2,
          "bodywt": 55.5,
          "brainwt": 0.175,
          "index": 48,
          "sleep_cycle": 0.6110234372,
          "sleep_rem": 0.6,
          "sleep_total": 3.8
         },
         {
          "awake": 14.3,
          "bodywt": 52.2,
          "brainwt": 0.44,
          "index": 49,
          "sleep_cycle": 1.416666667,
          "sleep_rem": 1.4,
          "sleep_total": 9.7
         },
         {
          "awake": 8.2,
          "bodywt": 162.564,
          "brainwt": 0.2371906911,
          "index": 50,
          "sleep_cycle": 0.446210152,
          "sleep_rem": 3.1210551932,
          "sleep_total": 15.8
         },
         {
          "awake": 13.6,
          "bodywt": 100,
          "brainwt": 0.157,
          "index": 51,
          "sleep_cycle": 0.4720449958,
          "sleep_rem": 1.8972612346,
          "sleep_total": 10.4
         },
         {
          "awake": 10.5,
          "bodywt": 161.499,
          "brainwt": 0.2404882205,
          "index": 52,
          "sleep_cycle": 0.4910412179,
          "sleep_rem": 2.6131575407,
          "sleep_total": 13.5
         },
         {
          "awake": 14.6,
          "bodywt": 25.235,
          "brainwt": 0.18,
          "index": 53,
          "sleep_cycle": 0.666666667,
          "sleep_rem": 1,
          "sleep_total": 9.4
         },
         {
          "awake": 13.7,
          "bodywt": 0.55,
          "brainwt": 0.0024,
          "index": 54,
          "sleep_cycle": 0.3175020865,
          "sleep_rem": 2.7,
          "sleep_total": 10.3
         },
         {
          "awake": 13,
          "bodywt": 1.1,
          "brainwt": 0.0912694594,
          "index": 55,
          "sleep_cycle": 0.4086419476,
          "sleep_rem": 1.9777954034,
          "sleep_total": 11
         },
         {
          "awake": 12.5,
          "bodywt": 0.021,
          "brainwt": 0.0892950697,
          "index": 56,
          "sleep_cycle": 0.3978169033,
          "sleep_rem": 2.0875224001,
          "sleep_total": 11.5
         },
         {
          "awake": 10.3,
          "bodywt": 1.62,
          "brainwt": 0.0114,
          "index": 57,
          "sleep_cycle": 0.2950210685,
          "sleep_rem": 1.8,
          "sleep_total": 13.7
         },
         {
          "awake": 20.5,
          "bodywt": 86,
          "brainwt": 0.1866999041,
          "index": 58,
          "sleep_cycle": 0.626896002,
          "sleep_rem": 0.4,
          "sleep_total": 3.5
         },
         {
          "awake": 18.45,
          "bodywt": 53.18,
          "brainwt": 0.1514321387,
          "index": 59,
          "sleep_cycle": 0.5593392509,
          "sleep_rem": 0.8083672614,
          "sleep_total": 5.6
         },
         {
          "awake": 12.9,
          "bodywt": 1.1,
          "brainwt": 0.0930852973,
          "index": 60,
          "sleep_cycle": 0.4177236141,
          "sleep_rem": 1.5,
          "sleep_total": 11.1
         },
         {
          "awake": 5.9,
          "bodywt": 60,
          "brainwt": 0.081,
          "index": 61,
          "sleep_cycle": 0.2172766413,
          "sleep_rem": 6.1,
          "sleep_total": 18.1
         },
         {
          "awake": 18.6,
          "bodywt": 3.6,
          "brainwt": 0.021,
          "index": 62,
          "sleep_cycle": 0.4441662318,
          "sleep_rem": 0.5,
          "sleep_total": 5.4
         },
         {
          "awake": 11,
          "bodywt": 0.32,
          "brainwt": 0.0019,
          "index": 63,
          "sleep_cycle": 0.183333333,
          "sleep_rem": 2.4,
          "sleep_total": 13
         },
         {
          "awake": 15.3,
          "bodywt": 0.044,
          "brainwt": 0.0945756248,
          "index": 64,
          "sleep_cycle": 0.4534804246,
          "sleep_rem": 1.4699024587,
          "sleep_total": 8.7
         },
         {
          "awake": 14.4,
          "bodywt": 0.743,
          "brainwt": 0.02,
          "index": 65,
          "sleep_cycle": 0.3683221276,
          "sleep_rem": 1.4,
          "sleep_total": 9.6
         },
         {
          "awake": 15.6,
          "bodywt": 0.075,
          "brainwt": 0.0012,
          "index": 66,
          "sleep_cycle": 0.166666667,
          "sleep_rem": 2.1,
          "sleep_total": 8.4
         },
         {
          "awake": 12.7,
          "bodywt": 0.148,
          "brainwt": 0.00118,
          "index": 67,
          "sleep_cycle": 0.15,
          "sleep_rem": 1.1,
          "sleep_total": 11.3
         },
         {
          "awake": 13.4,
          "bodywt": 0.122,
          "brainwt": 0.003,
          "index": 68,
          "sleep_cycle": 0.3193975105,
          "sleep_rem": 2.4,
          "sleep_total": 10.6
         },
         {
          "awake": 7.4,
          "bodywt": 0.92,
          "brainwt": 0.0057,
          "index": 69,
          "sleep_cycle": 0.2231562925,
          "sleep_rem": 3.2132090915,
          "sleep_total": 16.6
         },
         {
          "awake": 10.2,
          "bodywt": 0.101,
          "brainwt": 0.004,
          "index": 70,
          "sleep_cycle": 0.216666667,
          "sleep_rem": 3.4,
          "sleep_total": 13.8
         },
         {
          "awake": 8.1,
          "bodywt": 0.205,
          "brainwt": 0.0814765412,
          "index": 71,
          "sleep_cycle": 0.3118499962,
          "sleep_rem": 3,
          "sleep_total": 15.9
         },
         {
          "awake": 11.2,
          "bodywt": 0.048,
          "brainwt": 0.00033,
          "index": 72,
          "sleep_cycle": 0.183333333,
          "sleep_rem": 2,
          "sleep_total": 12.8
         },
         {
          "awake": 14.9,
          "bodywt": 86.25,
          "brainwt": 0.18,
          "index": 73,
          "sleep_cycle": 0.5,
          "sleep_rem": 2.4,
          "sleep_total": 9.1
         },
         {
          "awake": 15.4,
          "bodywt": 4.5,
          "brainwt": 0.025,
          "index": 74,
          "sleep_cycle": 0.3859204676,
          "sleep_rem": 1.4503884488,
          "sleep_total": 8.6
         },
         {
          "awake": 8.2,
          "bodywt": 0.112,
          "brainwt": 0.0813068598,
          "index": 75,
          "sleep_cycle": 0.3124376589,
          "sleep_rem": 3.0360762463,
          "sleep_total": 15.8
         },
         {
          "awake": 19.6,
          "bodywt": 207.501,
          "brainwt": 0.169,
          "index": 76,
          "sleep_cycle": 0.9,
          "sleep_rem": 1,
          "sleep_total": 4.4
         },
         {
          "awake": 8.4,
          "bodywt": 0.9,
          "brainwt": 0.0026,
          "index": 77,
          "sleep_cycle": 0.2507016616,
          "sleep_rem": 2.3,
          "sleep_total": 15.6
         },
         {
          "awake": 15.1,
          "bodywt": 0.104,
          "brainwt": 0.0025,
          "index": 78,
          "sleep_cycle": 0.233333333,
          "sleep_rem": 2.6,
          "sleep_total": 8.9
         },
         {
          "awake": 18.8,
          "bodywt": 173.33,
          "brainwt": 0.2674285283,
          "index": 79,
          "sleep_cycle": 0.6657299951,
          "sleep_rem": 0.7885087255,
          "sleep_total": 5.2
         },
         {
          "awake": 17.7,
          "bodywt": 2,
          "brainwt": 0.0175,
          "index": 80,
          "sleep_cycle": 0.4137410675,
          "sleep_rem": 1.3,
          "sleep_total": 6.3
         },
         {
          "awake": 11.5,
          "bodywt": 3.38,
          "brainwt": 0.0445,
          "index": 81,
          "sleep_cycle": 0.3350821945,
          "sleep_rem": 2.3100001266,
          "sleep_total": 12.5
         },
         {
          "awake": 14.2,
          "bodywt": 4.23,
          "brainwt": 0.0504,
          "index": 82,
          "sleep_cycle": 0.35,
          "sleep_rem": 2.4,
          "sleep_total": 9.8
         }
        ],
        "schema": {
         "fields": [
          {
           "name": "index",
           "type": "integer"
          },
          {
           "name": "sleep_total",
           "type": "number"
          },
          {
           "name": "sleep_rem",
           "type": "number"
          },
          {
           "name": "sleep_cycle",
           "type": "number"
          },
          {
           "name": "awake",
           "type": "number"
          },
          {
           "name": "brainwt",
           "type": "number"
          },
          {
           "name": "bodywt",
           "type": "number"
          }
         ],
         "pandas_version": "0.20.0",
         "primaryKey": [
          "index"
         ]
        }
       },
       "total_rows": 83
      },
      "text/html": [
       "<div>\n",
       "<style scoped>\n",
       "    .dataframe tbody tr th:only-of-type {\n",
       "        vertical-align: middle;\n",
       "    }\n",
       "\n",
       "    .dataframe tbody tr th {\n",
       "        vertical-align: top;\n",
       "    }\n",
       "\n",
       "    .dataframe thead th {\n",
       "        text-align: right;\n",
       "    }\n",
       "</style>\n",
       "<table border=\"1\" class=\"dataframe\">\n",
       "  <thead>\n",
       "    <tr style=\"text-align: right;\">\n",
       "      <th></th>\n",
       "      <th>sleep_total</th>\n",
       "      <th>sleep_rem</th>\n",
       "      <th>sleep_cycle</th>\n",
       "      <th>awake</th>\n",
       "      <th>brainwt</th>\n",
       "      <th>bodywt</th>\n",
       "    </tr>\n",
       "  </thead>\n",
       "  <tbody>\n",
       "    <tr>\n",
       "      <th>0</th>\n",
       "      <td>12.1</td>\n",
       "      <td>2.246016</td>\n",
       "      <td>0.427049</td>\n",
       "      <td>11.9</td>\n",
       "      <td>0.136127</td>\n",
       "      <td>50.000</td>\n",
       "    </tr>\n",
       "    <tr>\n",
       "      <th>1</th>\n",
       "      <td>17.0</td>\n",
       "      <td>1.800000</td>\n",
       "      <td>0.252989</td>\n",
       "      <td>7.0</td>\n",
       "      <td>0.015500</td>\n",
       "      <td>0.480</td>\n",
       "    </tr>\n",
       "    <tr>\n",
       "      <th>2</th>\n",
       "      <td>14.4</td>\n",
       "      <td>2.400000</td>\n",
       "      <td>0.348557</td>\n",
       "      <td>9.6</td>\n",
       "      <td>0.086455</td>\n",
       "      <td>1.350</td>\n",
       "    </tr>\n",
       "    <tr>\n",
       "      <th>3</th>\n",
       "      <td>14.9</td>\n",
       "      <td>2.300000</td>\n",
       "      <td>0.133333</td>\n",
       "      <td>9.1</td>\n",
       "      <td>0.000290</td>\n",
       "      <td>0.019</td>\n",
       "    </tr>\n",
       "    <tr>\n",
       "      <th>4</th>\n",
       "      <td>4.0</td>\n",
       "      <td>0.700000</td>\n",
       "      <td>0.666667</td>\n",
       "      <td>20.0</td>\n",
       "      <td>0.423000</td>\n",
       "      <td>600.000</td>\n",
       "    </tr>\n",
       "    <tr>\n",
       "      <th>...</th>\n",
       "      <td>...</td>\n",
       "      <td>...</td>\n",
       "      <td>...</td>\n",
       "      <td>...</td>\n",
       "      <td>...</td>\n",
       "      <td>...</td>\n",
       "    </tr>\n",
       "    <tr>\n",
       "      <th>78</th>\n",
       "      <td>8.9</td>\n",
       "      <td>2.600000</td>\n",
       "      <td>0.233333</td>\n",
       "      <td>15.1</td>\n",
       "      <td>0.002500</td>\n",
       "      <td>0.104</td>\n",
       "    </tr>\n",
       "    <tr>\n",
       "      <th>79</th>\n",
       "      <td>5.2</td>\n",
       "      <td>0.788509</td>\n",
       "      <td>0.665730</td>\n",
       "      <td>18.8</td>\n",
       "      <td>0.267429</td>\n",
       "      <td>173.330</td>\n",
       "    </tr>\n",
       "    <tr>\n",
       "      <th>80</th>\n",
       "      <td>6.3</td>\n",
       "      <td>1.300000</td>\n",
       "      <td>0.413741</td>\n",
       "      <td>17.7</td>\n",
       "      <td>0.017500</td>\n",
       "      <td>2.000</td>\n",
       "    </tr>\n",
       "    <tr>\n",
       "      <th>81</th>\n",
       "      <td>12.5</td>\n",
       "      <td>2.310000</td>\n",
       "      <td>0.335082</td>\n",
       "      <td>11.5</td>\n",
       "      <td>0.044500</td>\n",
       "      <td>3.380</td>\n",
       "    </tr>\n",
       "    <tr>\n",
       "      <th>82</th>\n",
       "      <td>9.8</td>\n",
       "      <td>2.400000</td>\n",
       "      <td>0.350000</td>\n",
       "      <td>14.2</td>\n",
       "      <td>0.050400</td>\n",
       "      <td>4.230</td>\n",
       "    </tr>\n",
       "  </tbody>\n",
       "</table>\n",
       "<p>83 rows × 6 columns</p>\n",
       "</div>"
      ],
      "text/plain": [
       "    sleep_total  sleep_rem  sleep_cycle  awake   brainwt   bodywt\n",
       "0          12.1   2.246016     0.427049   11.9  0.136127   50.000\n",
       "1          17.0   1.800000     0.252989    7.0  0.015500    0.480\n",
       "2          14.4   2.400000     0.348557    9.6  0.086455    1.350\n",
       "3          14.9   2.300000     0.133333    9.1  0.000290    0.019\n",
       "4           4.0   0.700000     0.666667   20.0  0.423000  600.000\n",
       "..          ...        ...          ...    ...       ...      ...\n",
       "78          8.9   2.600000     0.233333   15.1  0.002500    0.104\n",
       "79          5.2   0.788509     0.665730   18.8  0.267429  173.330\n",
       "80          6.3   1.300000     0.413741   17.7  0.017500    2.000\n",
       "81         12.5   2.310000     0.335082   11.5  0.044500    3.380\n",
       "82          9.8   2.400000     0.350000   14.2  0.050400    4.230\n",
       "\n",
       "[83 rows x 6 columns]"
      ]
     },
     "execution_count": 18,
     "metadata": {},
     "output_type": "execute_result"
    }
   ],
   "source": [
    "from sklearn.experimental import enable_iterative_imputer\n",
    "iimp = si.IterativeImputer()\n",
    "pd.DataFrame(iimp.fit_transform(msleep_num), columns=msleep_num.columns)"
   ]
  },
  {
   "cell_type": "markdown",
   "id": "5082f9d5-58ab-45f0-9cf3-16dad3c17393",
   "metadata": {},
   "source": [
    "Notice that this time, the first three mising values in `sleep_cycle` have been replaced with different values."
   ]
  },
  {
   "cell_type": "markdown",
   "id": "747564ca-feb5-4cba-9fd6-0a52f21a305a",
   "metadata": {},
   "source": [
    "## Where can I learn more?"
   ]
  },
  {
   "cell_type": "markdown",
   "id": "a5a730f2-ca49-440d-9f9f-3bfaf26ee736",
   "metadata": {},
   "source": [
    "- DataCamp's [Dealing with Missing Data in Python](https://app.datacamp.com/learn/courses/dealing-with-missing-data-in-python), [Cleaning Data in Python](https://app.datacamp.com/learn/courses/cleaning-data-in-python) and [Machine Learning with scikit-learn](https://app.datacamp.com/learn/courses/machine-learning-with-scikit-learn) courses.\n",
    "- pandas [Working with Missing Data](https://pandas.pydata.org/pandas-docs/stable/user_guide/missing_data.html) tutorial.\n",
    "- scikit-learn [Imputation of missing values](https://scikit-learn.org/stable/modules/impute.html) tutorial."
   ]
  }
 ],
 "metadata": {
  "colab": {
   "name": "Welcome to DataCamp Workspaces.ipynb",
   "provenance": []
  },
  "editor": "DataCamp Workspace",
  "kernelspec": {
   "display_name": "Python 3 (ipykernel)",
   "language": "python",
   "name": "python3"
  },
  "language_info": {
   "codemirror_mode": {
    "name": "ipython",
    "version": 3
   },
   "file_extension": ".py",
   "mimetype": "text/x-python",
   "name": "python",
   "nbconvert_exporter": "python",
   "pygments_lexer": "ipython3",
   "version": "3.8.10"
  }
 },
 "nbformat": 4,
 "nbformat_minor": 5
}
